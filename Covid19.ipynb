{
 "cells": [
  {
   "cell_type": "code",
   "execution_count": 71,
   "metadata": {
    "executionInfo": {
     "elapsed": 945,
     "status": "ok",
     "timestamp": 1603157756659,
     "user": {
      "displayName": "Nilava Kar",
      "photoUrl": "https://lh3.googleusercontent.com/-LtetLvd71MA/AAAAAAAAAAI/AAAAAAAAIJ8/ZzFR0tU6osg/s64/photo.jpg",
      "userId": "00608076695026843354"
     },
     "user_tz": -330
    },
    "id": "TeO_TNGd72az"
   },
   "outputs": [],
   "source": [
    "import pandas as pd\n",
    "import seaborn as sns\n",
    "import numpy as np\n",
    "import matplotlib.pyplot as plt"
   ]
  },
  {
   "cell_type": "code",
   "execution_count": 72,
   "metadata": {
    "executionInfo": {
     "elapsed": 2319,
     "status": "ok",
     "timestamp": 1603157760334,
     "user": {
      "displayName": "Nilava Kar",
      "photoUrl": "https://lh3.googleusercontent.com/-LtetLvd71MA/AAAAAAAAAAI/AAAAAAAAIJ8/ZzFR0tU6osg/s64/photo.jpg",
      "userId": "00608076695026843354"
     },
     "user_tz": -330
    },
    "id": "Bp_jQV2M9L9R"
   },
   "outputs": [],
   "source": [
    "df = pd.read_csv(\"owid-covid-data (1).csv\")"
   ]
  },
  {
   "cell_type": "code",
   "execution_count": 73,
   "metadata": {
    "colab": {
     "base_uri": "https://localhost:8080/",
     "height": 309
    },
    "executionInfo": {
     "elapsed": 1012,
     "status": "ok",
     "timestamp": 1603158032134,
     "user": {
      "displayName": "Nilava Kar",
      "photoUrl": "https://lh3.googleusercontent.com/-LtetLvd71MA/AAAAAAAAAAI/AAAAAAAAIJ8/ZzFR0tU6osg/s64/photo.jpg",
      "userId": "00608076695026843354"
     },
     "user_tz": -330
    },
    "id": "ApHPXSrR9Yg4",
    "outputId": "68ac299c-f4f9-449a-f1d0-7f55b03e0a47"
   },
   "outputs": [
    {
     "data": {
      "text/html": [
       "<div>\n",
       "<style scoped>\n",
       "    .dataframe tbody tr th:only-of-type {\n",
       "        vertical-align: middle;\n",
       "    }\n",
       "\n",
       "    .dataframe tbody tr th {\n",
       "        vertical-align: top;\n",
       "    }\n",
       "\n",
       "    .dataframe thead th {\n",
       "        text-align: right;\n",
       "    }\n",
       "</style>\n",
       "<table border=\"1\" class=\"dataframe\">\n",
       "  <thead>\n",
       "    <tr style=\"text-align: right;\">\n",
       "      <th></th>\n",
       "      <th>iso_code</th>\n",
       "      <th>continent</th>\n",
       "      <th>location</th>\n",
       "      <th>date</th>\n",
       "      <th>total_cases</th>\n",
       "      <th>new_cases</th>\n",
       "      <th>new_cases_smoothed</th>\n",
       "      <th>total_deaths</th>\n",
       "      <th>new_deaths</th>\n",
       "      <th>new_deaths_smoothed</th>\n",
       "      <th>...</th>\n",
       "      <th>gdp_per_capita</th>\n",
       "      <th>extreme_poverty</th>\n",
       "      <th>cardiovasc_death_rate</th>\n",
       "      <th>diabetes_prevalence</th>\n",
       "      <th>female_smokers</th>\n",
       "      <th>male_smokers</th>\n",
       "      <th>handwashing_facilities</th>\n",
       "      <th>hospital_beds_per_thousand</th>\n",
       "      <th>life_expectancy</th>\n",
       "      <th>human_development_index</th>\n",
       "    </tr>\n",
       "  </thead>\n",
       "  <tbody>\n",
       "    <tr>\n",
       "      <th>0</th>\n",
       "      <td>AFG</td>\n",
       "      <td>Asia</td>\n",
       "      <td>Afghanistan</td>\n",
       "      <td>2019-12-31</td>\n",
       "      <td>NaN</td>\n",
       "      <td>0.0</td>\n",
       "      <td>NaN</td>\n",
       "      <td>NaN</td>\n",
       "      <td>0.0</td>\n",
       "      <td>NaN</td>\n",
       "      <td>...</td>\n",
       "      <td>1803.987</td>\n",
       "      <td>NaN</td>\n",
       "      <td>597.029</td>\n",
       "      <td>9.59</td>\n",
       "      <td>NaN</td>\n",
       "      <td>NaN</td>\n",
       "      <td>37.746</td>\n",
       "      <td>0.5</td>\n",
       "      <td>64.83</td>\n",
       "      <td>0.498</td>\n",
       "    </tr>\n",
       "    <tr>\n",
       "      <th>1</th>\n",
       "      <td>AFG</td>\n",
       "      <td>Asia</td>\n",
       "      <td>Afghanistan</td>\n",
       "      <td>2020-01-01</td>\n",
       "      <td>NaN</td>\n",
       "      <td>0.0</td>\n",
       "      <td>NaN</td>\n",
       "      <td>NaN</td>\n",
       "      <td>0.0</td>\n",
       "      <td>NaN</td>\n",
       "      <td>...</td>\n",
       "      <td>1803.987</td>\n",
       "      <td>NaN</td>\n",
       "      <td>597.029</td>\n",
       "      <td>9.59</td>\n",
       "      <td>NaN</td>\n",
       "      <td>NaN</td>\n",
       "      <td>37.746</td>\n",
       "      <td>0.5</td>\n",
       "      <td>64.83</td>\n",
       "      <td>0.498</td>\n",
       "    </tr>\n",
       "    <tr>\n",
       "      <th>2</th>\n",
       "      <td>AFG</td>\n",
       "      <td>Asia</td>\n",
       "      <td>Afghanistan</td>\n",
       "      <td>2020-01-02</td>\n",
       "      <td>NaN</td>\n",
       "      <td>0.0</td>\n",
       "      <td>NaN</td>\n",
       "      <td>NaN</td>\n",
       "      <td>0.0</td>\n",
       "      <td>NaN</td>\n",
       "      <td>...</td>\n",
       "      <td>1803.987</td>\n",
       "      <td>NaN</td>\n",
       "      <td>597.029</td>\n",
       "      <td>9.59</td>\n",
       "      <td>NaN</td>\n",
       "      <td>NaN</td>\n",
       "      <td>37.746</td>\n",
       "      <td>0.5</td>\n",
       "      <td>64.83</td>\n",
       "      <td>0.498</td>\n",
       "    </tr>\n",
       "    <tr>\n",
       "      <th>3</th>\n",
       "      <td>AFG</td>\n",
       "      <td>Asia</td>\n",
       "      <td>Afghanistan</td>\n",
       "      <td>2020-01-03</td>\n",
       "      <td>NaN</td>\n",
       "      <td>0.0</td>\n",
       "      <td>NaN</td>\n",
       "      <td>NaN</td>\n",
       "      <td>0.0</td>\n",
       "      <td>NaN</td>\n",
       "      <td>...</td>\n",
       "      <td>1803.987</td>\n",
       "      <td>NaN</td>\n",
       "      <td>597.029</td>\n",
       "      <td>9.59</td>\n",
       "      <td>NaN</td>\n",
       "      <td>NaN</td>\n",
       "      <td>37.746</td>\n",
       "      <td>0.5</td>\n",
       "      <td>64.83</td>\n",
       "      <td>0.498</td>\n",
       "    </tr>\n",
       "    <tr>\n",
       "      <th>4</th>\n",
       "      <td>AFG</td>\n",
       "      <td>Asia</td>\n",
       "      <td>Afghanistan</td>\n",
       "      <td>2020-01-04</td>\n",
       "      <td>NaN</td>\n",
       "      <td>0.0</td>\n",
       "      <td>NaN</td>\n",
       "      <td>NaN</td>\n",
       "      <td>0.0</td>\n",
       "      <td>NaN</td>\n",
       "      <td>...</td>\n",
       "      <td>1803.987</td>\n",
       "      <td>NaN</td>\n",
       "      <td>597.029</td>\n",
       "      <td>9.59</td>\n",
       "      <td>NaN</td>\n",
       "      <td>NaN</td>\n",
       "      <td>37.746</td>\n",
       "      <td>0.5</td>\n",
       "      <td>64.83</td>\n",
       "      <td>0.498</td>\n",
       "    </tr>\n",
       "  </tbody>\n",
       "</table>\n",
       "<p>5 rows × 41 columns</p>\n",
       "</div>"
      ],
      "text/plain": [
       "  iso_code continent     location        date  total_cases  new_cases  \\\n",
       "0      AFG      Asia  Afghanistan  2019-12-31          NaN        0.0   \n",
       "1      AFG      Asia  Afghanistan  2020-01-01          NaN        0.0   \n",
       "2      AFG      Asia  Afghanistan  2020-01-02          NaN        0.0   \n",
       "3      AFG      Asia  Afghanistan  2020-01-03          NaN        0.0   \n",
       "4      AFG      Asia  Afghanistan  2020-01-04          NaN        0.0   \n",
       "\n",
       "   new_cases_smoothed  total_deaths  new_deaths  new_deaths_smoothed  ...  \\\n",
       "0                 NaN           NaN         0.0                  NaN  ...   \n",
       "1                 NaN           NaN         0.0                  NaN  ...   \n",
       "2                 NaN           NaN         0.0                  NaN  ...   \n",
       "3                 NaN           NaN         0.0                  NaN  ...   \n",
       "4                 NaN           NaN         0.0                  NaN  ...   \n",
       "\n",
       "   gdp_per_capita  extreme_poverty  cardiovasc_death_rate  \\\n",
       "0        1803.987              NaN                597.029   \n",
       "1        1803.987              NaN                597.029   \n",
       "2        1803.987              NaN                597.029   \n",
       "3        1803.987              NaN                597.029   \n",
       "4        1803.987              NaN                597.029   \n",
       "\n",
       "   diabetes_prevalence  female_smokers  male_smokers  handwashing_facilities  \\\n",
       "0                 9.59             NaN           NaN                  37.746   \n",
       "1                 9.59             NaN           NaN                  37.746   \n",
       "2                 9.59             NaN           NaN                  37.746   \n",
       "3                 9.59             NaN           NaN                  37.746   \n",
       "4                 9.59             NaN           NaN                  37.746   \n",
       "\n",
       "   hospital_beds_per_thousand  life_expectancy  human_development_index  \n",
       "0                         0.5            64.83                    0.498  \n",
       "1                         0.5            64.83                    0.498  \n",
       "2                         0.5            64.83                    0.498  \n",
       "3                         0.5            64.83                    0.498  \n",
       "4                         0.5            64.83                    0.498  \n",
       "\n",
       "[5 rows x 41 columns]"
      ]
     },
     "execution_count": 73,
     "metadata": {},
     "output_type": "execute_result"
    }
   ],
   "source": [
    "df.head()"
   ]
  },
  {
   "cell_type": "markdown",
   "metadata": {
    "colab": {
     "base_uri": "https://localhost:8080/",
     "height": 309
    },
    "executionInfo": {
     "elapsed": 1012,
     "status": "ok",
     "timestamp": 1603158032134,
     "user": {
      "displayName": "Nilava Kar",
      "photoUrl": "https://lh3.googleusercontent.com/-LtetLvd71MA/AAAAAAAAAAI/AAAAAAAAIJ8/ZzFR0tU6osg/s64/photo.jpg",
      "userId": "00608076695026843354"
     },
     "user_tz": -330
    },
    "id": "ApHPXSrR9Yg4",
    "outputId": "68ac299c-f4f9-449a-f1d0-7f55b03e0a47"
   },
   "source": [
    "## Selecting location as India"
   ]
  },
  {
   "cell_type": "code",
   "execution_count": 74,
   "metadata": {
    "executionInfo": {
     "elapsed": 1001,
     "status": "ok",
     "timestamp": 1603158037361,
     "user": {
      "displayName": "Nilava Kar",
      "photoUrl": "https://lh3.googleusercontent.com/-LtetLvd71MA/AAAAAAAAAAI/AAAAAAAAIJ8/ZzFR0tU6osg/s64/photo.jpg",
      "userId": "00608076695026843354"
     },
     "user_tz": -330
    },
    "id": "t8TpNCMg90AW"
   },
   "outputs": [],
   "source": [
    "df_India = df[df['location']=='India']\n",
    "#df_India.info()"
   ]
  },
  {
   "cell_type": "code",
   "execution_count": 75,
   "metadata": {
    "executionInfo": {
     "elapsed": 971,
     "status": "ok",
     "timestamp": 1603158040507,
     "user": {
      "displayName": "Nilava Kar",
      "photoUrl": "https://lh3.googleusercontent.com/-LtetLvd71MA/AAAAAAAAAAI/AAAAAAAAIJ8/ZzFR0tU6osg/s64/photo.jpg",
      "userId": "00608076695026843354"
     },
     "user_tz": -330
    },
    "id": "aeJDIEGQ-1n-"
   },
   "outputs": [],
   "source": [
    "df_India = df_India.dropna()"
   ]
  },
  {
   "cell_type": "code",
   "execution_count": 76,
   "metadata": {
    "colab": {
     "base_uri": "https://localhost:8080/",
     "height": 35
    },
    "executionInfo": {
     "elapsed": 1120,
     "status": "ok",
     "timestamp": 1603158044488,
     "user": {
      "displayName": "Nilava Kar",
      "photoUrl": "https://lh3.googleusercontent.com/-LtetLvd71MA/AAAAAAAAAAI/AAAAAAAAIJ8/ZzFR0tU6osg/s64/photo.jpg",
      "userId": "00608076695026843354"
     },
     "user_tz": -330
    },
    "id": "5ly6ibpODr0z",
    "outputId": "3b6474ae-5bf0-4c52-bb93-2caafa659b4e"
   },
   "outputs": [],
   "source": [
    "#df_India.isnull().values.any()"
   ]
  },
  {
   "cell_type": "code",
   "execution_count": 77,
   "metadata": {
    "colab": {
     "base_uri": "https://localhost:8080/",
     "height": 309
    },
    "executionInfo": {
     "elapsed": 1122,
     "status": "ok",
     "timestamp": 1603158050589,
     "user": {
      "displayName": "Nilava Kar",
      "photoUrl": "https://lh3.googleusercontent.com/-LtetLvd71MA/AAAAAAAAAAI/AAAAAAAAIJ8/ZzFR0tU6osg/s64/photo.jpg",
      "userId": "00608076695026843354"
     },
     "user_tz": -330
    },
    "id": "jynHNdpbEeLm",
    "outputId": "8ca74abb-402f-4ced-fb19-24e5ab3a36e5"
   },
   "outputs": [
    {
     "data": {
      "text/html": [
       "<div>\n",
       "<style scoped>\n",
       "    .dataframe tbody tr th:only-of-type {\n",
       "        vertical-align: middle;\n",
       "    }\n",
       "\n",
       "    .dataframe tbody tr th {\n",
       "        vertical-align: top;\n",
       "    }\n",
       "\n",
       "    .dataframe thead th {\n",
       "        text-align: right;\n",
       "    }\n",
       "</style>\n",
       "<table border=\"1\" class=\"dataframe\">\n",
       "  <thead>\n",
       "    <tr style=\"text-align: right;\">\n",
       "      <th></th>\n",
       "      <th>iso_code</th>\n",
       "      <th>continent</th>\n",
       "      <th>location</th>\n",
       "      <th>date</th>\n",
       "      <th>total_cases</th>\n",
       "      <th>new_cases</th>\n",
       "      <th>new_cases_smoothed</th>\n",
       "      <th>total_deaths</th>\n",
       "      <th>new_deaths</th>\n",
       "      <th>new_deaths_smoothed</th>\n",
       "      <th>...</th>\n",
       "      <th>gdp_per_capita</th>\n",
       "      <th>extreme_poverty</th>\n",
       "      <th>cardiovasc_death_rate</th>\n",
       "      <th>diabetes_prevalence</th>\n",
       "      <th>female_smokers</th>\n",
       "      <th>male_smokers</th>\n",
       "      <th>handwashing_facilities</th>\n",
       "      <th>hospital_beds_per_thousand</th>\n",
       "      <th>life_expectancy</th>\n",
       "      <th>human_development_index</th>\n",
       "    </tr>\n",
       "  </thead>\n",
       "  <tbody>\n",
       "    <tr>\n",
       "      <th>21296</th>\n",
       "      <td>IND</td>\n",
       "      <td>Asia</td>\n",
       "      <td>India</td>\n",
       "      <td>2020-03-20</td>\n",
       "      <td>191.0</td>\n",
       "      <td>26.0</td>\n",
       "      <td>16.571</td>\n",
       "      <td>4.0</td>\n",
       "      <td>1.0</td>\n",
       "      <td>0.429</td>\n",
       "      <td>...</td>\n",
       "      <td>6426.674</td>\n",
       "      <td>21.2</td>\n",
       "      <td>282.28</td>\n",
       "      <td>10.39</td>\n",
       "      <td>1.9</td>\n",
       "      <td>20.6</td>\n",
       "      <td>59.55</td>\n",
       "      <td>0.53</td>\n",
       "      <td>69.66</td>\n",
       "      <td>0.64</td>\n",
       "    </tr>\n",
       "    <tr>\n",
       "      <th>21297</th>\n",
       "      <td>IND</td>\n",
       "      <td>Asia</td>\n",
       "      <td>India</td>\n",
       "      <td>2020-03-21</td>\n",
       "      <td>231.0</td>\n",
       "      <td>40.0</td>\n",
       "      <td>21.143</td>\n",
       "      <td>4.0</td>\n",
       "      <td>0.0</td>\n",
       "      <td>0.286</td>\n",
       "      <td>...</td>\n",
       "      <td>6426.674</td>\n",
       "      <td>21.2</td>\n",
       "      <td>282.28</td>\n",
       "      <td>10.39</td>\n",
       "      <td>1.9</td>\n",
       "      <td>20.6</td>\n",
       "      <td>59.55</td>\n",
       "      <td>0.53</td>\n",
       "      <td>69.66</td>\n",
       "      <td>0.64</td>\n",
       "    </tr>\n",
       "    <tr>\n",
       "      <th>21298</th>\n",
       "      <td>IND</td>\n",
       "      <td>Asia</td>\n",
       "      <td>India</td>\n",
       "      <td>2020-03-22</td>\n",
       "      <td>320.0</td>\n",
       "      <td>89.0</td>\n",
       "      <td>32.857</td>\n",
       "      <td>4.0</td>\n",
       "      <td>0.0</td>\n",
       "      <td>0.286</td>\n",
       "      <td>...</td>\n",
       "      <td>6426.674</td>\n",
       "      <td>21.2</td>\n",
       "      <td>282.28</td>\n",
       "      <td>10.39</td>\n",
       "      <td>1.9</td>\n",
       "      <td>20.6</td>\n",
       "      <td>59.55</td>\n",
       "      <td>0.53</td>\n",
       "      <td>69.66</td>\n",
       "      <td>0.64</td>\n",
       "    </tr>\n",
       "    <tr>\n",
       "      <th>21299</th>\n",
       "      <td>IND</td>\n",
       "      <td>Asia</td>\n",
       "      <td>India</td>\n",
       "      <td>2020-03-23</td>\n",
       "      <td>439.0</td>\n",
       "      <td>119.0</td>\n",
       "      <td>49.429</td>\n",
       "      <td>7.0</td>\n",
       "      <td>3.0</td>\n",
       "      <td>0.714</td>\n",
       "      <td>...</td>\n",
       "      <td>6426.674</td>\n",
       "      <td>21.2</td>\n",
       "      <td>282.28</td>\n",
       "      <td>10.39</td>\n",
       "      <td>1.9</td>\n",
       "      <td>20.6</td>\n",
       "      <td>59.55</td>\n",
       "      <td>0.53</td>\n",
       "      <td>69.66</td>\n",
       "      <td>0.64</td>\n",
       "    </tr>\n",
       "    <tr>\n",
       "      <th>21300</th>\n",
       "      <td>IND</td>\n",
       "      <td>Asia</td>\n",
       "      <td>India</td>\n",
       "      <td>2020-03-24</td>\n",
       "      <td>492.0</td>\n",
       "      <td>53.0</td>\n",
       "      <td>52.429</td>\n",
       "      <td>9.0</td>\n",
       "      <td>2.0</td>\n",
       "      <td>0.857</td>\n",
       "      <td>...</td>\n",
       "      <td>6426.674</td>\n",
       "      <td>21.2</td>\n",
       "      <td>282.28</td>\n",
       "      <td>10.39</td>\n",
       "      <td>1.9</td>\n",
       "      <td>20.6</td>\n",
       "      <td>59.55</td>\n",
       "      <td>0.53</td>\n",
       "      <td>69.66</td>\n",
       "      <td>0.64</td>\n",
       "    </tr>\n",
       "  </tbody>\n",
       "</table>\n",
       "<p>5 rows × 41 columns</p>\n",
       "</div>"
      ],
      "text/plain": [
       "      iso_code continent location        date  total_cases  new_cases  \\\n",
       "21296      IND      Asia    India  2020-03-20        191.0       26.0   \n",
       "21297      IND      Asia    India  2020-03-21        231.0       40.0   \n",
       "21298      IND      Asia    India  2020-03-22        320.0       89.0   \n",
       "21299      IND      Asia    India  2020-03-23        439.0      119.0   \n",
       "21300      IND      Asia    India  2020-03-24        492.0       53.0   \n",
       "\n",
       "       new_cases_smoothed  total_deaths  new_deaths  new_deaths_smoothed  ...  \\\n",
       "21296              16.571           4.0         1.0                0.429  ...   \n",
       "21297              21.143           4.0         0.0                0.286  ...   \n",
       "21298              32.857           4.0         0.0                0.286  ...   \n",
       "21299              49.429           7.0         3.0                0.714  ...   \n",
       "21300              52.429           9.0         2.0                0.857  ...   \n",
       "\n",
       "       gdp_per_capita  extreme_poverty  cardiovasc_death_rate  \\\n",
       "21296        6426.674             21.2                 282.28   \n",
       "21297        6426.674             21.2                 282.28   \n",
       "21298        6426.674             21.2                 282.28   \n",
       "21299        6426.674             21.2                 282.28   \n",
       "21300        6426.674             21.2                 282.28   \n",
       "\n",
       "       diabetes_prevalence  female_smokers  male_smokers  \\\n",
       "21296                10.39             1.9          20.6   \n",
       "21297                10.39             1.9          20.6   \n",
       "21298                10.39             1.9          20.6   \n",
       "21299                10.39             1.9          20.6   \n",
       "21300                10.39             1.9          20.6   \n",
       "\n",
       "       handwashing_facilities  hospital_beds_per_thousand  life_expectancy  \\\n",
       "21296                   59.55                        0.53            69.66   \n",
       "21297                   59.55                        0.53            69.66   \n",
       "21298                   59.55                        0.53            69.66   \n",
       "21299                   59.55                        0.53            69.66   \n",
       "21300                   59.55                        0.53            69.66   \n",
       "\n",
       "       human_development_index  \n",
       "21296                     0.64  \n",
       "21297                     0.64  \n",
       "21298                     0.64  \n",
       "21299                     0.64  \n",
       "21300                     0.64  \n",
       "\n",
       "[5 rows x 41 columns]"
      ]
     },
     "execution_count": 77,
     "metadata": {},
     "output_type": "execute_result"
    }
   ],
   "source": [
    "df_India.head()"
   ]
  },
  {
   "cell_type": "code",
   "execution_count": 78,
   "metadata": {
    "executionInfo": {
     "elapsed": 963,
     "status": "ok",
     "timestamp": 1603158064459,
     "user": {
      "displayName": "Nilava Kar",
      "photoUrl": "https://lh3.googleusercontent.com/-LtetLvd71MA/AAAAAAAAAAI/AAAAAAAAIJ8/ZzFR0tU6osg/s64/photo.jpg",
      "userId": "00608076695026843354"
     },
     "user_tz": -330
    },
    "id": "gURdeWUREpW6"
   },
   "outputs": [],
   "source": [
    "df_India['date'] = pd.to_datetime(df_India['date'])"
   ]
  },
  {
   "cell_type": "code",
   "execution_count": 79,
   "metadata": {
    "colab": {
     "base_uri": "https://localhost:8080/",
     "height": 309
    },
    "executionInfo": {
     "elapsed": 1058,
     "status": "ok",
     "timestamp": 1603158066772,
     "user": {
      "displayName": "Nilava Kar",
      "photoUrl": "https://lh3.googleusercontent.com/-LtetLvd71MA/AAAAAAAAAAI/AAAAAAAAIJ8/ZzFR0tU6osg/s64/photo.jpg",
      "userId": "00608076695026843354"
     },
     "user_tz": -330
    },
    "id": "ePXS70QjFOmE",
    "outputId": "10915c14-271c-4954-8a39-e4728b319a91"
   },
   "outputs": [
    {
     "data": {
      "text/html": [
       "<div>\n",
       "<style scoped>\n",
       "    .dataframe tbody tr th:only-of-type {\n",
       "        vertical-align: middle;\n",
       "    }\n",
       "\n",
       "    .dataframe tbody tr th {\n",
       "        vertical-align: top;\n",
       "    }\n",
       "\n",
       "    .dataframe thead th {\n",
       "        text-align: right;\n",
       "    }\n",
       "</style>\n",
       "<table border=\"1\" class=\"dataframe\">\n",
       "  <thead>\n",
       "    <tr style=\"text-align: right;\">\n",
       "      <th></th>\n",
       "      <th>iso_code</th>\n",
       "      <th>continent</th>\n",
       "      <th>location</th>\n",
       "      <th>date</th>\n",
       "      <th>total_cases</th>\n",
       "      <th>new_cases</th>\n",
       "      <th>new_cases_smoothed</th>\n",
       "      <th>total_deaths</th>\n",
       "      <th>new_deaths</th>\n",
       "      <th>new_deaths_smoothed</th>\n",
       "      <th>...</th>\n",
       "      <th>gdp_per_capita</th>\n",
       "      <th>extreme_poverty</th>\n",
       "      <th>cardiovasc_death_rate</th>\n",
       "      <th>diabetes_prevalence</th>\n",
       "      <th>female_smokers</th>\n",
       "      <th>male_smokers</th>\n",
       "      <th>handwashing_facilities</th>\n",
       "      <th>hospital_beds_per_thousand</th>\n",
       "      <th>life_expectancy</th>\n",
       "      <th>human_development_index</th>\n",
       "    </tr>\n",
       "  </thead>\n",
       "  <tbody>\n",
       "    <tr>\n",
       "      <th>21296</th>\n",
       "      <td>IND</td>\n",
       "      <td>Asia</td>\n",
       "      <td>India</td>\n",
       "      <td>2020-03-20</td>\n",
       "      <td>191.0</td>\n",
       "      <td>26.0</td>\n",
       "      <td>16.571</td>\n",
       "      <td>4.0</td>\n",
       "      <td>1.0</td>\n",
       "      <td>0.429</td>\n",
       "      <td>...</td>\n",
       "      <td>6426.674</td>\n",
       "      <td>21.2</td>\n",
       "      <td>282.28</td>\n",
       "      <td>10.39</td>\n",
       "      <td>1.9</td>\n",
       "      <td>20.6</td>\n",
       "      <td>59.55</td>\n",
       "      <td>0.53</td>\n",
       "      <td>69.66</td>\n",
       "      <td>0.64</td>\n",
       "    </tr>\n",
       "    <tr>\n",
       "      <th>21297</th>\n",
       "      <td>IND</td>\n",
       "      <td>Asia</td>\n",
       "      <td>India</td>\n",
       "      <td>2020-03-21</td>\n",
       "      <td>231.0</td>\n",
       "      <td>40.0</td>\n",
       "      <td>21.143</td>\n",
       "      <td>4.0</td>\n",
       "      <td>0.0</td>\n",
       "      <td>0.286</td>\n",
       "      <td>...</td>\n",
       "      <td>6426.674</td>\n",
       "      <td>21.2</td>\n",
       "      <td>282.28</td>\n",
       "      <td>10.39</td>\n",
       "      <td>1.9</td>\n",
       "      <td>20.6</td>\n",
       "      <td>59.55</td>\n",
       "      <td>0.53</td>\n",
       "      <td>69.66</td>\n",
       "      <td>0.64</td>\n",
       "    </tr>\n",
       "    <tr>\n",
       "      <th>21298</th>\n",
       "      <td>IND</td>\n",
       "      <td>Asia</td>\n",
       "      <td>India</td>\n",
       "      <td>2020-03-22</td>\n",
       "      <td>320.0</td>\n",
       "      <td>89.0</td>\n",
       "      <td>32.857</td>\n",
       "      <td>4.0</td>\n",
       "      <td>0.0</td>\n",
       "      <td>0.286</td>\n",
       "      <td>...</td>\n",
       "      <td>6426.674</td>\n",
       "      <td>21.2</td>\n",
       "      <td>282.28</td>\n",
       "      <td>10.39</td>\n",
       "      <td>1.9</td>\n",
       "      <td>20.6</td>\n",
       "      <td>59.55</td>\n",
       "      <td>0.53</td>\n",
       "      <td>69.66</td>\n",
       "      <td>0.64</td>\n",
       "    </tr>\n",
       "    <tr>\n",
       "      <th>21299</th>\n",
       "      <td>IND</td>\n",
       "      <td>Asia</td>\n",
       "      <td>India</td>\n",
       "      <td>2020-03-23</td>\n",
       "      <td>439.0</td>\n",
       "      <td>119.0</td>\n",
       "      <td>49.429</td>\n",
       "      <td>7.0</td>\n",
       "      <td>3.0</td>\n",
       "      <td>0.714</td>\n",
       "      <td>...</td>\n",
       "      <td>6426.674</td>\n",
       "      <td>21.2</td>\n",
       "      <td>282.28</td>\n",
       "      <td>10.39</td>\n",
       "      <td>1.9</td>\n",
       "      <td>20.6</td>\n",
       "      <td>59.55</td>\n",
       "      <td>0.53</td>\n",
       "      <td>69.66</td>\n",
       "      <td>0.64</td>\n",
       "    </tr>\n",
       "    <tr>\n",
       "      <th>21300</th>\n",
       "      <td>IND</td>\n",
       "      <td>Asia</td>\n",
       "      <td>India</td>\n",
       "      <td>2020-03-24</td>\n",
       "      <td>492.0</td>\n",
       "      <td>53.0</td>\n",
       "      <td>52.429</td>\n",
       "      <td>9.0</td>\n",
       "      <td>2.0</td>\n",
       "      <td>0.857</td>\n",
       "      <td>...</td>\n",
       "      <td>6426.674</td>\n",
       "      <td>21.2</td>\n",
       "      <td>282.28</td>\n",
       "      <td>10.39</td>\n",
       "      <td>1.9</td>\n",
       "      <td>20.6</td>\n",
       "      <td>59.55</td>\n",
       "      <td>0.53</td>\n",
       "      <td>69.66</td>\n",
       "      <td>0.64</td>\n",
       "    </tr>\n",
       "  </tbody>\n",
       "</table>\n",
       "<p>5 rows × 41 columns</p>\n",
       "</div>"
      ],
      "text/plain": [
       "      iso_code continent location       date  total_cases  new_cases  \\\n",
       "21296      IND      Asia    India 2020-03-20        191.0       26.0   \n",
       "21297      IND      Asia    India 2020-03-21        231.0       40.0   \n",
       "21298      IND      Asia    India 2020-03-22        320.0       89.0   \n",
       "21299      IND      Asia    India 2020-03-23        439.0      119.0   \n",
       "21300      IND      Asia    India 2020-03-24        492.0       53.0   \n",
       "\n",
       "       new_cases_smoothed  total_deaths  new_deaths  new_deaths_smoothed  ...  \\\n",
       "21296              16.571           4.0         1.0                0.429  ...   \n",
       "21297              21.143           4.0         0.0                0.286  ...   \n",
       "21298              32.857           4.0         0.0                0.286  ...   \n",
       "21299              49.429           7.0         3.0                0.714  ...   \n",
       "21300              52.429           9.0         2.0                0.857  ...   \n",
       "\n",
       "       gdp_per_capita  extreme_poverty  cardiovasc_death_rate  \\\n",
       "21296        6426.674             21.2                 282.28   \n",
       "21297        6426.674             21.2                 282.28   \n",
       "21298        6426.674             21.2                 282.28   \n",
       "21299        6426.674             21.2                 282.28   \n",
       "21300        6426.674             21.2                 282.28   \n",
       "\n",
       "       diabetes_prevalence  female_smokers  male_smokers  \\\n",
       "21296                10.39             1.9          20.6   \n",
       "21297                10.39             1.9          20.6   \n",
       "21298                10.39             1.9          20.6   \n",
       "21299                10.39             1.9          20.6   \n",
       "21300                10.39             1.9          20.6   \n",
       "\n",
       "       handwashing_facilities  hospital_beds_per_thousand  life_expectancy  \\\n",
       "21296                   59.55                        0.53            69.66   \n",
       "21297                   59.55                        0.53            69.66   \n",
       "21298                   59.55                        0.53            69.66   \n",
       "21299                   59.55                        0.53            69.66   \n",
       "21300                   59.55                        0.53            69.66   \n",
       "\n",
       "       human_development_index  \n",
       "21296                     0.64  \n",
       "21297                     0.64  \n",
       "21298                     0.64  \n",
       "21299                     0.64  \n",
       "21300                     0.64  \n",
       "\n",
       "[5 rows x 41 columns]"
      ]
     },
     "execution_count": 79,
     "metadata": {},
     "output_type": "execute_result"
    }
   ],
   "source": [
    "df_India.head()"
   ]
  },
  {
   "cell_type": "code",
   "execution_count": 80,
   "metadata": {
    "executionInfo": {
     "elapsed": 1094,
     "status": "ok",
     "timestamp": 1603158082662,
     "user": {
      "displayName": "Nilava Kar",
      "photoUrl": "https://lh3.googleusercontent.com/-LtetLvd71MA/AAAAAAAAAAI/AAAAAAAAIJ8/ZzFR0tU6osg/s64/photo.jpg",
      "userId": "00608076695026843354"
     },
     "user_tz": -330
    },
    "id": "DO1r1u20OCKD"
   },
   "outputs": [],
   "source": [
    "df_India = df_India.drop(['population'], axis=1)"
   ]
  },
  {
   "cell_type": "code",
   "execution_count": 81,
   "metadata": {
    "executionInfo": {
     "elapsed": 988,
     "status": "ok",
     "timestamp": 1603158084360,
     "user": {
      "displayName": "Nilava Kar",
      "photoUrl": "https://lh3.googleusercontent.com/-LtetLvd71MA/AAAAAAAAAAI/AAAAAAAAIJ8/ZzFR0tU6osg/s64/photo.jpg",
      "userId": "00608076695026843354"
     },
     "user_tz": -330
    },
    "id": "D_RBWYkBXe9I"
   },
   "outputs": [],
   "source": [
    "df_India = df_India.drop(['population_density'],axis=1)\n",
    "df_India = df_India.drop(['median_age'],axis=1)\n",
    "df_India = df_India.drop(['aged_65_older'],axis=1)\n",
    "df_India = df_India.drop(['aged_70_older'],axis=1)\n",
    "df_India = df_India.drop(['gdp_per_capita'],axis=1)\n",
    "df_India = df_India.drop(['extreme_poverty'],axis=1)\n",
    "df_India = df_India.drop(['cardiovasc_death_rate'],axis=1)\n",
    "df_India = df_India.drop(['tests_units'],axis=1)\n",
    "df_India = df_India.drop(['diabetes_prevalence'],axis=1)\n",
    "df_India = df_India.drop(['female_smokers'],axis=1)\n",
    "df_India = df_India.drop(['male_smokers'],axis=1)\n",
    "df_India = df_India.drop(['handwashing_facilities'],axis=1)\n",
    "df_India = df_India.drop(['hospital_beds_per_thousand'],axis=1)\n",
    "df_India = df_India.drop(['life_expectancy'],axis=1)\n",
    "df_India = df_India.drop(['human_development_index'],axis=1)\n"
   ]
  },
  {
   "cell_type": "code",
   "execution_count": 82,
   "metadata": {
    "colab": {
     "base_uri": "https://localhost:8080/",
     "height": 713
    },
    "executionInfo": {
     "elapsed": 939,
     "status": "ok",
     "timestamp": 1603158087320,
     "user": {
      "displayName": "Nilava Kar",
      "photoUrl": "https://lh3.googleusercontent.com/-LtetLvd71MA/AAAAAAAAAAI/AAAAAAAAIJ8/ZzFR0tU6osg/s64/photo.jpg",
      "userId": "00608076695026843354"
     },
     "user_tz": -330
    },
    "id": "twsMAp34O7IM",
    "outputId": "712fc6a2-1834-44ce-ca5c-f94719b24c41"
   },
   "outputs": [
    {
     "data": {
      "text/html": [
       "<div>\n",
       "<style scoped>\n",
       "    .dataframe tbody tr th:only-of-type {\n",
       "        vertical-align: middle;\n",
       "    }\n",
       "\n",
       "    .dataframe tbody tr th {\n",
       "        vertical-align: top;\n",
       "    }\n",
       "\n",
       "    .dataframe thead th {\n",
       "        text-align: right;\n",
       "    }\n",
       "</style>\n",
       "<table border=\"1\" class=\"dataframe\">\n",
       "  <thead>\n",
       "    <tr style=\"text-align: right;\">\n",
       "      <th></th>\n",
       "      <th>total_cases</th>\n",
       "      <th>new_cases</th>\n",
       "      <th>new_cases_smoothed</th>\n",
       "      <th>total_deaths</th>\n",
       "      <th>new_deaths</th>\n",
       "      <th>new_deaths_smoothed</th>\n",
       "      <th>total_cases_per_million</th>\n",
       "      <th>new_cases_per_million</th>\n",
       "      <th>new_cases_smoothed_per_million</th>\n",
       "      <th>total_deaths_per_million</th>\n",
       "      <th>...</th>\n",
       "      <th>new_deaths_smoothed_per_million</th>\n",
       "      <th>new_tests</th>\n",
       "      <th>total_tests</th>\n",
       "      <th>total_tests_per_thousand</th>\n",
       "      <th>new_tests_per_thousand</th>\n",
       "      <th>new_tests_smoothed</th>\n",
       "      <th>new_tests_smoothed_per_thousand</th>\n",
       "      <th>tests_per_case</th>\n",
       "      <th>positive_rate</th>\n",
       "      <th>stringency_index</th>\n",
       "    </tr>\n",
       "  </thead>\n",
       "  <tbody>\n",
       "    <tr>\n",
       "      <th>total_cases</th>\n",
       "      <td>1.000000</td>\n",
       "      <td>0.899804</td>\n",
       "      <td>0.926156</td>\n",
       "      <td>0.993100</td>\n",
       "      <td>0.808081</td>\n",
       "      <td>0.873333</td>\n",
       "      <td>1.000000</td>\n",
       "      <td>0.899804</td>\n",
       "      <td>0.926156</td>\n",
       "      <td>0.993100</td>\n",
       "      <td>...</td>\n",
       "      <td>0.873353</td>\n",
       "      <td>0.941754</td>\n",
       "      <td>0.999091</td>\n",
       "      <td>0.999091</td>\n",
       "      <td>0.941725</td>\n",
       "      <td>0.967978</td>\n",
       "      <td>0.967979</td>\n",
       "      <td>-0.374476</td>\n",
       "      <td>0.325350</td>\n",
       "      <td>-0.391236</td>\n",
       "    </tr>\n",
       "    <tr>\n",
       "      <th>new_cases</th>\n",
       "      <td>0.899804</td>\n",
       "      <td>1.000000</td>\n",
       "      <td>0.993376</td>\n",
       "      <td>0.935669</td>\n",
       "      <td>0.930156</td>\n",
       "      <td>0.972385</td>\n",
       "      <td>0.899804</td>\n",
       "      <td>1.000000</td>\n",
       "      <td>0.993376</td>\n",
       "      <td>0.935668</td>\n",
       "      <td>...</td>\n",
       "      <td>0.972389</td>\n",
       "      <td>0.959000</td>\n",
       "      <td>0.887131</td>\n",
       "      <td>0.887131</td>\n",
       "      <td>0.959038</td>\n",
       "      <td>0.967693</td>\n",
       "      <td>0.967680</td>\n",
       "      <td>-0.548099</td>\n",
       "      <td>0.571757</td>\n",
       "      <td>-0.415531</td>\n",
       "    </tr>\n",
       "    <tr>\n",
       "      <th>new_cases_smoothed</th>\n",
       "      <td>0.926156</td>\n",
       "      <td>0.993376</td>\n",
       "      <td>1.000000</td>\n",
       "      <td>0.956324</td>\n",
       "      <td>0.922412</td>\n",
       "      <td>0.973658</td>\n",
       "      <td>0.926156</td>\n",
       "      <td>0.993376</td>\n",
       "      <td>1.000000</td>\n",
       "      <td>0.956324</td>\n",
       "      <td>...</td>\n",
       "      <td>0.973663</td>\n",
       "      <td>0.967306</td>\n",
       "      <td>0.914317</td>\n",
       "      <td>0.914317</td>\n",
       "      <td>0.967325</td>\n",
       "      <td>0.981196</td>\n",
       "      <td>0.981183</td>\n",
       "      <td>-0.530946</td>\n",
       "      <td>0.544814</td>\n",
       "      <td>-0.416152</td>\n",
       "    </tr>\n",
       "    <tr>\n",
       "      <th>total_deaths</th>\n",
       "      <td>0.993100</td>\n",
       "      <td>0.935669</td>\n",
       "      <td>0.956324</td>\n",
       "      <td>1.000000</td>\n",
       "      <td>0.857914</td>\n",
       "      <td>0.920607</td>\n",
       "      <td>0.993100</td>\n",
       "      <td>0.935669</td>\n",
       "      <td>0.956324</td>\n",
       "      <td>1.000000</td>\n",
       "      <td>...</td>\n",
       "      <td>0.920621</td>\n",
       "      <td>0.960662</td>\n",
       "      <td>0.990541</td>\n",
       "      <td>0.990541</td>\n",
       "      <td>0.960652</td>\n",
       "      <td>0.983260</td>\n",
       "      <td>0.983267</td>\n",
       "      <td>-0.449485</td>\n",
       "      <td>0.421057</td>\n",
       "      <td>-0.436663</td>\n",
       "    </tr>\n",
       "    <tr>\n",
       "      <th>new_deaths</th>\n",
       "      <td>0.808081</td>\n",
       "      <td>0.930156</td>\n",
       "      <td>0.922412</td>\n",
       "      <td>0.857914</td>\n",
       "      <td>1.000000</td>\n",
       "      <td>0.953113</td>\n",
       "      <td>0.808081</td>\n",
       "      <td>0.930155</td>\n",
       "      <td>0.922413</td>\n",
       "      <td>0.857913</td>\n",
       "      <td>...</td>\n",
       "      <td>0.953084</td>\n",
       "      <td>0.882659</td>\n",
       "      <td>0.797951</td>\n",
       "      <td>0.797951</td>\n",
       "      <td>0.882671</td>\n",
       "      <td>0.886527</td>\n",
       "      <td>0.886511</td>\n",
       "      <td>-0.626855</td>\n",
       "      <td>0.659554</td>\n",
       "      <td>-0.501726</td>\n",
       "    </tr>\n",
       "    <tr>\n",
       "      <th>new_deaths_smoothed</th>\n",
       "      <td>0.873333</td>\n",
       "      <td>0.972385</td>\n",
       "      <td>0.973658</td>\n",
       "      <td>0.920607</td>\n",
       "      <td>0.953113</td>\n",
       "      <td>1.000000</td>\n",
       "      <td>0.873333</td>\n",
       "      <td>0.972385</td>\n",
       "      <td>0.973658</td>\n",
       "      <td>0.920606</td>\n",
       "      <td>...</td>\n",
       "      <td>0.999999</td>\n",
       "      <td>0.934414</td>\n",
       "      <td>0.863584</td>\n",
       "      <td>0.863584</td>\n",
       "      <td>0.934450</td>\n",
       "      <td>0.943600</td>\n",
       "      <td>0.943599</td>\n",
       "      <td>-0.638363</td>\n",
       "      <td>0.665655</td>\n",
       "      <td>-0.523317</td>\n",
       "    </tr>\n",
       "    <tr>\n",
       "      <th>total_cases_per_million</th>\n",
       "      <td>1.000000</td>\n",
       "      <td>0.899804</td>\n",
       "      <td>0.926156</td>\n",
       "      <td>0.993100</td>\n",
       "      <td>0.808081</td>\n",
       "      <td>0.873333</td>\n",
       "      <td>1.000000</td>\n",
       "      <td>0.899804</td>\n",
       "      <td>0.926156</td>\n",
       "      <td>0.993100</td>\n",
       "      <td>...</td>\n",
       "      <td>0.873353</td>\n",
       "      <td>0.941754</td>\n",
       "      <td>0.999091</td>\n",
       "      <td>0.999091</td>\n",
       "      <td>0.941725</td>\n",
       "      <td>0.967978</td>\n",
       "      <td>0.967979</td>\n",
       "      <td>-0.374476</td>\n",
       "      <td>0.325350</td>\n",
       "      <td>-0.391236</td>\n",
       "    </tr>\n",
       "    <tr>\n",
       "      <th>new_cases_per_million</th>\n",
       "      <td>0.899804</td>\n",
       "      <td>1.000000</td>\n",
       "      <td>0.993376</td>\n",
       "      <td>0.935669</td>\n",
       "      <td>0.930155</td>\n",
       "      <td>0.972385</td>\n",
       "      <td>0.899804</td>\n",
       "      <td>1.000000</td>\n",
       "      <td>0.993376</td>\n",
       "      <td>0.935668</td>\n",
       "      <td>...</td>\n",
       "      <td>0.972389</td>\n",
       "      <td>0.959000</td>\n",
       "      <td>0.887131</td>\n",
       "      <td>0.887131</td>\n",
       "      <td>0.959038</td>\n",
       "      <td>0.967693</td>\n",
       "      <td>0.967680</td>\n",
       "      <td>-0.548098</td>\n",
       "      <td>0.571757</td>\n",
       "      <td>-0.415530</td>\n",
       "    </tr>\n",
       "    <tr>\n",
       "      <th>new_cases_smoothed_per_million</th>\n",
       "      <td>0.926156</td>\n",
       "      <td>0.993376</td>\n",
       "      <td>1.000000</td>\n",
       "      <td>0.956324</td>\n",
       "      <td>0.922413</td>\n",
       "      <td>0.973658</td>\n",
       "      <td>0.926156</td>\n",
       "      <td>0.993376</td>\n",
       "      <td>1.000000</td>\n",
       "      <td>0.956324</td>\n",
       "      <td>...</td>\n",
       "      <td>0.973663</td>\n",
       "      <td>0.967306</td>\n",
       "      <td>0.914317</td>\n",
       "      <td>0.914317</td>\n",
       "      <td>0.967325</td>\n",
       "      <td>0.981196</td>\n",
       "      <td>0.981183</td>\n",
       "      <td>-0.530946</td>\n",
       "      <td>0.544814</td>\n",
       "      <td>-0.416153</td>\n",
       "    </tr>\n",
       "    <tr>\n",
       "      <th>total_deaths_per_million</th>\n",
       "      <td>0.993100</td>\n",
       "      <td>0.935668</td>\n",
       "      <td>0.956324</td>\n",
       "      <td>1.000000</td>\n",
       "      <td>0.857913</td>\n",
       "      <td>0.920606</td>\n",
       "      <td>0.993100</td>\n",
       "      <td>0.935668</td>\n",
       "      <td>0.956324</td>\n",
       "      <td>1.000000</td>\n",
       "      <td>...</td>\n",
       "      <td>0.920621</td>\n",
       "      <td>0.960662</td>\n",
       "      <td>0.990542</td>\n",
       "      <td>0.990542</td>\n",
       "      <td>0.960652</td>\n",
       "      <td>0.983260</td>\n",
       "      <td>0.983266</td>\n",
       "      <td>-0.449484</td>\n",
       "      <td>0.421056</td>\n",
       "      <td>-0.436663</td>\n",
       "    </tr>\n",
       "    <tr>\n",
       "      <th>new_deaths_per_million</th>\n",
       "      <td>0.808108</td>\n",
       "      <td>0.930189</td>\n",
       "      <td>0.922452</td>\n",
       "      <td>0.857938</td>\n",
       "      <td>1.000000</td>\n",
       "      <td>0.953131</td>\n",
       "      <td>0.808108</td>\n",
       "      <td>0.930189</td>\n",
       "      <td>0.922452</td>\n",
       "      <td>0.857937</td>\n",
       "      <td>...</td>\n",
       "      <td>0.953103</td>\n",
       "      <td>0.882696</td>\n",
       "      <td>0.797974</td>\n",
       "      <td>0.797974</td>\n",
       "      <td>0.882708</td>\n",
       "      <td>0.886558</td>\n",
       "      <td>0.886542</td>\n",
       "      <td>-0.626843</td>\n",
       "      <td>0.659560</td>\n",
       "      <td>-0.501656</td>\n",
       "    </tr>\n",
       "    <tr>\n",
       "      <th>new_deaths_smoothed_per_million</th>\n",
       "      <td>0.873353</td>\n",
       "      <td>0.972389</td>\n",
       "      <td>0.973663</td>\n",
       "      <td>0.920621</td>\n",
       "      <td>0.953084</td>\n",
       "      <td>0.999999</td>\n",
       "      <td>0.873353</td>\n",
       "      <td>0.972389</td>\n",
       "      <td>0.973663</td>\n",
       "      <td>0.920621</td>\n",
       "      <td>...</td>\n",
       "      <td>1.000000</td>\n",
       "      <td>0.934445</td>\n",
       "      <td>0.863603</td>\n",
       "      <td>0.863604</td>\n",
       "      <td>0.934481</td>\n",
       "      <td>0.943617</td>\n",
       "      <td>0.943615</td>\n",
       "      <td>-0.638376</td>\n",
       "      <td>0.665608</td>\n",
       "      <td>-0.523277</td>\n",
       "    </tr>\n",
       "    <tr>\n",
       "      <th>new_tests</th>\n",
       "      <td>0.941754</td>\n",
       "      <td>0.959000</td>\n",
       "      <td>0.967306</td>\n",
       "      <td>0.960662</td>\n",
       "      <td>0.882659</td>\n",
       "      <td>0.934414</td>\n",
       "      <td>0.941754</td>\n",
       "      <td>0.959000</td>\n",
       "      <td>0.967306</td>\n",
       "      <td>0.960662</td>\n",
       "      <td>...</td>\n",
       "      <td>0.934445</td>\n",
       "      <td>1.000000</td>\n",
       "      <td>0.933813</td>\n",
       "      <td>0.933813</td>\n",
       "      <td>1.000000</td>\n",
       "      <td>0.981310</td>\n",
       "      <td>0.981302</td>\n",
       "      <td>-0.466878</td>\n",
       "      <td>0.437473</td>\n",
       "      <td>-0.407504</td>\n",
       "    </tr>\n",
       "    <tr>\n",
       "      <th>total_tests</th>\n",
       "      <td>0.999091</td>\n",
       "      <td>0.887131</td>\n",
       "      <td>0.914317</td>\n",
       "      <td>0.990541</td>\n",
       "      <td>0.797951</td>\n",
       "      <td>0.863584</td>\n",
       "      <td>0.999091</td>\n",
       "      <td>0.887131</td>\n",
       "      <td>0.914317</td>\n",
       "      <td>0.990542</td>\n",
       "      <td>...</td>\n",
       "      <td>0.863603</td>\n",
       "      <td>0.933813</td>\n",
       "      <td>1.000000</td>\n",
       "      <td>1.000000</td>\n",
       "      <td>0.933783</td>\n",
       "      <td>0.960881</td>\n",
       "      <td>0.960884</td>\n",
       "      <td>-0.375214</td>\n",
       "      <td>0.320239</td>\n",
       "      <td>-0.406610</td>\n",
       "    </tr>\n",
       "    <tr>\n",
       "      <th>total_tests_per_thousand</th>\n",
       "      <td>0.999091</td>\n",
       "      <td>0.887131</td>\n",
       "      <td>0.914317</td>\n",
       "      <td>0.990541</td>\n",
       "      <td>0.797951</td>\n",
       "      <td>0.863584</td>\n",
       "      <td>0.999091</td>\n",
       "      <td>0.887131</td>\n",
       "      <td>0.914317</td>\n",
       "      <td>0.990542</td>\n",
       "      <td>...</td>\n",
       "      <td>0.863604</td>\n",
       "      <td>0.933813</td>\n",
       "      <td>1.000000</td>\n",
       "      <td>1.000000</td>\n",
       "      <td>0.933783</td>\n",
       "      <td>0.960881</td>\n",
       "      <td>0.960884</td>\n",
       "      <td>-0.375215</td>\n",
       "      <td>0.320239</td>\n",
       "      <td>-0.406609</td>\n",
       "    </tr>\n",
       "    <tr>\n",
       "      <th>new_tests_per_thousand</th>\n",
       "      <td>0.941725</td>\n",
       "      <td>0.959038</td>\n",
       "      <td>0.967325</td>\n",
       "      <td>0.960652</td>\n",
       "      <td>0.882671</td>\n",
       "      <td>0.934450</td>\n",
       "      <td>0.941725</td>\n",
       "      <td>0.959038</td>\n",
       "      <td>0.967325</td>\n",
       "      <td>0.960652</td>\n",
       "      <td>...</td>\n",
       "      <td>0.934481</td>\n",
       "      <td>1.000000</td>\n",
       "      <td>0.933783</td>\n",
       "      <td>0.933783</td>\n",
       "      <td>1.000000</td>\n",
       "      <td>0.981313</td>\n",
       "      <td>0.981304</td>\n",
       "      <td>-0.466949</td>\n",
       "      <td>0.437596</td>\n",
       "      <td>-0.407514</td>\n",
       "    </tr>\n",
       "    <tr>\n",
       "      <th>new_tests_smoothed</th>\n",
       "      <td>0.967978</td>\n",
       "      <td>0.967693</td>\n",
       "      <td>0.981196</td>\n",
       "      <td>0.983260</td>\n",
       "      <td>0.886527</td>\n",
       "      <td>0.943600</td>\n",
       "      <td>0.967978</td>\n",
       "      <td>0.967693</td>\n",
       "      <td>0.981196</td>\n",
       "      <td>0.983260</td>\n",
       "      <td>...</td>\n",
       "      <td>0.943617</td>\n",
       "      <td>0.981310</td>\n",
       "      <td>0.960881</td>\n",
       "      <td>0.960881</td>\n",
       "      <td>0.981313</td>\n",
       "      <td>1.000000</td>\n",
       "      <td>1.000000</td>\n",
       "      <td>-0.461983</td>\n",
       "      <td>0.425782</td>\n",
       "      <td>-0.413895</td>\n",
       "    </tr>\n",
       "    <tr>\n",
       "      <th>new_tests_smoothed_per_thousand</th>\n",
       "      <td>0.967979</td>\n",
       "      <td>0.967680</td>\n",
       "      <td>0.981183</td>\n",
       "      <td>0.983267</td>\n",
       "      <td>0.886511</td>\n",
       "      <td>0.943599</td>\n",
       "      <td>0.967979</td>\n",
       "      <td>0.967680</td>\n",
       "      <td>0.981183</td>\n",
       "      <td>0.983266</td>\n",
       "      <td>...</td>\n",
       "      <td>0.943615</td>\n",
       "      <td>0.981302</td>\n",
       "      <td>0.960884</td>\n",
       "      <td>0.960884</td>\n",
       "      <td>0.981304</td>\n",
       "      <td>1.000000</td>\n",
       "      <td>1.000000</td>\n",
       "      <td>-0.461962</td>\n",
       "      <td>0.425790</td>\n",
       "      <td>-0.413904</td>\n",
       "    </tr>\n",
       "    <tr>\n",
       "      <th>tests_per_case</th>\n",
       "      <td>-0.374476</td>\n",
       "      <td>-0.548099</td>\n",
       "      <td>-0.530946</td>\n",
       "      <td>-0.449485</td>\n",
       "      <td>-0.626855</td>\n",
       "      <td>-0.638363</td>\n",
       "      <td>-0.374476</td>\n",
       "      <td>-0.548098</td>\n",
       "      <td>-0.530946</td>\n",
       "      <td>-0.449484</td>\n",
       "      <td>...</td>\n",
       "      <td>-0.638376</td>\n",
       "      <td>-0.466878</td>\n",
       "      <td>-0.375214</td>\n",
       "      <td>-0.375215</td>\n",
       "      <td>-0.466949</td>\n",
       "      <td>-0.461983</td>\n",
       "      <td>-0.461962</td>\n",
       "      <td>1.000000</td>\n",
       "      <td>-0.871162</td>\n",
       "      <td>0.498154</td>\n",
       "    </tr>\n",
       "    <tr>\n",
       "      <th>positive_rate</th>\n",
       "      <td>0.325350</td>\n",
       "      <td>0.571757</td>\n",
       "      <td>0.544814</td>\n",
       "      <td>0.421057</td>\n",
       "      <td>0.659554</td>\n",
       "      <td>0.665655</td>\n",
       "      <td>0.325350</td>\n",
       "      <td>0.571757</td>\n",
       "      <td>0.544814</td>\n",
       "      <td>0.421056</td>\n",
       "      <td>...</td>\n",
       "      <td>0.665608</td>\n",
       "      <td>0.437473</td>\n",
       "      <td>0.320239</td>\n",
       "      <td>0.320239</td>\n",
       "      <td>0.437596</td>\n",
       "      <td>0.425782</td>\n",
       "      <td>0.425790</td>\n",
       "      <td>-0.871162</td>\n",
       "      <td>1.000000</td>\n",
       "      <td>-0.579711</td>\n",
       "    </tr>\n",
       "    <tr>\n",
       "      <th>stringency_index</th>\n",
       "      <td>-0.391236</td>\n",
       "      <td>-0.415531</td>\n",
       "      <td>-0.416152</td>\n",
       "      <td>-0.436663</td>\n",
       "      <td>-0.501726</td>\n",
       "      <td>-0.523317</td>\n",
       "      <td>-0.391236</td>\n",
       "      <td>-0.415530</td>\n",
       "      <td>-0.416153</td>\n",
       "      <td>-0.436663</td>\n",
       "      <td>...</td>\n",
       "      <td>-0.523277</td>\n",
       "      <td>-0.407504</td>\n",
       "      <td>-0.406610</td>\n",
       "      <td>-0.406609</td>\n",
       "      <td>-0.407514</td>\n",
       "      <td>-0.413895</td>\n",
       "      <td>-0.413904</td>\n",
       "      <td>0.498154</td>\n",
       "      <td>-0.579711</td>\n",
       "      <td>1.000000</td>\n",
       "    </tr>\n",
       "  </tbody>\n",
       "</table>\n",
       "<p>21 rows × 21 columns</p>\n",
       "</div>"
      ],
      "text/plain": [
       "                                 total_cases  new_cases  new_cases_smoothed  \\\n",
       "total_cases                         1.000000   0.899804            0.926156   \n",
       "new_cases                           0.899804   1.000000            0.993376   \n",
       "new_cases_smoothed                  0.926156   0.993376            1.000000   \n",
       "total_deaths                        0.993100   0.935669            0.956324   \n",
       "new_deaths                          0.808081   0.930156            0.922412   \n",
       "new_deaths_smoothed                 0.873333   0.972385            0.973658   \n",
       "total_cases_per_million             1.000000   0.899804            0.926156   \n",
       "new_cases_per_million               0.899804   1.000000            0.993376   \n",
       "new_cases_smoothed_per_million      0.926156   0.993376            1.000000   \n",
       "total_deaths_per_million            0.993100   0.935668            0.956324   \n",
       "new_deaths_per_million              0.808108   0.930189            0.922452   \n",
       "new_deaths_smoothed_per_million     0.873353   0.972389            0.973663   \n",
       "new_tests                           0.941754   0.959000            0.967306   \n",
       "total_tests                         0.999091   0.887131            0.914317   \n",
       "total_tests_per_thousand            0.999091   0.887131            0.914317   \n",
       "new_tests_per_thousand              0.941725   0.959038            0.967325   \n",
       "new_tests_smoothed                  0.967978   0.967693            0.981196   \n",
       "new_tests_smoothed_per_thousand     0.967979   0.967680            0.981183   \n",
       "tests_per_case                     -0.374476  -0.548099           -0.530946   \n",
       "positive_rate                       0.325350   0.571757            0.544814   \n",
       "stringency_index                   -0.391236  -0.415531           -0.416152   \n",
       "\n",
       "                                 total_deaths  new_deaths  \\\n",
       "total_cases                          0.993100    0.808081   \n",
       "new_cases                            0.935669    0.930156   \n",
       "new_cases_smoothed                   0.956324    0.922412   \n",
       "total_deaths                         1.000000    0.857914   \n",
       "new_deaths                           0.857914    1.000000   \n",
       "new_deaths_smoothed                  0.920607    0.953113   \n",
       "total_cases_per_million              0.993100    0.808081   \n",
       "new_cases_per_million                0.935669    0.930155   \n",
       "new_cases_smoothed_per_million       0.956324    0.922413   \n",
       "total_deaths_per_million             1.000000    0.857913   \n",
       "new_deaths_per_million               0.857938    1.000000   \n",
       "new_deaths_smoothed_per_million      0.920621    0.953084   \n",
       "new_tests                            0.960662    0.882659   \n",
       "total_tests                          0.990541    0.797951   \n",
       "total_tests_per_thousand             0.990541    0.797951   \n",
       "new_tests_per_thousand               0.960652    0.882671   \n",
       "new_tests_smoothed                   0.983260    0.886527   \n",
       "new_tests_smoothed_per_thousand      0.983267    0.886511   \n",
       "tests_per_case                      -0.449485   -0.626855   \n",
       "positive_rate                        0.421057    0.659554   \n",
       "stringency_index                    -0.436663   -0.501726   \n",
       "\n",
       "                                 new_deaths_smoothed  total_cases_per_million  \\\n",
       "total_cases                                 0.873333                 1.000000   \n",
       "new_cases                                   0.972385                 0.899804   \n",
       "new_cases_smoothed                          0.973658                 0.926156   \n",
       "total_deaths                                0.920607                 0.993100   \n",
       "new_deaths                                  0.953113                 0.808081   \n",
       "new_deaths_smoothed                         1.000000                 0.873333   \n",
       "total_cases_per_million                     0.873333                 1.000000   \n",
       "new_cases_per_million                       0.972385                 0.899804   \n",
       "new_cases_smoothed_per_million              0.973658                 0.926156   \n",
       "total_deaths_per_million                    0.920606                 0.993100   \n",
       "new_deaths_per_million                      0.953131                 0.808108   \n",
       "new_deaths_smoothed_per_million             0.999999                 0.873353   \n",
       "new_tests                                   0.934414                 0.941754   \n",
       "total_tests                                 0.863584                 0.999091   \n",
       "total_tests_per_thousand                    0.863584                 0.999091   \n",
       "new_tests_per_thousand                      0.934450                 0.941725   \n",
       "new_tests_smoothed                          0.943600                 0.967978   \n",
       "new_tests_smoothed_per_thousand             0.943599                 0.967979   \n",
       "tests_per_case                             -0.638363                -0.374476   \n",
       "positive_rate                               0.665655                 0.325350   \n",
       "stringency_index                           -0.523317                -0.391236   \n",
       "\n",
       "                                 new_cases_per_million  \\\n",
       "total_cases                                   0.899804   \n",
       "new_cases                                     1.000000   \n",
       "new_cases_smoothed                            0.993376   \n",
       "total_deaths                                  0.935669   \n",
       "new_deaths                                    0.930155   \n",
       "new_deaths_smoothed                           0.972385   \n",
       "total_cases_per_million                       0.899804   \n",
       "new_cases_per_million                         1.000000   \n",
       "new_cases_smoothed_per_million                0.993376   \n",
       "total_deaths_per_million                      0.935668   \n",
       "new_deaths_per_million                        0.930189   \n",
       "new_deaths_smoothed_per_million               0.972389   \n",
       "new_tests                                     0.959000   \n",
       "total_tests                                   0.887131   \n",
       "total_tests_per_thousand                      0.887131   \n",
       "new_tests_per_thousand                        0.959038   \n",
       "new_tests_smoothed                            0.967693   \n",
       "new_tests_smoothed_per_thousand               0.967680   \n",
       "tests_per_case                               -0.548098   \n",
       "positive_rate                                 0.571757   \n",
       "stringency_index                             -0.415530   \n",
       "\n",
       "                                 new_cases_smoothed_per_million  \\\n",
       "total_cases                                            0.926156   \n",
       "new_cases                                              0.993376   \n",
       "new_cases_smoothed                                     1.000000   \n",
       "total_deaths                                           0.956324   \n",
       "new_deaths                                             0.922413   \n",
       "new_deaths_smoothed                                    0.973658   \n",
       "total_cases_per_million                                0.926156   \n",
       "new_cases_per_million                                  0.993376   \n",
       "new_cases_smoothed_per_million                         1.000000   \n",
       "total_deaths_per_million                               0.956324   \n",
       "new_deaths_per_million                                 0.922452   \n",
       "new_deaths_smoothed_per_million                        0.973663   \n",
       "new_tests                                              0.967306   \n",
       "total_tests                                            0.914317   \n",
       "total_tests_per_thousand                               0.914317   \n",
       "new_tests_per_thousand                                 0.967325   \n",
       "new_tests_smoothed                                     0.981196   \n",
       "new_tests_smoothed_per_thousand                        0.981183   \n",
       "tests_per_case                                        -0.530946   \n",
       "positive_rate                                          0.544814   \n",
       "stringency_index                                      -0.416153   \n",
       "\n",
       "                                 total_deaths_per_million  ...  \\\n",
       "total_cases                                      0.993100  ...   \n",
       "new_cases                                        0.935668  ...   \n",
       "new_cases_smoothed                               0.956324  ...   \n",
       "total_deaths                                     1.000000  ...   \n",
       "new_deaths                                       0.857913  ...   \n",
       "new_deaths_smoothed                              0.920606  ...   \n",
       "total_cases_per_million                          0.993100  ...   \n",
       "new_cases_per_million                            0.935668  ...   \n",
       "new_cases_smoothed_per_million                   0.956324  ...   \n",
       "total_deaths_per_million                         1.000000  ...   \n",
       "new_deaths_per_million                           0.857937  ...   \n",
       "new_deaths_smoothed_per_million                  0.920621  ...   \n",
       "new_tests                                        0.960662  ...   \n",
       "total_tests                                      0.990542  ...   \n",
       "total_tests_per_thousand                         0.990542  ...   \n",
       "new_tests_per_thousand                           0.960652  ...   \n",
       "new_tests_smoothed                               0.983260  ...   \n",
       "new_tests_smoothed_per_thousand                  0.983266  ...   \n",
       "tests_per_case                                  -0.449484  ...   \n",
       "positive_rate                                    0.421056  ...   \n",
       "stringency_index                                -0.436663  ...   \n",
       "\n",
       "                                 new_deaths_smoothed_per_million  new_tests  \\\n",
       "total_cases                                             0.873353   0.941754   \n",
       "new_cases                                               0.972389   0.959000   \n",
       "new_cases_smoothed                                      0.973663   0.967306   \n",
       "total_deaths                                            0.920621   0.960662   \n",
       "new_deaths                                              0.953084   0.882659   \n",
       "new_deaths_smoothed                                     0.999999   0.934414   \n",
       "total_cases_per_million                                 0.873353   0.941754   \n",
       "new_cases_per_million                                   0.972389   0.959000   \n",
       "new_cases_smoothed_per_million                          0.973663   0.967306   \n",
       "total_deaths_per_million                                0.920621   0.960662   \n",
       "new_deaths_per_million                                  0.953103   0.882696   \n",
       "new_deaths_smoothed_per_million                         1.000000   0.934445   \n",
       "new_tests                                               0.934445   1.000000   \n",
       "total_tests                                             0.863603   0.933813   \n",
       "total_tests_per_thousand                                0.863604   0.933813   \n",
       "new_tests_per_thousand                                  0.934481   1.000000   \n",
       "new_tests_smoothed                                      0.943617   0.981310   \n",
       "new_tests_smoothed_per_thousand                         0.943615   0.981302   \n",
       "tests_per_case                                         -0.638376  -0.466878   \n",
       "positive_rate                                           0.665608   0.437473   \n",
       "stringency_index                                       -0.523277  -0.407504   \n",
       "\n",
       "                                 total_tests  total_tests_per_thousand  \\\n",
       "total_cases                         0.999091                  0.999091   \n",
       "new_cases                           0.887131                  0.887131   \n",
       "new_cases_smoothed                  0.914317                  0.914317   \n",
       "total_deaths                        0.990541                  0.990541   \n",
       "new_deaths                          0.797951                  0.797951   \n",
       "new_deaths_smoothed                 0.863584                  0.863584   \n",
       "total_cases_per_million             0.999091                  0.999091   \n",
       "new_cases_per_million               0.887131                  0.887131   \n",
       "new_cases_smoothed_per_million      0.914317                  0.914317   \n",
       "total_deaths_per_million            0.990542                  0.990542   \n",
       "new_deaths_per_million              0.797974                  0.797974   \n",
       "new_deaths_smoothed_per_million     0.863603                  0.863604   \n",
       "new_tests                           0.933813                  0.933813   \n",
       "total_tests                         1.000000                  1.000000   \n",
       "total_tests_per_thousand            1.000000                  1.000000   \n",
       "new_tests_per_thousand              0.933783                  0.933783   \n",
       "new_tests_smoothed                  0.960881                  0.960881   \n",
       "new_tests_smoothed_per_thousand     0.960884                  0.960884   \n",
       "tests_per_case                     -0.375214                 -0.375215   \n",
       "positive_rate                       0.320239                  0.320239   \n",
       "stringency_index                   -0.406610                 -0.406609   \n",
       "\n",
       "                                 new_tests_per_thousand  new_tests_smoothed  \\\n",
       "total_cases                                    0.941725            0.967978   \n",
       "new_cases                                      0.959038            0.967693   \n",
       "new_cases_smoothed                             0.967325            0.981196   \n",
       "total_deaths                                   0.960652            0.983260   \n",
       "new_deaths                                     0.882671            0.886527   \n",
       "new_deaths_smoothed                            0.934450            0.943600   \n",
       "total_cases_per_million                        0.941725            0.967978   \n",
       "new_cases_per_million                          0.959038            0.967693   \n",
       "new_cases_smoothed_per_million                 0.967325            0.981196   \n",
       "total_deaths_per_million                       0.960652            0.983260   \n",
       "new_deaths_per_million                         0.882708            0.886558   \n",
       "new_deaths_smoothed_per_million                0.934481            0.943617   \n",
       "new_tests                                      1.000000            0.981310   \n",
       "total_tests                                    0.933783            0.960881   \n",
       "total_tests_per_thousand                       0.933783            0.960881   \n",
       "new_tests_per_thousand                         1.000000            0.981313   \n",
       "new_tests_smoothed                             0.981313            1.000000   \n",
       "new_tests_smoothed_per_thousand                0.981304            1.000000   \n",
       "tests_per_case                                -0.466949           -0.461983   \n",
       "positive_rate                                  0.437596            0.425782   \n",
       "stringency_index                              -0.407514           -0.413895   \n",
       "\n",
       "                                 new_tests_smoothed_per_thousand  \\\n",
       "total_cases                                             0.967979   \n",
       "new_cases                                               0.967680   \n",
       "new_cases_smoothed                                      0.981183   \n",
       "total_deaths                                            0.983267   \n",
       "new_deaths                                              0.886511   \n",
       "new_deaths_smoothed                                     0.943599   \n",
       "total_cases_per_million                                 0.967979   \n",
       "new_cases_per_million                                   0.967680   \n",
       "new_cases_smoothed_per_million                          0.981183   \n",
       "total_deaths_per_million                                0.983266   \n",
       "new_deaths_per_million                                  0.886542   \n",
       "new_deaths_smoothed_per_million                         0.943615   \n",
       "new_tests                                               0.981302   \n",
       "total_tests                                             0.960884   \n",
       "total_tests_per_thousand                                0.960884   \n",
       "new_tests_per_thousand                                  0.981304   \n",
       "new_tests_smoothed                                      1.000000   \n",
       "new_tests_smoothed_per_thousand                         1.000000   \n",
       "tests_per_case                                         -0.461962   \n",
       "positive_rate                                           0.425790   \n",
       "stringency_index                                       -0.413904   \n",
       "\n",
       "                                 tests_per_case  positive_rate  \\\n",
       "total_cases                           -0.374476       0.325350   \n",
       "new_cases                             -0.548099       0.571757   \n",
       "new_cases_smoothed                    -0.530946       0.544814   \n",
       "total_deaths                          -0.449485       0.421057   \n",
       "new_deaths                            -0.626855       0.659554   \n",
       "new_deaths_smoothed                   -0.638363       0.665655   \n",
       "total_cases_per_million               -0.374476       0.325350   \n",
       "new_cases_per_million                 -0.548098       0.571757   \n",
       "new_cases_smoothed_per_million        -0.530946       0.544814   \n",
       "total_deaths_per_million              -0.449484       0.421056   \n",
       "new_deaths_per_million                -0.626843       0.659560   \n",
       "new_deaths_smoothed_per_million       -0.638376       0.665608   \n",
       "new_tests                             -0.466878       0.437473   \n",
       "total_tests                           -0.375214       0.320239   \n",
       "total_tests_per_thousand              -0.375215       0.320239   \n",
       "new_tests_per_thousand                -0.466949       0.437596   \n",
       "new_tests_smoothed                    -0.461983       0.425782   \n",
       "new_tests_smoothed_per_thousand       -0.461962       0.425790   \n",
       "tests_per_case                         1.000000      -0.871162   \n",
       "positive_rate                         -0.871162       1.000000   \n",
       "stringency_index                       0.498154      -0.579711   \n",
       "\n",
       "                                 stringency_index  \n",
       "total_cases                             -0.391236  \n",
       "new_cases                               -0.415531  \n",
       "new_cases_smoothed                      -0.416152  \n",
       "total_deaths                            -0.436663  \n",
       "new_deaths                              -0.501726  \n",
       "new_deaths_smoothed                     -0.523317  \n",
       "total_cases_per_million                 -0.391236  \n",
       "new_cases_per_million                   -0.415530  \n",
       "new_cases_smoothed_per_million          -0.416153  \n",
       "total_deaths_per_million                -0.436663  \n",
       "new_deaths_per_million                  -0.501656  \n",
       "new_deaths_smoothed_per_million         -0.523277  \n",
       "new_tests                               -0.407504  \n",
       "total_tests                             -0.406610  \n",
       "total_tests_per_thousand                -0.406609  \n",
       "new_tests_per_thousand                  -0.407514  \n",
       "new_tests_smoothed                      -0.413895  \n",
       "new_tests_smoothed_per_thousand         -0.413904  \n",
       "tests_per_case                           0.498154  \n",
       "positive_rate                           -0.579711  \n",
       "stringency_index                         1.000000  \n",
       "\n",
       "[21 rows x 21 columns]"
      ]
     },
     "execution_count": 82,
     "metadata": {},
     "output_type": "execute_result"
    }
   ],
   "source": [
    "df_India.corr()"
   ]
  },
  {
   "cell_type": "markdown",
   "metadata": {
    "colab": {
     "base_uri": "https://localhost:8080/",
     "height": 713
    },
    "executionInfo": {
     "elapsed": 939,
     "status": "ok",
     "timestamp": 1603158087320,
     "user": {
      "displayName": "Nilava Kar",
      "photoUrl": "https://lh3.googleusercontent.com/-LtetLvd71MA/AAAAAAAAAAI/AAAAAAAAIJ8/ZzFR0tU6osg/s64/photo.jpg",
      "userId": "00608076695026843354"
     },
     "user_tz": -330
    },
    "id": "twsMAp34O7IM",
    "outputId": "712fc6a2-1834-44ce-ca5c-f94719b24c41"
   },
   "source": [
    "## relplot"
   ]
  },
  {
   "cell_type": "code",
   "execution_count": 83,
   "metadata": {
    "colab": {
     "base_uri": "https://localhost:8080/",
     "height": 401
    },
    "executionInfo": {
     "elapsed": 1023,
     "status": "ok",
     "timestamp": 1603158113100,
     "user": {
      "displayName": "Nilava Kar",
      "photoUrl": "https://lh3.googleusercontent.com/-LtetLvd71MA/AAAAAAAAAAI/AAAAAAAAIJ8/ZzFR0tU6osg/s64/photo.jpg",
      "userId": "00608076695026843354"
     },
     "user_tz": -330
    },
    "id": "rvRz3mbH3_yt",
    "outputId": "07b34eff-5a0e-45ab-8232-95e129089bf1"
   },
   "outputs": [
    {
     "data": {
      "text/plain": [
       "<seaborn.axisgrid.FacetGrid at 0x1fff66f7d00>"
      ]
     },
     "execution_count": 83,
     "metadata": {},
     "output_type": "execute_result"
    },
    {
     "data": {
      "image/png": "[encoded data removed]",
      "text/plain": [
       "<Figure size 360x360 with 1 Axes>"
      ]
     },
     "metadata": {
      "needs_background": "light"
     },
     "output_type": "display_data"
    }
   ],
   "source": [
    "sns.relplot(x=\"new_cases_smoothed\", y=\"new_deaths_smoothed\", data=df_India)"
   ]
  },
  {
   "cell_type": "code",
   "execution_count": 84,
   "metadata": {
    "colab": {
     "base_uri": "https://localhost:8080/",
     "height": 401
    },
    "executionInfo": {
     "elapsed": 1098,
     "status": "ok",
     "timestamp": 1603158116657,
     "user": {
      "displayName": "Nilava Kar",
      "photoUrl": "https://lh3.googleusercontent.com/-LtetLvd71MA/AAAAAAAAAAI/AAAAAAAAIJ8/ZzFR0tU6osg/s64/photo.jpg",
      "userId": "00608076695026843354"
     },
     "user_tz": -330
    },
    "id": "KtgEh5eD6E59",
    "outputId": "ac3bc2e7-e18e-4fe9-8f9c-9d110c008fb4"
   },
   "outputs": [
    {
     "data": {
      "text/plain": [
       "<seaborn.axisgrid.FacetGrid at 0x1fff66d87c0>"
      ]
     },
     "execution_count": 84,
     "metadata": {},
     "output_type": "execute_result"
    },
    {
     "data": {
      "image/png": "[encoded data removed]",
      "text/plain": [
       "<Figure size 360x360 with 1 Axes>"
      ]
     },
     "metadata": {
      "needs_background": "light"
     },
     "output_type": "display_data"
    }
   ],
   "source": [
    "sns.relplot(x=\"total_deaths\",y=\"new_deaths\",data=df_India)"
   ]
  },
  {
   "cell_type": "code",
   "execution_count": 85,
   "metadata": {
    "colab": {
     "base_uri": "https://localhost:8080/",
     "height": 401
    },
    "executionInfo": {
     "elapsed": 1069,
     "status": "ok",
     "timestamp": 1603158127005,
     "user": {
      "displayName": "Nilava Kar",
      "photoUrl": "https://lh3.googleusercontent.com/-LtetLvd71MA/AAAAAAAAAAI/AAAAAAAAIJ8/ZzFR0tU6osg/s64/photo.jpg",
      "userId": "00608076695026843354"
     },
     "user_tz": -330
    },
    "id": "eaXfYVMA6Uxy",
    "outputId": "6243cee3-f9cf-4993-d339-ce62a43c5ec2"
   },
   "outputs": [
    {
     "data": {
      "text/plain": [
       "<seaborn.axisgrid.FacetGrid at 0x1fff643e820>"
      ]
     },
     "execution_count": 85,
     "metadata": {},
     "output_type": "execute_result"
    },
    {
     "data": {
      "image/png": "[encoded data removed]",
      "text/plain": [
       "<Figure size 360x360 with 1 Axes>"
      ]
     },
     "metadata": {
      "needs_background": "light"
     },
     "output_type": "display_data"
    }
   ],
   "source": [
    "sns.relplot(x=\"positive_rate\",y=\"new_tests_smoothed_per_thousand\",data=df_India)"
   ]
  },
  {
   "cell_type": "code",
   "execution_count": 86,
   "metadata": {
    "colab": {
     "base_uri": "https://localhost:8080/",
     "height": 401
    },
    "executionInfo": {
     "elapsed": 1498,
     "status": "ok",
     "timestamp": 1603115370776,
     "user": {
      "displayName": "Nilava Kar",
      "photoUrl": "https://lh3.googleusercontent.com/-LtetLvd71MA/AAAAAAAAAAI/AAAAAAAAIJ8/ZzFR0tU6osg/s64/photo.jpg",
      "userId": "00608076695026843354"
     },
     "user_tz": -330
    },
    "id": "Bg7e3oz96dHx",
    "outputId": "6e23f062-3905-4f2c-da0f-bac6aa2dfc32"
   },
   "outputs": [
    {
     "data": {
      "text/plain": [
       "<seaborn.axisgrid.FacetGrid at 0x1fff5136cd0>"
      ]
     },
     "execution_count": 86,
     "metadata": {},
     "output_type": "execute_result"
    },
    {
     "data": {
      "image/png": "[encoded data removed]",
      "text/plain": [
       "<Figure size 360x360 with 1 Axes>"
      ]
     },
     "metadata": {
      "needs_background": "light"
     },
     "output_type": "display_data"
    }
   ],
   "source": [
    "sns.relplot(x=\"positive_rate\",y=\"new_deaths\",data=df_India)"
   ]
  },
  {
   "cell_type": "code",
   "execution_count": 87,
   "metadata": {
    "colab": {
     "base_uri": "https://localhost:8080/",
     "height": 389
    },
    "executionInfo": {
     "elapsed": 1441,
     "status": "ok",
     "timestamp": 1603115779690,
     "user": {
      "displayName": "Nilava Kar",
      "photoUrl": "https://lh3.googleusercontent.com/-LtetLvd71MA/AAAAAAAAAAI/AAAAAAAAIJ8/ZzFR0tU6osg/s64/photo.jpg",
      "userId": "00608076695026843354"
     },
     "user_tz": -330
    },
    "id": "5tjchHUEI3qm",
    "outputId": "40f96819-dbba-42b6-89cb-899a0174d03e"
   },
   "outputs": [
    {
     "data": {
      "text/plain": [
       "<seaborn.axisgrid.FacetGrid at 0x1ffece94af0>"
      ]
     },
     "execution_count": 87,
     "metadata": {},
     "output_type": "execute_result"
    },
    {
     "data": {
      "image/png": "[encoded data removed]",
      "text/plain": [
       "<Figure size 360x360 with 1 Axes>"
      ]
     },
     "metadata": {
      "needs_background": "light"
     },
     "output_type": "display_data"
    }
   ],
   "source": [
    "sns.relplot(x=\"total_cases\",y=\"total_deaths\",data=df_India)"
   ]
  },
  {
   "cell_type": "code",
   "execution_count": 88,
   "metadata": {
    "id": "97F78PEX6k0y"
   },
   "outputs": [],
   "source": [
    "df_India=df_India.set_index('date')"
   ]
  },
  {
   "cell_type": "markdown",
   "metadata": {
    "id": "97F78PEX6k0y"
   },
   "source": [
    "## Single Value plots"
   ]
  },
  {
   "cell_type": "markdown",
   "metadata": {
    "id": "97F78PEX6k0y"
   },
   "source": [
    "### For Positive rate"
   ]
  },
  {
   "cell_type": "code",
   "execution_count": 89,
   "metadata": {
    "colab": {
     "base_uri": "https://localhost:8080/",
     "height": 393
    },
    "executionInfo": {
     "elapsed": 1428,
     "status": "ok",
     "timestamp": 1603115344351,
     "user": {
      "displayName": "Nilava Kar",
      "photoUrl": "https://lh3.googleusercontent.com/-LtetLvd71MA/AAAAAAAAAAI/AAAAAAAAIJ8/ZzFR0tU6osg/s64/photo.jpg",
      "userId": "00608076695026843354"
     },
     "user_tz": -330
    },
    "id": "i8kHcK8H6r6a",
    "outputId": "17e8a69b-4445-4262-9bc8-7a3848d97d7f"
   },
   "outputs": [
    {
     "data": {
      "text/plain": [
       "<matplotlib.axes._subplots.AxesSubplot at 0x1fff6b862e0>"
      ]
     },
     "execution_count": 89,
     "metadata": {},
     "output_type": "execute_result"
    },
    {
     "data": {
      "image/png": "[encoded data removed]",
      "text/plain": [
       "<Figure size 1008x432 with 1 Axes>"
      ]
     },
     "metadata": {
      "needs_background": "light"
     },
     "output_type": "display_data"
    }
   ],
   "source": [
    "df_India['positive_rate'].plot(figsize=(14,6))"
   ]
  },
  {
   "cell_type": "markdown",
   "metadata": {
    "colab": {
     "base_uri": "https://localhost:8080/",
     "height": 393
    },
    "executionInfo": {
     "elapsed": 1428,
     "status": "ok",
     "timestamp": 1603115344351,
     "user": {
      "displayName": "Nilava Kar",
      "photoUrl": "https://lh3.googleusercontent.com/-LtetLvd71MA/AAAAAAAAAAI/AAAAAAAAIJ8/ZzFR0tU6osg/s64/photo.jpg",
      "userId": "00608076695026843354"
     },
     "user_tz": -330
    },
    "id": "i8kHcK8H6r6a",
    "outputId": "17e8a69b-4445-4262-9bc8-7a3848d97d7f"
   },
   "source": [
    "### For new_deaths_smoothed"
   ]
  },
  {
   "cell_type": "code",
   "execution_count": 90,
   "metadata": {
    "colab": {
     "base_uri": "https://localhost:8080/",
     "height": 393
    },
    "executionInfo": {
     "elapsed": 1434,
     "status": "ok",
     "timestamp": 1603115567363,
     "user": {
      "displayName": "Nilava Kar",
      "photoUrl": "https://lh3.googleusercontent.com/-LtetLvd71MA/AAAAAAAAAAI/AAAAAAAAIJ8/ZzFR0tU6osg/s64/photo.jpg",
      "userId": "00608076695026843354"
     },
     "user_tz": -330
    },
    "id": "xFiLb3yGIMbU",
    "outputId": "3280da94-b8f7-4feb-b08f-cd020144b773"
   },
   "outputs": [
    {
     "data": {
      "text/plain": [
       "<matplotlib.axes._subplots.AxesSubplot at 0x1fff5121cd0>"
      ]
     },
     "execution_count": 90,
     "metadata": {},
     "output_type": "execute_result"
    },
    {
     "data": {
      "image/png": "[encoded data removed]",
      "text/plain": [
       "<Figure size 1008x432 with 1 Axes>"
      ]
     },
     "metadata": {
      "needs_background": "light"
     },
     "output_type": "display_data"
    }
   ],
   "source": [
    "df_India['new_deaths_smoothed'].plot(figsize=(14,6))"
   ]
  },
  {
   "cell_type": "markdown",
   "metadata": {
    "colab": {
     "base_uri": "https://localhost:8080/",
     "height": 393
    },
    "executionInfo": {
     "elapsed": 1434,
     "status": "ok",
     "timestamp": 1603115567363,
     "user": {
      "displayName": "Nilava Kar",
      "photoUrl": "https://lh3.googleusercontent.com/-LtetLvd71MA/AAAAAAAAAAI/AAAAAAAAIJ8/ZzFR0tU6osg/s64/photo.jpg",
      "userId": "00608076695026843354"
     },
     "user_tz": -330
    },
    "id": "xFiLb3yGIMbU",
    "outputId": "3280da94-b8f7-4feb-b08f-cd020144b773"
   },
   "source": [
    "### For new_tests_smoothed_per_thousand"
   ]
  },
  {
   "cell_type": "code",
   "execution_count": 91,
   "metadata": {
    "colab": {
     "base_uri": "https://localhost:8080/",
     "height": 393
    },
    "executionInfo": {
     "elapsed": 1404,
     "status": "ok",
     "timestamp": 1603116036422,
     "user": {
      "displayName": "Nilava Kar",
      "photoUrl": "https://lh3.googleusercontent.com/-LtetLvd71MA/AAAAAAAAAAI/AAAAAAAAIJ8/ZzFR0tU6osg/s64/photo.jpg",
      "userId": "00608076695026843354"
     },
     "user_tz": -330
    },
    "id": "UfhytrK1KE6Q",
    "outputId": "43f9399b-82d5-4c4f-bbe6-ab6e4fcf516b"
   },
   "outputs": [
    {
     "data": {
      "text/plain": [
       "<matplotlib.axes._subplots.AxesSubplot at 0x1fff6c33610>"
      ]
     },
     "execution_count": 91,
     "metadata": {},
     "output_type": "execute_result"
    },
    {
     "data": {
      "image/png": "[encoded data removed]",
      "text/plain": [
       "<Figure size 1008x432 with 1 Axes>"
      ]
     },
     "metadata": {
      "needs_background": "light"
     },
     "output_type": "display_data"
    }
   ],
   "source": [
    "df_India['new_tests_smoothed_per_thousand'].plot(figsize=(14,6))"
   ]
  },
  {
   "cell_type": "markdown",
   "metadata": {
    "colab": {
     "base_uri": "https://localhost:8080/",
     "height": 393
    },
    "executionInfo": {
     "elapsed": 1404,
     "status": "ok",
     "timestamp": 1603116036422,
     "user": {
      "displayName": "Nilava Kar",
      "photoUrl": "https://lh3.googleusercontent.com/-LtetLvd71MA/AAAAAAAAAAI/AAAAAAAAIJ8/ZzFR0tU6osg/s64/photo.jpg",
      "userId": "00608076695026843354"
     },
     "user_tz": -330
    },
    "id": "UfhytrK1KE6Q",
    "outputId": "43f9399b-82d5-4c4f-bbe6-ab6e4fcf516b"
   },
   "source": [
    "### For total_tests"
   ]
  },
  {
   "cell_type": "code",
   "execution_count": 92,
   "metadata": {
    "colab": {
     "base_uri": "https://localhost:8080/",
     "height": 403
    },
    "executionInfo": {
     "elapsed": 1657,
     "status": "ok",
     "timestamp": 1603116090117,
     "user": {
      "displayName": "Nilava Kar",
      "photoUrl": "https://lh3.googleusercontent.com/-LtetLvd71MA/AAAAAAAAAAI/AAAAAAAAIJ8/ZzFR0tU6osg/s64/photo.jpg",
      "userId": "00608076695026843354"
     },
     "user_tz": -330
    },
    "id": "Qrf99pJTKZEx",
    "outputId": "1d2b57b4-0796-4029-ef1e-265b071abab3"
   },
   "outputs": [
    {
     "data": {
      "text/plain": [
       "<matplotlib.axes._subplots.AxesSubplot at 0x1fff70b9670>"
      ]
     },
     "execution_count": 92,
     "metadata": {},
     "output_type": "execute_result"
    },
    {
     "data": {
      "image/png": "[encoded data removed]",
      "text/plain": [
       "<Figure size 1008x432 with 1 Axes>"
      ]
     },
     "metadata": {
      "needs_background": "light"
     },
     "output_type": "display_data"
    }
   ],
   "source": [
    "df_India['total_tests'].plot(figsize=(14,6))"
   ]
  },
  {
   "cell_type": "markdown",
   "metadata": {
    "colab": {
     "base_uri": "https://localhost:8080/",
     "height": 403
    },
    "executionInfo": {
     "elapsed": 1657,
     "status": "ok",
     "timestamp": 1603116090117,
     "user": {
      "displayName": "Nilava Kar",
      "photoUrl": "https://lh3.googleusercontent.com/-LtetLvd71MA/AAAAAAAAAAI/AAAAAAAAIJ8/ZzFR0tU6osg/s64/photo.jpg",
      "userId": "00608076695026843354"
     },
     "user_tz": -330
    },
    "id": "Qrf99pJTKZEx",
    "outputId": "1d2b57b4-0796-4029-ef1e-265b071abab3"
   },
   "source": [
    "### For stringency_index"
   ]
  },
  {
   "cell_type": "code",
   "execution_count": 93,
   "metadata": {
    "colab": {
     "base_uri": "https://localhost:8080/",
     "height": 393
    },
    "executionInfo": {
     "elapsed": 1359,
     "status": "ok",
     "timestamp": 1603117269094,
     "user": {
      "displayName": "Nilava Kar",
      "photoUrl": "https://lh3.googleusercontent.com/-LtetLvd71MA/AAAAAAAAAAI/AAAAAAAAIJ8/ZzFR0tU6osg/s64/photo.jpg",
      "userId": "00608076695026843354"
     },
     "user_tz": -330
    },
    "id": "nzVlA2W-OzxQ",
    "outputId": "8c632390-f150-4c41-e9cc-cd1ad2c1e367"
   },
   "outputs": [
    {
     "data": {
      "text/plain": [
       "<matplotlib.axes._subplots.AxesSubplot at 0x1fff6f128b0>"
      ]
     },
     "execution_count": 93,
     "metadata": {},
     "output_type": "execute_result"
    },
    {
     "data": {
      "image/png": "[encoded data removed]",
      "text/plain": [
       "<Figure size 1008x432 with 1 Axes>"
      ]
     },
     "metadata": {
      "needs_background": "light"
     },
     "output_type": "display_data"
    }
   ],
   "source": [
    "df_India['stringency_index'].plot(figsize=(14,6))"
   ]
  },
  {
   "cell_type": "markdown",
   "metadata": {
    "colab": {
     "base_uri": "https://localhost:8080/",
     "height": 393
    },
    "executionInfo": {
     "elapsed": 1359,
     "status": "ok",
     "timestamp": 1603117269094,
     "user": {
      "displayName": "Nilava Kar",
      "photoUrl": "https://lh3.googleusercontent.com/-LtetLvd71MA/AAAAAAAAAAI/AAAAAAAAIJ8/ZzFR0tU6osg/s64/photo.jpg",
      "userId": "00608076695026843354"
     },
     "user_tz": -330
    },
    "id": "nzVlA2W-OzxQ",
    "outputId": "8c632390-f150-4c41-e9cc-cd1ad2c1e367"
   },
   "source": [
    "### Relplot"
   ]
  },
  {
   "cell_type": "code",
   "execution_count": 94,
   "metadata": {
    "colab": {
     "base_uri": "https://localhost:8080/",
     "height": 389
    },
    "executionInfo": {
     "elapsed": 1337,
     "status": "ok",
     "timestamp": 1603116136969,
     "user": {
      "displayName": "Nilava Kar",
      "photoUrl": "https://lh3.googleusercontent.com/-LtetLvd71MA/AAAAAAAAAAI/AAAAAAAAIJ8/ZzFR0tU6osg/s64/photo.jpg",
      "userId": "00608076695026843354"
     },
     "user_tz": -330
    },
    "id": "K2aWXTz269tR",
    "outputId": "c3e9fcb2-95d9-4150-d394-1043b68094e7"
   },
   "outputs": [
    {
     "data": {
      "text/plain": [
       "<seaborn.axisgrid.FacetGrid at 0x1fff70a1670>"
      ]
     },
     "execution_count": 94,
     "metadata": {},
     "output_type": "execute_result"
    },
    {
     "data": {
      "image/png": "[encoded data removed]",
      "text/plain": [
       "<Figure size 360x360 with 1 Axes>"
      ]
     },
     "metadata": {
      "needs_background": "light"
     },
     "output_type": "display_data"
    }
   ],
   "source": [
    "sns.relplot(x=\"total_tests\",y=\"positive_rate\",data=df_India)"
   ]
  },
  {
   "cell_type": "code",
   "execution_count": 95,
   "metadata": {
    "colab": {
     "base_uri": "https://localhost:8080/",
     "height": 389
    },
    "executionInfo": {
     "elapsed": 1652,
     "status": "ok",
     "timestamp": 1603116331780,
     "user": {
      "displayName": "Nilava Kar",
      "photoUrl": "https://lh3.googleusercontent.com/-LtetLvd71MA/AAAAAAAAAAI/AAAAAAAAIJ8/ZzFR0tU6osg/s64/photo.jpg",
      "userId": "00608076695026843354"
     },
     "user_tz": -330
    },
    "id": "1PnqXt1fGh0V",
    "outputId": "2a096cbc-7dad-4c72-f8df-c6cbe4e9ba5a"
   },
   "outputs": [
    {
     "data": {
      "text/plain": [
       "<seaborn.axisgrid.FacetGrid at 0x1fff6f15700>"
      ]
     },
     "execution_count": 95,
     "metadata": {},
     "output_type": "execute_result"
    },
    {
     "data": {
      "image/png": "[encoded data removed]",
      "text/plain": [
       "<Figure size 360x360 with 1 Axes>"
      ]
     },
     "metadata": {
      "needs_background": "light"
     },
     "output_type": "display_data"
    }
   ],
   "source": [
    "sns.relplot(x=\"total_tests\",y=\"total_deaths_per_million\",data=df_India)"
   ]
  },
  {
   "cell_type": "code",
   "execution_count": 96,
   "metadata": {
    "colab": {
     "base_uri": "https://localhost:8080/",
     "height": 1000,
     "output_embedded_package_id": "1V-CDy7X0CN_bAK0P3x7gZiCAVB5ieDG7"
    },
    "executionInfo": {
     "elapsed": 213638,
     "status": "ok",
     "timestamp": 1603117668131,
     "user": {
      "displayName": "Nilava Kar",
      "photoUrl": "https://lh3.googleusercontent.com/-LtetLvd71MA/AAAAAAAAAAI/AAAAAAAAIJ8/ZzFR0tU6osg/s64/photo.jpg",
      "userId": "00608076695026843354"
     },
     "user_tz": -330
    },
    "id": "uAUb95s9L4Of",
    "outputId": "bb3730b3-3387-449c-e934-ffa51b3f485b"
   },
   "outputs": [],
   "source": [
    "#sns.pairplot(df_India)"
   ]
  },
  {
   "cell_type": "code",
   "execution_count": 97,
   "metadata": {
    "colab": {
     "base_uri": "https://localhost:8080/",
     "height": 389
    },
    "executionInfo": {
     "elapsed": 1349,
     "status": "ok",
     "timestamp": 1603118243413,
     "user": {
      "displayName": "Nilava Kar",
      "photoUrl": "https://lh3.googleusercontent.com/-LtetLvd71MA/AAAAAAAAAAI/AAAAAAAAIJ8/ZzFR0tU6osg/s64/photo.jpg",
      "userId": "00608076695026843354"
     },
     "user_tz": -330
    },
    "id": "cux596oyRorF",
    "outputId": "18f98a03-55c5-4365-b0d8-5012ff003dd4"
   },
   "outputs": [
    {
     "data": {
      "text/plain": [
       "<seaborn.axisgrid.FacetGrid at 0x1fff6be0340>"
      ]
     },
     "execution_count": 97,
     "metadata": {},
     "output_type": "execute_result"
    },
    {
     "data": {
      "image/png": "[encoded data removed]",
      "text/plain": [
       "<Figure size 360x360 with 1 Axes>"
      ]
     },
     "metadata": {
      "needs_background": "light"
     },
     "output_type": "display_data"
    }
   ],
   "source": [
    "sns.relplot(x=\"total_tests\",y=\"tests_per_case\",data=df_India)"
   ]
  },
  {
   "cell_type": "code",
   "execution_count": 98,
   "metadata": {
    "colab": {
     "base_uri": "https://localhost:8080/",
     "height": 277
    },
    "executionInfo": {
     "elapsed": 1318,
     "status": "ok",
     "timestamp": 1603118721973,
     "user": {
      "displayName": "Nilava Kar",
      "photoUrl": "https://lh3.googleusercontent.com/-LtetLvd71MA/AAAAAAAAAAI/AAAAAAAAIJ8/ZzFR0tU6osg/s64/photo.jpg",
      "userId": "00608076695026843354"
     },
     "user_tz": -330
    },
    "id": "A8Ykfm1ETDHF",
    "outputId": "4f281ac9-8a46-41dc-e591-e2fd27251459"
   },
   "outputs": [
    {
     "data": {
      "text/plain": [
       "Index(['iso_code', 'continent', 'location', 'date', 'total_cases', 'new_cases',\n",
       "       'new_cases_smoothed', 'total_deaths', 'new_deaths',\n",
       "       'new_deaths_smoothed', 'total_cases_per_million',\n",
       "       'new_cases_per_million', 'new_cases_smoothed_per_million',\n",
       "       'total_deaths_per_million', 'new_deaths_per_million',\n",
       "       'new_deaths_smoothed_per_million', 'new_tests', 'total_tests',\n",
       "       'total_tests_per_thousand', 'new_tests_per_thousand',\n",
       "       'new_tests_smoothed', 'new_tests_smoothed_per_thousand',\n",
       "       'tests_per_case', 'positive_rate', 'tests_units', 'stringency_index',\n",
       "       'population', 'population_density', 'median_age', 'aged_65_older',\n",
       "       'aged_70_older', 'gdp_per_capita', 'extreme_poverty',\n",
       "       'cardiovasc_death_rate', 'diabetes_prevalence', 'female_smokers',\n",
       "       'male_smokers', 'handwashing_facilities', 'hospital_beds_per_thousand',\n",
       "       'life_expectancy', 'human_development_index'],\n",
       "      dtype='object')"
      ]
     },
     "execution_count": 98,
     "metadata": {},
     "output_type": "execute_result"
    }
   ],
   "source": [
    "df.columns"
   ]
  },
  {
   "cell_type": "code",
   "execution_count": 99,
   "metadata": {
    "colab": {
     "base_uri": "https://localhost:8080/",
     "height": 141
    },
    "executionInfo": {
     "elapsed": 961,
     "status": "ok",
     "timestamp": 1603158431228,
     "user": {
      "displayName": "Nilava Kar",
      "photoUrl": "https://lh3.googleusercontent.com/-LtetLvd71MA/AAAAAAAAAAI/AAAAAAAAIJ8/ZzFR0tU6osg/s64/photo.jpg",
      "userId": "00608076695026843354"
     },
     "user_tz": -330
    },
    "id": "17ke9HYdUnUs",
    "outputId": "94ce97c8-eaf3-4a4e-9b70-8263be85ce3f"
   },
   "outputs": [
    {
     "name": "stderr",
     "output_type": "stream",
     "text": [
      "<ipython-input-99-dd811c34e0cc>:7: SettingWithCopyWarning: \n",
      "A value is trying to be set on a copy of a slice from a DataFrame.\n",
      "Try using .loc[row_indexer,col_indexer] = value instead\n",
      "\n",
      "See the caveats in the documentation: https://pandas.pydata.org/pandas-docs/stable/user_guide/indexing.html#returning-a-view-versus-a-copy\n",
      "  df_use['date'] = pd.to_datetime(df_use['date'])\n"
     ]
    }
   ],
   "source": [
    "keep_columns=['iso_code', 'continent', 'location', 'date', 'total_cases','total_deaths','new_deaths_smoothed','population', 'population_density', 'median_age', 'aged_65_older',\n",
    "       'aged_70_older', 'gdp_per_capita', 'extreme_poverty',\n",
    "       'cardiovasc_death_rate', 'diabetes_prevalence', 'female_smokers',\n",
    "       'male_smokers', 'handwashing_facilities', 'hospital_beds_per_thousand',\n",
    "       'life_expectancy', 'human_development_index']\n",
    "df_use = df[keep_columns]\n",
    "df_use['date'] = pd.to_datetime(df_use['date'])\n"
   ]
  },
  {
   "cell_type": "code",
   "execution_count": null,
   "metadata": {
    "colab": {
     "base_uri": "https://localhost:8080/",
     "height": 520
    },
    "executionInfo": {
     "elapsed": 967,
     "status": "ok",
     "timestamp": 1603158441312,
     "user": {
      "displayName": "Nilava Kar",
      "photoUrl": "https://lh3.googleusercontent.com/-LtetLvd71MA/AAAAAAAAAAI/AAAAAAAAIJ8/ZzFR0tU6osg/s64/photo.jpg",
      "userId": "00608076695026843354"
     },
     "user_tz": -330
    },
    "id": "iG4wzHvJVYyC",
    "outputId": "509e6951-991e-4b3b-a7ae-4f5c90b7d6ed"
   },
   "outputs": [],
   "source": []
  },
  {
   "cell_type": "code",
   "execution_count": 100,
   "metadata": {
    "executionInfo": {
     "elapsed": 959,
     "status": "ok",
     "timestamp": 1603158449724,
     "user": {
      "displayName": "Nilava Kar",
      "photoUrl": "https://lh3.googleusercontent.com/-LtetLvd71MA/AAAAAAAAAAI/AAAAAAAAIJ8/ZzFR0tU6osg/s64/photo.jpg",
      "userId": "00608076695026843354"
     },
     "user_tz": -330
    },
    "id": "6Ggd-4kZhIVj"
   },
   "outputs": [],
   "source": [
    "#df_use = df_use.set_index('date')"
   ]
  },
  {
   "cell_type": "code",
   "execution_count": 101,
   "metadata": {
    "executionInfo": {
     "elapsed": 998,
     "status": "ok",
     "timestamp": 1603158453061,
     "user": {
      "displayName": "Nilava Kar",
      "photoUrl": "https://lh3.googleusercontent.com/-LtetLvd71MA/AAAAAAAAAAI/AAAAAAAAIJ8/ZzFR0tU6osg/s64/photo.jpg",
      "userId": "00608076695026843354"
     },
     "user_tz": -330
    },
    "id": "B1z4s6T-hOYM"
   },
   "outputs": [],
   "source": [
    "df_use = df_use.dropna()"
   ]
  },
  {
   "cell_type": "code",
   "execution_count": 102,
   "metadata": {
    "colab": {
     "base_uri": "https://localhost:8080/",
     "height": 520
    },
    "executionInfo": {
     "elapsed": 965,
     "status": "ok",
     "timestamp": 1603158459897,
     "user": {
      "displayName": "Nilava Kar",
      "photoUrl": "https://lh3.googleusercontent.com/-LtetLvd71MA/AAAAAAAAAAI/AAAAAAAAIJ8/ZzFR0tU6osg/s64/photo.jpg",
      "userId": "00608076695026843354"
     },
     "user_tz": -330
    },
    "id": "WybaLnwwhahb",
    "outputId": "a7f0c029-0852-4fde-d44a-76062e3564d5"
   },
   "outputs": [
    {
     "name": "stdout",
     "output_type": "stream",
     "text": [
      "<class 'pandas.core.frame.DataFrame'>\n",
      "Int64Index: 8262 entries, 588 to 50140\n",
      "Data columns (total 22 columns):\n",
      " #   Column                      Non-Null Count  Dtype         \n",
      "---  ------                      --------------  -----         \n",
      " 0   iso_code                    8262 non-null   object        \n",
      " 1   continent                   8262 non-null   object        \n",
      " 2   location                    8262 non-null   object        \n",
      " 3   date                        8262 non-null   datetime64[ns]\n",
      " 4   total_cases                 8262 non-null   float64       \n",
      " 5   total_deaths                8262 non-null   float64       \n",
      " 6   new_deaths_smoothed         8262 non-null   float64       \n",
      " 7   population                  8262 non-null   float64       \n",
      " 8   population_density          8262 non-null   float64       \n",
      " 9   median_age                  8262 non-null   float64       \n",
      " 10  aged_65_older               8262 non-null   float64       \n",
      " 11  aged_70_older               8262 non-null   float64       \n",
      " 12  gdp_per_capita              8262 non-null   float64       \n",
      " 13  extreme_poverty             8262 non-null   float64       \n",
      " 14  cardiovasc_death_rate       8262 non-null   float64       \n",
      " 15  diabetes_prevalence         8262 non-null   float64       \n",
      " 16  female_smokers              8262 non-null   float64       \n",
      " 17  male_smokers                8262 non-null   float64       \n",
      " 18  handwashing_facilities      8262 non-null   float64       \n",
      " 19  hospital_beds_per_thousand  8262 non-null   float64       \n",
      " 20  life_expectancy             8262 non-null   float64       \n",
      " 21  human_development_index     8262 non-null   float64       \n",
      "dtypes: datetime64[ns](1), float64(18), object(3)\n",
      "memory usage: 1.4+ MB\n"
     ]
    }
   ],
   "source": [
    "df_use.info()"
   ]
  },
  {
   "cell_type": "code",
   "execution_count": 103,
   "metadata": {
    "colab": {
     "base_uri": "https://localhost:8080/",
     "height": 52
    },
    "executionInfo": {
     "elapsed": 1457,
     "status": "ok",
     "timestamp": 1603123485019,
     "user": {
      "displayName": "Nilava Kar",
      "photoUrl": "https://lh3.googleusercontent.com/-LtetLvd71MA/AAAAAAAAAAI/AAAAAAAAIJ8/ZzFR0tU6osg/s64/photo.jpg",
      "userId": "00608076695026843354"
     },
     "user_tz": -330
    },
    "id": "Qa8zkYF-Ydpm",
    "outputId": "cabb03c6-27f2-4743-8c42-710d8f851023"
   },
   "outputs": [
    {
     "data": {
      "text/plain": [
       "array(['Africa', 'Asia', 'Europe', 'South America', 'North America'],\n",
       "      dtype=object)"
      ]
     },
     "execution_count": 103,
     "metadata": {},
     "output_type": "execute_result"
    }
   ],
   "source": [
    "\n",
    "df_use.continent.unique()"
   ]
  },
  {
   "cell_type": "code",
   "execution_count": 104,
   "metadata": {
    "colab": {
     "base_uri": "https://localhost:8080/",
     "height": 69
    },
    "executionInfo": {
     "elapsed": 969,
     "status": "ok",
     "timestamp": 1603158472830,
     "user": {
      "displayName": "Nilava Kar",
      "photoUrl": "https://lh3.googleusercontent.com/-LtetLvd71MA/AAAAAAAAAAI/AAAAAAAAIJ8/ZzFR0tU6osg/s64/photo.jpg",
      "userId": "00608076695026843354"
     },
     "user_tz": -330
    },
    "id": "3RaXePTgceEj",
    "outputId": "6a4cc0fc-abd6-445b-b0e8-e7b2badf86a1"
   },
   "outputs": [
    {
     "data": {
      "text/plain": [
       "array(['Armenia', 'Bangladesh', 'India', 'Indonesia', 'Kazakhstan',\n",
       "       'Kyrgyzstan', 'Myanmar', 'Nepal', 'Pakistan', 'Thailand',\n",
       "       'Vietnam', 'Yemen'], dtype=object)"
      ]
     },
     "execution_count": 104,
     "metadata": {},
     "output_type": "execute_result"
    }
   ],
   "source": [
    "\n",
    "Asia = df_use[df_use['continent']=='Asia']\n",
    "Asia.location.unique()"
   ]
  },
  {
   "cell_type": "code",
   "execution_count": 105,
   "metadata": {
    "colab": {
     "base_uri": "https://localhost:8080/",
     "height": 309
    },
    "executionInfo": {
     "elapsed": 1230,
     "status": "ok",
     "timestamp": 1603159904081,
     "user": {
      "displayName": "Nilava Kar",
      "photoUrl": "https://lh3.googleusercontent.com/-LtetLvd71MA/AAAAAAAAAAI/AAAAAAAAIJ8/ZzFR0tU6osg/s64/photo.jpg",
      "userId": "00608076695026843354"
     },
     "user_tz": -330
    },
    "id": "AoHAV4FNkgK3",
    "outputId": "eb906b37-e723-41ec-fc19-e0ea2843f279"
   },
   "outputs": [
    {
     "data": {
      "text/html": [
       "<div>\n",
       "<style scoped>\n",
       "    .dataframe tbody tr th:only-of-type {\n",
       "        vertical-align: middle;\n",
       "    }\n",
       "\n",
       "    .dataframe tbody tr th {\n",
       "        vertical-align: top;\n",
       "    }\n",
       "\n",
       "    .dataframe thead th {\n",
       "        text-align: right;\n",
       "    }\n",
       "</style>\n",
       "<table border=\"1\" class=\"dataframe\">\n",
       "  <thead>\n",
       "    <tr style=\"text-align: right;\">\n",
       "      <th></th>\n",
       "      <th>iso_code</th>\n",
       "      <th>continent</th>\n",
       "      <th>location</th>\n",
       "      <th>date</th>\n",
       "      <th>total_cases</th>\n",
       "      <th>total_deaths</th>\n",
       "      <th>new_deaths_smoothed</th>\n",
       "      <th>population</th>\n",
       "      <th>population_density</th>\n",
       "      <th>median_age</th>\n",
       "      <th>...</th>\n",
       "      <th>gdp_per_capita</th>\n",
       "      <th>extreme_poverty</th>\n",
       "      <th>cardiovasc_death_rate</th>\n",
       "      <th>diabetes_prevalence</th>\n",
       "      <th>female_smokers</th>\n",
       "      <th>male_smokers</th>\n",
       "      <th>handwashing_facilities</th>\n",
       "      <th>hospital_beds_per_thousand</th>\n",
       "      <th>life_expectancy</th>\n",
       "      <th>human_development_index</th>\n",
       "    </tr>\n",
       "  </thead>\n",
       "  <tbody>\n",
       "    <tr>\n",
       "      <th>1995</th>\n",
       "      <td>ARM</td>\n",
       "      <td>Asia</td>\n",
       "      <td>Armenia</td>\n",
       "      <td>2020-03-27</td>\n",
       "      <td>329.0</td>\n",
       "      <td>1.0</td>\n",
       "      <td>0.143</td>\n",
       "      <td>2963234.0</td>\n",
       "      <td>102.931</td>\n",
       "      <td>35.7</td>\n",
       "      <td>...</td>\n",
       "      <td>8787.58</td>\n",
       "      <td>1.8</td>\n",
       "      <td>341.01</td>\n",
       "      <td>7.11</td>\n",
       "      <td>1.5</td>\n",
       "      <td>52.1</td>\n",
       "      <td>94.043</td>\n",
       "      <td>4.2</td>\n",
       "      <td>75.09</td>\n",
       "      <td>0.755</td>\n",
       "    </tr>\n",
       "    <tr>\n",
       "      <th>1996</th>\n",
       "      <td>ARM</td>\n",
       "      <td>Asia</td>\n",
       "      <td>Armenia</td>\n",
       "      <td>2020-03-28</td>\n",
       "      <td>372.0</td>\n",
       "      <td>1.0</td>\n",
       "      <td>0.143</td>\n",
       "      <td>2963234.0</td>\n",
       "      <td>102.931</td>\n",
       "      <td>35.7</td>\n",
       "      <td>...</td>\n",
       "      <td>8787.58</td>\n",
       "      <td>1.8</td>\n",
       "      <td>341.01</td>\n",
       "      <td>7.11</td>\n",
       "      <td>1.5</td>\n",
       "      <td>52.1</td>\n",
       "      <td>94.043</td>\n",
       "      <td>4.2</td>\n",
       "      <td>75.09</td>\n",
       "      <td>0.755</td>\n",
       "    </tr>\n",
       "    <tr>\n",
       "      <th>1997</th>\n",
       "      <td>ARM</td>\n",
       "      <td>Asia</td>\n",
       "      <td>Armenia</td>\n",
       "      <td>2020-03-29</td>\n",
       "      <td>424.0</td>\n",
       "      <td>1.0</td>\n",
       "      <td>0.143</td>\n",
       "      <td>2963234.0</td>\n",
       "      <td>102.931</td>\n",
       "      <td>35.7</td>\n",
       "      <td>...</td>\n",
       "      <td>8787.58</td>\n",
       "      <td>1.8</td>\n",
       "      <td>341.01</td>\n",
       "      <td>7.11</td>\n",
       "      <td>1.5</td>\n",
       "      <td>52.1</td>\n",
       "      <td>94.043</td>\n",
       "      <td>4.2</td>\n",
       "      <td>75.09</td>\n",
       "      <td>0.755</td>\n",
       "    </tr>\n",
       "    <tr>\n",
       "      <th>1998</th>\n",
       "      <td>ARM</td>\n",
       "      <td>Asia</td>\n",
       "      <td>Armenia</td>\n",
       "      <td>2020-03-30</td>\n",
       "      <td>482.0</td>\n",
       "      <td>3.0</td>\n",
       "      <td>0.429</td>\n",
       "      <td>2963234.0</td>\n",
       "      <td>102.931</td>\n",
       "      <td>35.7</td>\n",
       "      <td>...</td>\n",
       "      <td>8787.58</td>\n",
       "      <td>1.8</td>\n",
       "      <td>341.01</td>\n",
       "      <td>7.11</td>\n",
       "      <td>1.5</td>\n",
       "      <td>52.1</td>\n",
       "      <td>94.043</td>\n",
       "      <td>4.2</td>\n",
       "      <td>75.09</td>\n",
       "      <td>0.755</td>\n",
       "    </tr>\n",
       "    <tr>\n",
       "      <th>1999</th>\n",
       "      <td>ARM</td>\n",
       "      <td>Asia</td>\n",
       "      <td>Armenia</td>\n",
       "      <td>2020-03-31</td>\n",
       "      <td>532.0</td>\n",
       "      <td>3.0</td>\n",
       "      <td>0.429</td>\n",
       "      <td>2963234.0</td>\n",
       "      <td>102.931</td>\n",
       "      <td>35.7</td>\n",
       "      <td>...</td>\n",
       "      <td>8787.58</td>\n",
       "      <td>1.8</td>\n",
       "      <td>341.01</td>\n",
       "      <td>7.11</td>\n",
       "      <td>1.5</td>\n",
       "      <td>52.1</td>\n",
       "      <td>94.043</td>\n",
       "      <td>4.2</td>\n",
       "      <td>75.09</td>\n",
       "      <td>0.755</td>\n",
       "    </tr>\n",
       "  </tbody>\n",
       "</table>\n",
       "<p>5 rows × 22 columns</p>\n",
       "</div>"
      ],
      "text/plain": [
       "     iso_code continent location       date  total_cases  total_deaths  \\\n",
       "1995      ARM      Asia  Armenia 2020-03-27        329.0           1.0   \n",
       "1996      ARM      Asia  Armenia 2020-03-28        372.0           1.0   \n",
       "1997      ARM      Asia  Armenia 2020-03-29        424.0           1.0   \n",
       "1998      ARM      Asia  Armenia 2020-03-30        482.0           3.0   \n",
       "1999      ARM      Asia  Armenia 2020-03-31        532.0           3.0   \n",
       "\n",
       "      new_deaths_smoothed  population  population_density  median_age  ...  \\\n",
       "1995                0.143   2963234.0             102.931        35.7  ...   \n",
       "1996                0.143   2963234.0             102.931        35.7  ...   \n",
       "1997                0.143   2963234.0             102.931        35.7  ...   \n",
       "1998                0.429   2963234.0             102.931        35.7  ...   \n",
       "1999                0.429   2963234.0             102.931        35.7  ...   \n",
       "\n",
       "      gdp_per_capita  extreme_poverty  cardiovasc_death_rate  \\\n",
       "1995         8787.58              1.8                 341.01   \n",
       "1996         8787.58              1.8                 341.01   \n",
       "1997         8787.58              1.8                 341.01   \n",
       "1998         8787.58              1.8                 341.01   \n",
       "1999         8787.58              1.8                 341.01   \n",
       "\n",
       "      diabetes_prevalence  female_smokers  male_smokers  \\\n",
       "1995                 7.11             1.5          52.1   \n",
       "1996                 7.11             1.5          52.1   \n",
       "1997                 7.11             1.5          52.1   \n",
       "1998                 7.11             1.5          52.1   \n",
       "1999                 7.11             1.5          52.1   \n",
       "\n",
       "      handwashing_facilities  hospital_beds_per_thousand  life_expectancy  \\\n",
       "1995                  94.043                         4.2            75.09   \n",
       "1996                  94.043                         4.2            75.09   \n",
       "1997                  94.043                         4.2            75.09   \n",
       "1998                  94.043                         4.2            75.09   \n",
       "1999                  94.043                         4.2            75.09   \n",
       "\n",
       "      human_development_index  \n",
       "1995                    0.755  \n",
       "1996                    0.755  \n",
       "1997                    0.755  \n",
       "1998                    0.755  \n",
       "1999                    0.755  \n",
       "\n",
       "[5 rows x 22 columns]"
      ]
     },
     "execution_count": 105,
     "metadata": {},
     "output_type": "execute_result"
    }
   ],
   "source": [
    "Asia.head()"
   ]
  },
  {
   "cell_type": "code",
   "execution_count": 106,
   "metadata": {
    "colab": {
     "base_uri": "https://localhost:8080/",
     "height": 52
    },
    "executionInfo": {
     "elapsed": 968,
     "status": "ok",
     "timestamp": 1603129489442,
     "user": {
      "displayName": "Nilava Kar",
      "photoUrl": "https://lh3.googleusercontent.com/-LtetLvd71MA/AAAAAAAAAAI/AAAAAAAAIJ8/ZzFR0tU6osg/s64/photo.jpg",
      "userId": "00608076695026843354"
     },
     "user_tz": -330
    },
    "id": "jKrByhBQ9hjQ",
    "outputId": "fd3fe484-77b6-48d2-b886-d57fc13a88d2"
   },
   "outputs": [],
   "source": [
    "# Asia.median_age.unique()"
   ]
  },
  {
   "cell_type": "code",
   "execution_count": 107,
   "metadata": {
    "executionInfo": {
     "elapsed": 940,
     "status": "ok",
     "timestamp": 1603158519320,
     "user": {
      "displayName": "Nilava Kar",
      "photoUrl": "https://lh3.googleusercontent.com/-LtetLvd71MA/AAAAAAAAAAI/AAAAAAAAIJ8/ZzFR0tU6osg/s64/photo.jpg",
      "userId": "00608076695026843354"
     },
     "user_tz": -330
    },
    "id": "G6yQuj1DzmdB"
   },
   "outputs": [],
   "source": [
    "dates=[]\n",
    "dates = list(Asia.date)"
   ]
  },
  {
   "cell_type": "code",
   "execution_count": 108,
   "metadata": {
    "colab": {
     "base_uri": "https://localhost:8080/",
     "height": 1000
    },
    "executionInfo": {
     "elapsed": 1254,
     "status": "ok",
     "timestamp": 1603127130105,
     "user": {
      "displayName": "Nilava Kar",
      "photoUrl": "https://lh3.googleusercontent.com/-LtetLvd71MA/AAAAAAAAAAI/AAAAAAAAIJ8/ZzFR0tU6osg/s64/photo.jpg",
      "userId": "00608076695026843354"
     },
     "user_tz": -330
    },
    "id": "Zz0rcF8i0gcp",
    "outputId": "2f7af577-b68c-4dc6-8388-8ae7d0e6c1d1"
   },
   "outputs": [],
   "source": [
    "#dates"
   ]
  },
  {
   "cell_type": "code",
   "execution_count": 109,
   "metadata": {
    "executionInfo": {
     "elapsed": 946,
     "status": "ok",
     "timestamp": 1603158530774,
     "user": {
      "displayName": "Nilava Kar",
      "photoUrl": "https://lh3.googleusercontent.com/-LtetLvd71MA/AAAAAAAAAAI/AAAAAAAAIJ8/ZzFR0tU6osg/s64/photo.jpg",
      "userId": "00608076695026843354"
     },
     "user_tz": -330
    },
    "id": "m7WRaeD1YCwC"
   },
   "outputs": [],
   "source": [
    "total_deaths1 = []\n",
    "Armenia = Asia[Asia['location']=='Armenia']\n",
    "Armenia = Armenia.dropna()\n",
    "pop = Armenia.population.unique()\n",
    "for total_deaths in Armenia.total_cases:\n",
    "  total = total_deaths/pop[0]\n",
    "  total_deaths1.append(total)\n",
    "total_deaths2 = []\n",
    "Nepal = Asia[Asia['location']=='Nepal']\n",
    "Nepal = Nepal.dropna()\n",
    "pop = Nepal.population.unique()\n",
    "for total_deaths in Nepal.total_cases:\n",
    "  total = total_deaths/pop[0]\n",
    "  total_deaths2.append(total)\n",
    "total_deaths3 = []\n",
    "India = Asia[Asia['location']=='India']\n",
    "India = India.dropna()\n",
    "pop = India.population.unique()\n",
    "for total_deaths in India.total_cases:\n",
    "  total = total_deaths/pop[0]\n",
    "  total_deaths3.append(total)\n",
    "total_deaths4 = []\n",
    "Pakistan = Asia[Asia['location']=='Pakistan']\n",
    "Pakistan = Pakistan.dropna()\n",
    "pop = Pakistan.population.unique()\n",
    "for total_deaths in Pakistan.total_cases:\n",
    "  total = total_deaths/pop[0]\n",
    "  total_deaths4.append(total)\n",
    "total_deaths5 = []\n",
    "Thailand = Asia[Asia['location']=='Thailand']\n",
    "Thaland = Thailand.dropna()\n",
    "pop = Thailand.population.unique()\n",
    "for total_deaths in Armenia.total_cases:\n",
    "  total = total_deaths/pop[0]\n",
    "  total_deaths5.append(total)\n",
    "total_deaths6 = []\n",
    "Vietnam = Asia[Asia['location']=='Vietnam']\n",
    "Vietnam = Vietnam.dropna()\n",
    "pop = Vietnam.population.unique()\n",
    "for total_deaths in Armenia.total_cases:\n",
    "  total = total_deaths/pop[0]\n",
    "  total_deaths6.append(total)\n"
   ]
  },
  {
   "cell_type": "code",
   "execution_count": 110,
   "metadata": {
    "executionInfo": {
     "elapsed": 964,
     "status": "ok",
     "timestamp": 1603158537393,
     "user": {
      "displayName": "Nilava Kar",
      "photoUrl": "https://lh3.googleusercontent.com/-LtetLvd71MA/AAAAAAAAAAI/AAAAAAAAIJ8/ZzFR0tU6osg/s64/photo.jpg",
      "userId": "00608076695026843354"
     },
     "user_tz": -330
    },
    "id": "Hq8T0kQ5ajXr"
   },
   "outputs": [],
   "source": [
    "dataframe = list(zip(dates,total_deaths1,total_deaths2,total_deaths3,total_deaths4,total_deaths5,total_deaths6))"
   ]
  },
  {
   "cell_type": "markdown",
   "metadata": {
    "executionInfo": {
     "elapsed": 964,
     "status": "ok",
     "timestamp": 1603158537393,
     "user": {
      "displayName": "Nilava Kar",
      "photoUrl": "https://lh3.googleusercontent.com/-LtetLvd71MA/AAAAAAAAAAI/AAAAAAAAIJ8/ZzFR0tU6osg/s64/photo.jpg",
      "userId": "00608076695026843354"
     },
     "user_tz": -330
    },
    "id": "Hq8T0kQ5ajXr"
   },
   "source": [
    "#### Total_cases/population for Countries Armenia, Nepal, India, Pakistan, Thailand, Vietnam"
   ]
  },
  {
   "cell_type": "code",
   "execution_count": 111,
   "metadata": {
    "executionInfo": {
     "elapsed": 927,
     "status": "ok",
     "timestamp": 1603158543521,
     "user": {
      "displayName": "Nilava Kar",
      "photoUrl": "https://lh3.googleusercontent.com/-LtetLvd71MA/AAAAAAAAAAI/AAAAAAAAIJ8/ZzFR0tU6osg/s64/photo.jpg",
      "userId": "00608076695026843354"
     },
     "user_tz": -330
    },
    "id": "N6NHOK6wwriT"
   },
   "outputs": [],
   "source": [
    "df_Asia = pd.DataFrame(dataframe, columns = ['Date','Armenia', 'Nepal','India','Pakistan','Thailand','Vietnam']) "
   ]
  },
  {
   "cell_type": "code",
   "execution_count": 112,
   "metadata": {
    "colab": {
     "base_uri": "https://localhost:8080/",
     "height": 202
    },
    "executionInfo": {
     "elapsed": 991,
     "status": "ok",
     "timestamp": 1603158546187,
     "user": {
      "displayName": "Nilava Kar",
      "photoUrl": "https://lh3.googleusercontent.com/-LtetLvd71MA/AAAAAAAAAAI/AAAAAAAAIJ8/ZzFR0tU6osg/s64/photo.jpg",
      "userId": "00608076695026843354"
     },
     "user_tz": -330
    },
    "id": "VZwmVzZHxnP7",
    "outputId": "aea24848-57e2-4c8f-b86c-be2ee37da6f1"
   },
   "outputs": [
    {
     "data": {
      "text/html": [
       "<div>\n",
       "<style scoped>\n",
       "    .dataframe tbody tr th:only-of-type {\n",
       "        vertical-align: middle;\n",
       "    }\n",
       "\n",
       "    .dataframe tbody tr th {\n",
       "        vertical-align: top;\n",
       "    }\n",
       "\n",
       "    .dataframe thead th {\n",
       "        text-align: right;\n",
       "    }\n",
       "</style>\n",
       "<table border=\"1\" class=\"dataframe\">\n",
       "  <thead>\n",
       "    <tr style=\"text-align: right;\">\n",
       "      <th></th>\n",
       "      <th>Date</th>\n",
       "      <th>Armenia</th>\n",
       "      <th>Nepal</th>\n",
       "      <th>India</th>\n",
       "      <th>Pakistan</th>\n",
       "      <th>Thailand</th>\n",
       "      <th>Vietnam</th>\n",
       "    </tr>\n",
       "  </thead>\n",
       "  <tbody>\n",
       "    <tr>\n",
       "      <th>0</th>\n",
       "      <td>2020-03-27</td>\n",
       "      <td>0.000111</td>\n",
       "      <td>0.000010</td>\n",
       "      <td>5.434765e-08</td>\n",
       "      <td>0.000002</td>\n",
       "      <td>0.000005</td>\n",
       "      <td>0.000003</td>\n",
       "    </tr>\n",
       "    <tr>\n",
       "      <th>1</th>\n",
       "      <td>2020-03-28</td>\n",
       "      <td>0.000126</td>\n",
       "      <td>0.000010</td>\n",
       "      <td>6.014474e-08</td>\n",
       "      <td>0.000002</td>\n",
       "      <td>0.000005</td>\n",
       "      <td>0.000004</td>\n",
       "    </tr>\n",
       "    <tr>\n",
       "      <th>2</th>\n",
       "      <td>2020-03-29</td>\n",
       "      <td>0.000143</td>\n",
       "      <td>0.000013</td>\n",
       "      <td>6.521718e-08</td>\n",
       "      <td>0.000003</td>\n",
       "      <td>0.000006</td>\n",
       "      <td>0.000004</td>\n",
       "    </tr>\n",
       "    <tr>\n",
       "      <th>3</th>\n",
       "      <td>2020-03-30</td>\n",
       "      <td>0.000163</td>\n",
       "      <td>0.000014</td>\n",
       "      <td>6.739109e-08</td>\n",
       "      <td>0.000004</td>\n",
       "      <td>0.000007</td>\n",
       "      <td>0.000005</td>\n",
       "    </tr>\n",
       "    <tr>\n",
       "      <th>4</th>\n",
       "      <td>2020-03-31</td>\n",
       "      <td>0.000180</td>\n",
       "      <td>0.000015</td>\n",
       "      <td>9.057942e-08</td>\n",
       "      <td>0.000004</td>\n",
       "      <td>0.000008</td>\n",
       "      <td>0.000005</td>\n",
       "    </tr>\n",
       "  </tbody>\n",
       "</table>\n",
       "</div>"
      ],
      "text/plain": [
       "        Date   Armenia     Nepal         India  Pakistan  Thailand   Vietnam\n",
       "0 2020-03-27  0.000111  0.000010  5.434765e-08  0.000002  0.000005  0.000003\n",
       "1 2020-03-28  0.000126  0.000010  6.014474e-08  0.000002  0.000005  0.000004\n",
       "2 2020-03-29  0.000143  0.000013  6.521718e-08  0.000003  0.000006  0.000004\n",
       "3 2020-03-30  0.000163  0.000014  6.739109e-08  0.000004  0.000007  0.000005\n",
       "4 2020-03-31  0.000180  0.000015  9.057942e-08  0.000004  0.000008  0.000005"
      ]
     },
     "execution_count": 112,
     "metadata": {},
     "output_type": "execute_result"
    }
   ],
   "source": [
    "#sns.lineplot(data=flights_wide)\n",
    "df_Asia.head()"
   ]
  },
  {
   "cell_type": "markdown",
   "metadata": {
    "colab": {
     "base_uri": "https://localhost:8080/",
     "height": 202
    },
    "executionInfo": {
     "elapsed": 991,
     "status": "ok",
     "timestamp": 1603158546187,
     "user": {
      "displayName": "Nilava Kar",
      "photoUrl": "https://lh3.googleusercontent.com/-LtetLvd71MA/AAAAAAAAAAI/AAAAAAAAIJ8/ZzFR0tU6osg/s64/photo.jpg",
      "userId": "00608076695026843354"
     },
     "user_tz": -330
    },
    "id": "VZwmVzZHxnP7",
    "outputId": "aea24848-57e2-4c8f-b86c-be2ee37da6f1"
   },
   "source": [
    "#### Setting index as date"
   ]
  },
  {
   "cell_type": "code",
   "execution_count": 113,
   "metadata": {
    "executionInfo": {
     "elapsed": 976,
     "status": "ok",
     "timestamp": 1603158553939,
     "user": {
      "displayName": "Nilava Kar",
      "photoUrl": "https://lh3.googleusercontent.com/-LtetLvd71MA/AAAAAAAAAAI/AAAAAAAAIJ8/ZzFR0tU6osg/s64/photo.jpg",
      "userId": "00608076695026843354"
     },
     "user_tz": -330
    },
    "id": "GWYynndW1FgG"
   },
   "outputs": [],
   "source": [
    "df_Asia = df_Asia.set_index('Date')"
   ]
  },
  {
   "cell_type": "code",
   "execution_count": 114,
   "metadata": {
    "colab": {
     "base_uri": "https://localhost:8080/",
     "height": 598
    },
    "executionInfo": {
     "elapsed": 2050,
     "status": "ok",
     "timestamp": 1603158655410,
     "user": {
      "displayName": "Nilava Kar",
      "photoUrl": "https://lh3.googleusercontent.com/-LtetLvd71MA/AAAAAAAAAAI/AAAAAAAAIJ8/ZzFR0tU6osg/s64/photo.jpg",
      "userId": "00608076695026843354"
     },
     "user_tz": -330
    },
    "id": "8h5GTS6a1MSG",
    "outputId": "f2827d38-3ec0-4d41-ad00-5bdf9018cffc"
   },
   "outputs": [
    {
     "data": {
      "text/plain": [
       "[None, None]"
      ]
     },
     "execution_count": 114,
     "metadata": {},
     "output_type": "execute_result"
    },
    {
     "data": {
      "image/png": "[encoded data removed]",
      "text/plain": [
       "<Figure size 1296x864 with 1 Axes>"
      ]
     },
     "metadata": {
      "needs_background": "light"
     },
     "output_type": "display_data"
    }
   ],
   "source": [
    "dims = (18,12)\n",
    "fig, ax = plt.subplots(figsize=dims)\n",
    "ax = sns.lineplot(ax=ax, data=df_Asia)\n",
    "plt.setp(ax.get_legend().get_texts(), fontsize='20')\n",
    "plt.setp(ax.get_legend().get_title(), fontsize='16')"
   ]
  },
  {
   "cell_type": "code",
   "execution_count": 115,
   "metadata": {
    "colab": {
     "base_uri": "https://localhost:8080/",
     "height": 573
    },
    "executionInfo": {
     "elapsed": 1334,
     "status": "ok",
     "timestamp": 1603158808952,
     "user": {
      "displayName": "Nilava Kar",
      "photoUrl": "https://lh3.googleusercontent.com/-LtetLvd71MA/AAAAAAAAAAI/AAAAAAAAIJ8/ZzFR0tU6osg/s64/photo.jpg",
      "userId": "00608076695026843354"
     },
     "user_tz": -330
    },
    "id": "ppcSzJt0tR9m",
    "outputId": "0abc26ad-b401-423a-b42d-4a9b0747827f"
   },
   "outputs": [
    {
     "data": {
      "image/png": "[encoded data removed]",
      "text/plain": [
       "<Figure size 1296x864 with 1 Axes>"
      ]
     },
     "metadata": {
      "needs_background": "light"
     },
     "output_type": "display_data"
    }
   ],
   "source": [
    "dims = (18,12)\n",
    "fig, ax = plt.subplots(figsize=dims)\n",
    "ax = sns.barplot(ax=ax, data=df_Asia)"
   ]
  },
  {
   "cell_type": "code",
   "execution_count": 116,
   "metadata": {
    "executionInfo": {
     "elapsed": 990,
     "status": "ok",
     "timestamp": 1603160404215,
     "user": {
      "displayName": "Nilava Kar",
      "photoUrl": "https://lh3.googleusercontent.com/-LtetLvd71MA/AAAAAAAAAAI/AAAAAAAAIJ8/ZzFR0tU6osg/s64/photo.jpg",
      "userId": "00608076695026843354"
     },
     "user_tz": -330
    },
    "id": "ctecir7Wt1Zw"
   },
   "outputs": [],
   "source": [
    "dates_new=[]\n",
    "dates_new = list(Asia.date)\n",
    "new_deaths1 = []\n",
    "Armenia_new = Asia[Asia['location']=='Armenia']\n",
    "Armenia = Armenia_new.dropna()\n",
    "for new_deaths in Armenia.new_deaths_smoothed:\n",
    "  new_deaths1.append(new_deaths)\n",
    "new_deaths2 = []\n",
    "Nepal_new = Asia[Asia['location']=='Nepal']\n",
    "Nepal = Nepal_new.dropna()\n",
    "for new_deaths in Nepal.new_deaths_smoothed:\n",
    "  new_deaths2.append(new_deaths)\n",
    "new_deaths3 = []\n",
    "India = Asia[Asia['location']=='India']\n",
    "India = India.dropna()\n",
    "for new_deaths in India.new_deaths_smoothed:\n",
    "  new_deaths3.append(new_deaths)\n",
    "new_deaths4 = []\n",
    "Pakistan = Asia[Asia['location']=='Pakistan']\n",
    "Pakistan = Pakistan.dropna()\n",
    "for new_deaths in Pakistan.new_deaths_smoothed:\n",
    "  new_deaths4.append(new_deaths)\n",
    "new_deaths5 = []\n",
    "Thailand = Asia[Asia['location']=='Thailand']\n",
    "Thaland = Thailand.dropna()\n",
    "for new_deaths in Armenia.new_deaths_smoothed:\n",
    "  new_deaths5.append(new_deaths)\n",
    "new_deaths6 = []\n",
    "Vietnam = Asia[Asia['location']=='Vietnam']\n",
    "Vietnam = Vietnam.dropna()\n",
    "for new_deaths in Vietnam.new_deaths_smoothed:\n",
    "  new_deaths6.append(new_deaths)\n"
   ]
  },
  {
   "cell_type": "code",
   "execution_count": 117,
   "metadata": {
    "executionInfo": {
     "elapsed": 949,
     "status": "ok",
     "timestamp": 1603160406752,
     "user": {
      "displayName": "Nilava Kar",
      "photoUrl": "https://lh3.googleusercontent.com/-LtetLvd71MA/AAAAAAAAAAI/AAAAAAAAIJ8/ZzFR0tU6osg/s64/photo.jpg",
      "userId": "00608076695026843354"
     },
     "user_tz": -330
    },
    "id": "Kz6P7G9PvqaU"
   },
   "outputs": [],
   "source": [
    "dataframe_new = list(zip(dates_new,new_deaths1,new_deaths2,new_deaths3,new_deaths4,new_deaths5,new_deaths6))"
   ]
  },
  {
   "cell_type": "code",
   "execution_count": 118,
   "metadata": {
    "executionInfo": {
     "elapsed": 931,
     "status": "ok",
     "timestamp": 1603160437106,
     "user": {
      "displayName": "Nilava Kar",
      "photoUrl": "https://lh3.googleusercontent.com/-LtetLvd71MA/AAAAAAAAAAI/AAAAAAAAIJ8/ZzFR0tU6osg/s64/photo.jpg",
      "userId": "00608076695026843354"
     },
     "user_tz": -330
    },
    "id": "m7joJXW9vuF7"
   },
   "outputs": [],
   "source": [
    "df_Asia_new = pd.DataFrame(dataframe_new, columns = ['Date','Armenia', 'Nepal','India','Pakistan','Thailand','Vietnam']) "
   ]
  },
  {
   "cell_type": "code",
   "execution_count": 119,
   "metadata": {
    "executionInfo": {
     "elapsed": 1035,
     "status": "ok",
     "timestamp": 1603160439013,
     "user": {
      "displayName": "Nilava Kar",
      "photoUrl": "https://lh3.googleusercontent.com/-LtetLvd71MA/AAAAAAAAAAI/AAAAAAAAIJ8/ZzFR0tU6osg/s64/photo.jpg",
      "userId": "00608076695026843354"
     },
     "user_tz": -330
    },
    "id": "kbwsE-9oweXO"
   },
   "outputs": [],
   "source": [
    "df_Asia_new = df_Asia_new.set_index('Date')"
   ]
  },
  {
   "cell_type": "markdown",
   "metadata": {
    "executionInfo": {
     "elapsed": 1035,
     "status": "ok",
     "timestamp": 1603160439013,
     "user": {
      "displayName": "Nilava Kar",
      "photoUrl": "https://lh3.googleusercontent.com/-LtetLvd71MA/AAAAAAAAAAI/AAAAAAAAIJ8/ZzFR0tU6osg/s64/photo.jpg",
      "userId": "00608076695026843354"
     },
     "user_tz": -330
    },
    "id": "kbwsE-9oweXO"
   },
   "source": [
    "#### new_deaths_smoothed for Armenia, Nepal, India, Pakistan, Thailand, Vietnam"
   ]
  },
  {
   "cell_type": "code",
   "execution_count": 120,
   "metadata": {
    "colab": {
     "base_uri": "https://localhost:8080/",
     "height": 577
    },
    "executionInfo": {
     "elapsed": 1053,
     "status": "ok",
     "timestamp": 1603160440928,
     "user": {
      "displayName": "Nilava Kar",
      "photoUrl": "https://lh3.googleusercontent.com/-LtetLvd71MA/AAAAAAAAAAI/AAAAAAAAIJ8/ZzFR0tU6osg/s64/photo.jpg",
      "userId": "00608076695026843354"
     },
     "user_tz": -330
    },
    "id": "qWRrVQebwtpp",
    "outputId": "bc07d6c5-94f1-451d-fb16-7d6f41cd19d9"
   },
   "outputs": [
    {
     "data": {
      "image/png": "[encoded data removed]",
      "text/plain": [
       "<Figure size 1296x864 with 1 Axes>"
      ]
     },
     "metadata": {
      "needs_background": "light"
     },
     "output_type": "display_data"
    }
   ],
   "source": [
    "dims = (18,12)\n",
    "fig, ax = plt.subplots(figsize=dims)\n",
    "ax = sns.barplot(ax=ax, data=df_Asia_new)"
   ]
  },
  {
   "cell_type": "code",
   "execution_count": null,
   "metadata": {
    "executionInfo": {
     "elapsed": 958,
     "status": "ok",
     "timestamp": 1603160467916,
     "user": {
      "displayName": "Nilava Kar",
      "photoUrl": "https://lh3.googleusercontent.com/-LtetLvd71MA/AAAAAAAAAAI/AAAAAAAAIJ8/ZzFR0tU6osg/s64/photo.jpg",
      "userId": "00608076695026843354"
     },
     "user_tz": -330
    },
    "id": "DRxcntmH-G4C"
   },
   "outputs": [],
   "source": [
    "Asia_sam = Asia[Asia['location'].isin(['Armenia','Nepal','India','Pakistan','Thailand','Vietnam'])]"
   ]
  },
  {
   "cell_type": "code",
   "execution_count": null,
   "metadata": {
    "colab": {
     "base_uri": "https://localhost:8080/",
     "height": 52
    },
    "executionInfo": {
     "elapsed": 1061,
     "status": "ok",
     "timestamp": 1603160727969,
     "user": {
      "displayName": "Nilava Kar",
      "photoUrl": "https://lh3.googleusercontent.com/-LtetLvd71MA/AAAAAAAAAAI/AAAAAAAAIJ8/ZzFR0tU6osg/s64/photo.jpg",
      "userId": "00608076695026843354"
     },
     "user_tz": -330
    },
    "id": "qNt-2IMx-O9X",
    "outputId": "d81e8ef8-3e0d-472c-cbc1-b5315d48f423"
   },
   "outputs": [],
   "source": [
    "Asia_sam.location.unique()"
   ]
  },
  {
   "cell_type": "markdown",
   "metadata": {
    "colab": {
     "base_uri": "https://localhost:8080/",
     "height": 52
    },
    "executionInfo": {
     "elapsed": 1061,
     "status": "ok",
     "timestamp": 1603160727969,
     "user": {
      "displayName": "Nilava Kar",
      "photoUrl": "https://lh3.googleusercontent.com/-LtetLvd71MA/AAAAAAAAAAI/AAAAAAAAIJ8/ZzFR0tU6osg/s64/photo.jpg",
      "userId": "00608076695026843354"
     },
     "user_tz": -330
    },
    "id": "qNt-2IMx-O9X",
    "outputId": "d81e8ef8-3e0d-472c-cbc1-b5315d48f423"
   },
   "source": [
    "#### percentage of people who are over 65 years for the above given countries in the above given order  "
   ]
  },
  {
   "cell_type": "code",
   "execution_count": null,
   "metadata": {
    "colab": {
     "base_uri": "https://localhost:8080/",
     "height": 35
    },
    "executionInfo": {
     "elapsed": 1392,
     "status": "ok",
     "timestamp": 1603160761800,
     "user": {
      "displayName": "Nilava Kar",
      "photoUrl": "https://lh3.googleusercontent.com/-LtetLvd71MA/AAAAAAAAAAI/AAAAAAAAIJ8/ZzFR0tU6osg/s64/photo.jpg",
      "userId": "00608076695026843354"
     },
     "user_tz": -330
    },
    "id": "xWG_yvjX-0Q7",
    "outputId": "4218ba3a-232a-4902-8241-4fb9a65f6b35"
   },
   "outputs": [],
   "source": [
    "Asia_sam.aged_65_older.unique()"
   ]
  },
  {
   "cell_type": "markdown",
   "metadata": {
    "colab": {
     "base_uri": "https://localhost:8080/",
     "height": 35
    },
    "executionInfo": {
     "elapsed": 1392,
     "status": "ok",
     "timestamp": 1603160761800,
     "user": {
      "displayName": "Nilava Kar",
      "photoUrl": "https://lh3.googleusercontent.com/-LtetLvd71MA/AAAAAAAAAAI/AAAAAAAAIJ8/ZzFR0tU6osg/s64/photo.jpg",
      "userId": "00608076695026843354"
     },
     "user_tz": -330
    },
    "id": "xWG_yvjX-0Q7",
    "outputId": "4218ba3a-232a-4902-8241-4fb9a65f6b35"
   },
   "source": [
    "#### percentage of male smokers for the above given countries in the above given order  "
   ]
  },
  {
   "cell_type": "code",
   "execution_count": null,
   "metadata": {
    "colab": {
     "base_uri": "https://localhost:8080/",
     "height": 35
    },
    "executionInfo": {
     "elapsed": 960,
     "status": "ok",
     "timestamp": 1603160832872,
     "user": {
      "displayName": "Nilava Kar",
      "photoUrl": "https://lh3.googleusercontent.com/-LtetLvd71MA/AAAAAAAAAAI/AAAAAAAAIJ8/ZzFR0tU6osg/s64/photo.jpg",
      "userId": "00608076695026843354"
     },
     "user_tz": -330
    },
    "id": "YDgi9--71CS6",
    "outputId": "47d05774-f3d0-46d9-8fc2-4f9d7aee8a65"
   },
   "outputs": [],
   "source": [
    "Asia_sam.male_smokers.unique()"
   ]
  },
  {
   "cell_type": "code",
   "execution_count": null,
   "metadata": {
    "colab": {
     "base_uri": "https://localhost:8080/",
     "height": 35
    },
    "executionInfo": {
     "elapsed": 2883,
     "status": "ok",
     "timestamp": 1603161106846,
     "user": {
      "displayName": "Nilava Kar",
      "photoUrl": "https://lh3.googleusercontent.com/-LtetLvd71MA/AAAAAAAAAAI/AAAAAAAAIJ8/ZzFR0tU6osg/s64/photo.jpg",
      "userId": "00608076695026843354"
     },
     "user_tz": -330
    },
    "id": "yUCVfmkt2PW0",
    "outputId": "99576f36-cc67-482a-f980-eb4612363b68"
   },
   "outputs": [],
   "source": [
    "##Asia_sam.female_smokers.unique()"
   ]
  },
  {
   "cell_type": "markdown",
   "metadata": {
    "colab": {
     "base_uri": "https://localhost:8080/",
     "height": 35
    },
    "executionInfo": {
     "elapsed": 2883,
     "status": "ok",
     "timestamp": 1603161106846,
     "user": {
      "displayName": "Nilava Kar",
      "photoUrl": "https://lh3.googleusercontent.com/-LtetLvd71MA/AAAAAAAAAAI/AAAAAAAAIJ8/ZzFR0tU6osg/s64/photo.jpg",
      "userId": "00608076695026843354"
     },
     "user_tz": -330
    },
    "id": "yUCVfmkt2PW0",
    "outputId": "99576f36-cc67-482a-f980-eb4612363b68"
   },
   "source": [
    "#### cardiovascular death rate for the above given countries in the above given order  "
   ]
  },
  {
   "cell_type": "code",
   "execution_count": null,
   "metadata": {
    "colab": {
     "base_uri": "https://localhost:8080/",
     "height": 35
    },
    "executionInfo": {
     "elapsed": 986,
     "status": "ok",
     "timestamp": 1603161212145,
     "user": {
      "displayName": "Nilava Kar",
      "photoUrl": "https://lh3.googleusercontent.com/-LtetLvd71MA/AAAAAAAAAAI/AAAAAAAAIJ8/ZzFR0tU6osg/s64/photo.jpg",
      "userId": "00608076695026843354"
     },
     "user_tz": -330
    },
    "id": "HGAMNVwX2l-R",
    "outputId": "c7f2e7f6-ca81-4609-fdbb-ad1db1e85d52"
   },
   "outputs": [],
   "source": [
    "Asia_sam.cardiovasc_death_rate.unique()"
   ]
  },
  {
   "cell_type": "markdown",
   "metadata": {
    "colab": {
     "base_uri": "https://localhost:8080/",
     "height": 35
    },
    "executionInfo": {
     "elapsed": 986,
     "status": "ok",
     "timestamp": 1603161212145,
     "user": {
      "displayName": "Nilava Kar",
      "photoUrl": "https://lh3.googleusercontent.com/-LtetLvd71MA/AAAAAAAAAAI/AAAAAAAAIJ8/ZzFR0tU6osg/s64/photo.jpg",
      "userId": "00608076695026843354"
     },
     "user_tz": -330
    },
    "id": "HGAMNVwX2l-R",
    "outputId": "c7f2e7f6-ca81-4609-fdbb-ad1db1e85d52"
   },
   "source": [
    "#### percentage of people living in extreme poverty for the above given countries in the above given order  "
   ]
  },
  {
   "cell_type": "code",
   "execution_count": null,
   "metadata": {
    "colab": {
     "base_uri": "https://localhost:8080/",
     "height": 35
    },
    "executionInfo": {
     "elapsed": 1431,
     "status": "ok",
     "timestamp": 1603161350840,
     "user": {
      "displayName": "Nilava Kar",
      "photoUrl": "https://lh3.googleusercontent.com/-LtetLvd71MA/AAAAAAAAAAI/AAAAAAAAIJ8/ZzFR0tU6osg/s64/photo.jpg",
      "userId": "00608076695026843354"
     },
     "user_tz": -330
    },
    "id": "RWcKaYPE28nT",
    "outputId": "01d3bfe4-5d85-44c9-f969-c7f21a71b1f3"
   },
   "outputs": [],
   "source": [
    "Asia_sam.extreme_poverty.unique()"
   ]
  },
  {
   "cell_type": "code",
   "execution_count": null,
   "metadata": {
    "colab": {
     "base_uri": "https://localhost:8080/",
     "height": 35
    },
    "executionInfo": {
     "elapsed": 930,
     "status": "ok",
     "timestamp": 1603161400810,
     "user": {
      "displayName": "Nilava Kar",
      "photoUrl": "https://lh3.googleusercontent.com/-LtetLvd71MA/AAAAAAAAAAI/AAAAAAAAIJ8/ZzFR0tU6osg/s64/photo.jpg",
      "userId": "00608076695026843354"
     },
     "user_tz": -330
    },
    "id": "TrJUfMsA1XK0",
    "outputId": "ae368fed-2806-4f1e-a503-cdf2d7e58b03"
   },
   "outputs": [],
   "source": [
    "# Asia_sam[Asia_sam['location']=='Pakistan'].extreme_poverty.unique()"
   ]
  },
  {
   "cell_type": "markdown",
   "metadata": {
    "colab": {
     "base_uri": "https://localhost:8080/",
     "height": 35
    },
    "executionInfo": {
     "elapsed": 930,
     "status": "ok",
     "timestamp": 1603161400810,
     "user": {
      "displayName": "Nilava Kar",
      "photoUrl": "https://lh3.googleusercontent.com/-LtetLvd71MA/AAAAAAAAAAI/AAAAAAAAIJ8/ZzFR0tU6osg/s64/photo.jpg",
      "userId": "00608076695026843354"
     },
     "user_tz": -330
    },
    "id": "TrJUfMsA1XK0",
    "outputId": "ae368fed-2806-4f1e-a503-cdf2d7e58b03"
   },
   "source": [
    "#### GDP per capita for the above given countries in the above given order  "
   ]
  },
  {
   "cell_type": "code",
   "execution_count": null,
   "metadata": {
    "colab": {
     "base_uri": "https://localhost:8080/",
     "height": 35
    },
    "executionInfo": {
     "elapsed": 933,
     "status": "ok",
     "timestamp": 1603161460125,
     "user": {
      "displayName": "Nilava Kar",
      "photoUrl": "https://lh3.googleusercontent.com/-LtetLvd71MA/AAAAAAAAAAI/AAAAAAAAIJ8/ZzFR0tU6osg/s64/photo.jpg",
      "userId": "00608076695026843354"
     },
     "user_tz": -330
    },
    "id": "e7i4zZP53kBY",
    "outputId": "220e82e5-6c1f-421f-f2bd-d2884123026b"
   },
   "outputs": [],
   "source": [
    "Asia_sam.gdp_per_capita.unique()"
   ]
  },
  {
   "cell_type": "markdown",
   "metadata": {
    "colab": {
     "base_uri": "https://localhost:8080/",
     "height": 35
    },
    "executionInfo": {
     "elapsed": 933,
     "status": "ok",
     "timestamp": 1603161460125,
     "user": {
      "displayName": "Nilava Kar",
      "photoUrl": "https://lh3.googleusercontent.com/-LtetLvd71MA/AAAAAAAAAAI/AAAAAAAAIJ8/ZzFR0tU6osg/s64/photo.jpg",
      "userId": "00608076695026843354"
     },
     "user_tz": -330
    },
    "id": "e7i4zZP53kBY",
    "outputId": "220e82e5-6c1f-421f-f2bd-d2884123026b"
   },
   "source": [
    "#### Number of hospital beds available per thousand people for the above given countries in the above given order  "
   ]
  },
  {
   "cell_type": "code",
   "execution_count": 56,
   "metadata": {
    "colab": {
     "base_uri": "https://localhost:8080/",
     "height": 35
    },
    "executionInfo": {
     "elapsed": 926,
     "status": "ok",
     "timestamp": 1603161548380,
     "user": {
      "displayName": "Nilava Kar",
      "photoUrl": "https://lh3.googleusercontent.com/-LtetLvd71MA/AAAAAAAAAAI/AAAAAAAAIJ8/ZzFR0tU6osg/s64/photo.jpg",
      "userId": "00608076695026843354"
     },
     "user_tz": -330
    },
    "id": "nMNIQJuz3udQ",
    "outputId": "1cfb4cd2-dfa4-4a60-d89a-442581a8463d"
   },
   "outputs": [
    {
     "data": {
      "text/plain": [
       "array([4.2 , 0.53, 0.3 , 0.6 , 2.1 , 2.6 ])"
      ]
     },
     "execution_count": 56,
     "metadata": {},
     "output_type": "execute_result"
    }
   ],
   "source": [
    "Asia_sam.hospital_beds_per_thousand.unique()"
   ]
  },
  {
   "cell_type": "markdown",
   "metadata": {
    "colab": {
     "base_uri": "https://localhost:8080/",
     "height": 35
    },
    "executionInfo": {
     "elapsed": 926,
     "status": "ok",
     "timestamp": 1603161548380,
     "user": {
      "displayName": "Nilava Kar",
      "photoUrl": "https://lh3.googleusercontent.com/-LtetLvd71MA/AAAAAAAAAAI/AAAAAAAAIJ8/ZzFR0tU6osg/s64/photo.jpg",
      "userId": "00608076695026843354"
     },
     "user_tz": -330
    },
    "id": "nMNIQJuz3udQ",
    "outputId": "1cfb4cd2-dfa4-4a60-d89a-442581a8463d"
   },
   "source": [
    "#### Average life expectancy of a person living in these countries "
   ]
  },
  {
   "cell_type": "code",
   "execution_count": 58,
   "metadata": {
    "colab": {
     "base_uri": "https://localhost:8080/",
     "height": 35
    },
    "executionInfo": {
     "elapsed": 1021,
     "status": "ok",
     "timestamp": 1603161617989,
     "user": {
      "displayName": "Nilava Kar",
      "photoUrl": "https://lh3.googleusercontent.com/-LtetLvd71MA/AAAAAAAAAAI/AAAAAAAAIJ8/ZzFR0tU6osg/s64/photo.jpg",
      "userId": "00608076695026843354"
     },
     "user_tz": -330
    },
    "id": "D3iGSxww4Fcx",
    "outputId": "82ddef1a-c033-4608-8ba5-fee3ea032b01"
   },
   "outputs": [
    {
     "data": {
      "text/plain": [
       "array([75.09, 69.66, 70.78, 67.27, 77.15, 75.4 ])"
      ]
     },
     "execution_count": 58,
     "metadata": {},
     "output_type": "execute_result"
    }
   ],
   "source": [
    "Asia_sam.life_expectancy.unique()"
   ]
  },
  {
   "cell_type": "markdown",
   "metadata": {
    "colab": {
     "base_uri": "https://localhost:8080/",
     "height": 35
    },
    "executionInfo": {
     "elapsed": 1021,
     "status": "ok",
     "timestamp": 1603161617989,
     "user": {
      "displayName": "Nilava Kar",
      "photoUrl": "https://lh3.googleusercontent.com/-LtetLvd71MA/AAAAAAAAAAI/AAAAAAAAIJ8/ZzFR0tU6osg/s64/photo.jpg",
      "userId": "00608076695026843354"
     },
     "user_tz": -330
    },
    "id": "D3iGSxww4Fcx",
    "outputId": "82ddef1a-c033-4608-8ba5-fee3ea032b01"
   },
   "source": [
    "#### Human development Index of each country, Armenia and Thailand have the same HDI value"
   ]
  },
  {
   "cell_type": "code",
   "execution_count": 59,
   "metadata": {
    "colab": {
     "base_uri": "https://localhost:8080/",
     "height": 35
    },
    "executionInfo": {
     "elapsed": 955,
     "status": "ok",
     "timestamp": 1603161673969,
     "user": {
      "displayName": "Nilava Kar",
      "photoUrl": "https://lh3.googleusercontent.com/-LtetLvd71MA/AAAAAAAAAAI/AAAAAAAAIJ8/ZzFR0tU6osg/s64/photo.jpg",
      "userId": "00608076695026843354"
     },
     "user_tz": -330
    },
    "id": "lG8wUPJ44Rr5",
    "outputId": "be68fbf7-19c4-4354-baee-1d5dc3a0f351"
   },
   "outputs": [
    {
     "data": {
      "text/plain": [
       "array([0.755, 0.64 , 0.574, 0.562, 0.694])"
      ]
     },
     "execution_count": 59,
     "metadata": {},
     "output_type": "execute_result"
    }
   ],
   "source": [
    "Asia_sam.human_development_index.unique()"
   ]
  },
  {
   "cell_type": "code",
   "execution_count": 66,
   "metadata": {
    "colab": {
     "base_uri": "https://localhost:8080/",
     "height": 35
    },
    "executionInfo": {
     "elapsed": 1265,
     "status": "ok",
     "timestamp": 1603161761728,
     "user": {
      "displayName": "Nilava Kar",
      "photoUrl": "https://lh3.googleusercontent.com/-LtetLvd71MA/AAAAAAAAAAI/AAAAAAAAIJ8/ZzFR0tU6osg/s64/photo.jpg",
      "userId": "00608076695026843354"
     },
     "user_tz": -330
    },
    "id": "3SCnaCxN4raI",
    "outputId": "26c33334-e12d-43d3-dd60-8658bb6dae45"
   },
   "outputs": [],
   "source": [
    "#Asia_sam[Asia_sam['location']=='Pakistan'].human_development_index.unique()"
   ]
  },
  {
   "cell_type": "code",
   "execution_count": 67,
   "metadata": {
    "colab": {
     "base_uri": "https://localhost:8080/",
     "height": 35
    },
    "executionInfo": {
     "elapsed": 966,
     "status": "ok",
     "timestamp": 1603161783723,
     "user": {
      "displayName": "Nilava Kar",
      "photoUrl": "https://lh3.googleusercontent.com/-LtetLvd71MA/AAAAAAAAAAI/AAAAAAAAIJ8/ZzFR0tU6osg/s64/photo.jpg",
      "userId": "00608076695026843354"
     },
     "user_tz": -330
    },
    "id": "RLoHFDlU4zKu",
    "outputId": "a5048ea5-398e-4d73-9d31-2a1dbf995116"
   },
   "outputs": [],
   "source": [
    "#Asia_sam[Asia_sam['location']=='Nepal'].human_development_index.unique()"
   ]
  },
  {
   "cell_type": "code",
   "execution_count": 68,
   "metadata": {
    "colab": {
     "base_uri": "https://localhost:8080/",
     "height": 35
    },
    "executionInfo": {
     "elapsed": 1071,
     "status": "ok",
     "timestamp": 1603161810116,
     "user": {
      "displayName": "Nilava Kar",
      "photoUrl": "https://lh3.googleusercontent.com/-LtetLvd71MA/AAAAAAAAAAI/AAAAAAAAIJ8/ZzFR0tU6osg/s64/photo.jpg",
      "userId": "00608076695026843354"
     },
     "user_tz": -330
    },
    "id": "80ncxaMU45-0",
    "outputId": "e8106739-2bf5-4d5c-83cd-bffcec3eda9d"
   },
   "outputs": [],
   "source": [
    "#Asia_sam[Asia_sam['location']=='India'].human_development_index.unique()"
   ]
  },
  {
   "cell_type": "code",
   "execution_count": 69,
   "metadata": {
    "colab": {
     "base_uri": "https://localhost:8080/",
     "height": 35
    },
    "executionInfo": {
     "elapsed": 1156,
     "status": "ok",
     "timestamp": 1603161857228,
     "user": {
      "displayName": "Nilava Kar",
      "photoUrl": "https://lh3.googleusercontent.com/-LtetLvd71MA/AAAAAAAAAAI/AAAAAAAAIJ8/ZzFR0tU6osg/s64/photo.jpg",
      "userId": "00608076695026843354"
     },
     "user_tz": -330
    },
    "id": "9NPfWZyt4_yE",
    "outputId": "53a4a2c9-9b43-4904-e433-52eec6f559bf"
   },
   "outputs": [],
   "source": [
    "#Asia_sam[Asia_sam['location']=='Vietnam'].human_development_index.unique()"
   ]
  },
  {
   "cell_type": "code",
   "execution_count": 70,
   "metadata": {
    "colab": {
     "base_uri": "https://localhost:8080/",
     "height": 35
    },
    "executionInfo": {
     "elapsed": 961,
     "status": "ok",
     "timestamp": 1603161888751,
     "user": {
      "displayName": "Nilava Kar",
      "photoUrl": "https://lh3.googleusercontent.com/-LtetLvd71MA/AAAAAAAAAAI/AAAAAAAAIJ8/ZzFR0tU6osg/s64/photo.jpg",
      "userId": "00608076695026843354"
     },
     "user_tz": -330
    },
    "id": "rX82UZEz5MMO",
    "outputId": "452572d7-691b-4d98-b54c-a4c3c8405110"
   },
   "outputs": [],
   "source": [
    "#Asia_sam[Asia_sam['location']=='Armenia'].human_development_index.unique()"
   ]
  },
  {
   "cell_type": "code",
   "execution_count": null,
   "metadata": {},
   "outputs": [],
   "source": []
  }
 ],
 "metadata": {
  "colab": {
   "authorship_tag": "ABX9TyNBeebddQtny/RfoXGMOaBk",
   "collapsed_sections": [],
   "mount_file_id": "1gCPqpZEBr0pLNYGV74h4YJ2iY3ToJOTn",
   "name": "Covid19.ipynb",
   "provenance": [],
   "toc_visible": true
  },
  "kernelspec": {
   "display_name": "Python 3",
   "language": "python",
   "name": "python3"
  },
  "language_info": {
   "codemirror_mode": {
    "name": "ipython",
    "version": 3
   },
   "file_extension": ".py",
   "mimetype": "text/x-python",
   "name": "python",
   "nbconvert_exporter": "python",
   "pygments_lexer": "ipython3",
   "version": "3.8.3"
  }
 },
 "nbformat": 4,
 "nbformat_minor": 4
}
