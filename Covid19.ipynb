{
 "cells": [
  {
   "cell_type": "code",
   "execution_count": null,
   "metadata": {
    "executionInfo": {
     "elapsed": 945,
     "status": "ok",
     "timestamp": 1603157756659,
     "user": {
      "displayName": "Nilava Kar",
      "photoUrl": "https://lh3.googleusercontent.com/-LtetLvd71MA/AAAAAAAAAAI/AAAAAAAAIJ8/ZzFR0tU6osg/s64/photo.jpg",
      "userId": "00608076695026843354"
     },
     "user_tz": -330
    },
    "id": "TeO_TNGd72az"
   },
   "outputs": [],
   "source": [
    "import pandas as pd\n",
    "import seaborn as sns\n",
    "import numpy as np\n",
    "import matplotlib.pyplot as plt"
   ]
  },
  {
   "cell_type": "code",
   "execution_count": null,
   "metadata": {
    "executionInfo": {
     "elapsed": 2319,
     "status": "ok",
     "timestamp": 1603157760334,
     "user": {
      "displayName": "Nilava Kar",
      "photoUrl": "https://lh3.googleusercontent.com/-LtetLvd71MA/AAAAAAAAAAI/AAAAAAAAIJ8/ZzFR0tU6osg/s64/photo.jpg",
      "userId": "00608076695026843354"
     },
     "user_tz": -330
    },
    "id": "Bp_jQV2M9L9R"
   },
   "outputs": [],
   "source": [
    "df = pd.read_csv(\"owid-covid-data (1).csv\")"
   ]
  },
  {
   "cell_type": "code",
   "execution_count": null,
   "metadata": {
    "colab": {
     "base_uri": "https://localhost:8080/",
     "height": 309
    },
    "executionInfo": {
     "elapsed": 1012,
     "status": "ok",
     "timestamp": 1603158032134,
     "user": {
      "displayName": "Nilava Kar",
      "photoUrl": "https://lh3.googleusercontent.com/-LtetLvd71MA/AAAAAAAAAAI/AAAAAAAAIJ8/ZzFR0tU6osg/s64/photo.jpg",
      "userId": "00608076695026843354"
     },
     "user_tz": -330
    },
    "id": "ApHPXSrR9Yg4",
    "outputId": "68ac299c-f4f9-449a-f1d0-7f55b03e0a47"
   },
   "outputs": [],
   "source": [
    "df.head()"
   ]
  },
  {
   "cell_type": "markdown",
   "metadata": {
    "colab": {
     "base_uri": "https://localhost:8080/",
     "height": 309
    },
    "executionInfo": {
     "elapsed": 1012,
     "status": "ok",
     "timestamp": 1603158032134,
     "user": {
      "displayName": "Nilava Kar",
      "photoUrl": "https://lh3.googleusercontent.com/-LtetLvd71MA/AAAAAAAAAAI/AAAAAAAAIJ8/ZzFR0tU6osg/s64/photo.jpg",
      "userId": "00608076695026843354"
     },
     "user_tz": -330
    },
    "id": "ApHPXSrR9Yg4",
    "outputId": "68ac299c-f4f9-449a-f1d0-7f55b03e0a47"
   },
   "source": [
    "## Selecting location as India"
   ]
  },
  {
   "cell_type": "code",
   "execution_count": null,
   "metadata": {
    "executionInfo": {
     "elapsed": 1001,
     "status": "ok",
     "timestamp": 1603158037361,
     "user": {
      "displayName": "Nilava Kar",
      "photoUrl": "https://lh3.googleusercontent.com/-LtetLvd71MA/AAAAAAAAAAI/AAAAAAAAIJ8/ZzFR0tU6osg/s64/photo.jpg",
      "userId": "00608076695026843354"
     },
     "user_tz": -330
    },
    "id": "t8TpNCMg90AW"
   },
   "outputs": [],
   "source": [
    "df_India = df[df['location']=='India']\n",
    "#df_India.info()"
   ]
  },
  {
   "cell_type": "code",
   "execution_count": null,
   "metadata": {
    "executionInfo": {
     "elapsed": 971,
     "status": "ok",
     "timestamp": 1603158040507,
     "user": {
      "displayName": "Nilava Kar",
      "photoUrl": "https://lh3.googleusercontent.com/-LtetLvd71MA/AAAAAAAAAAI/AAAAAAAAIJ8/ZzFR0tU6osg/s64/photo.jpg",
      "userId": "00608076695026843354"
     },
     "user_tz": -330
    },
    "id": "aeJDIEGQ-1n-"
   },
   "outputs": [],
   "source": [
    "df_India = df_India.dropna()"
   ]
  },
  {
   "cell_type": "code",
   "execution_count": null,
   "metadata": {
    "colab": {
     "base_uri": "https://localhost:8080/",
     "height": 35
    },
    "executionInfo": {
     "elapsed": 1120,
     "status": "ok",
     "timestamp": 1603158044488,
     "user": {
      "displayName": "Nilava Kar",
      "photoUrl": "https://lh3.googleusercontent.com/-LtetLvd71MA/AAAAAAAAAAI/AAAAAAAAIJ8/ZzFR0tU6osg/s64/photo.jpg",
      "userId": "00608076695026843354"
     },
     "user_tz": -330
    },
    "id": "5ly6ibpODr0z",
    "outputId": "3b6474ae-5bf0-4c52-bb93-2caafa659b4e"
   },
   "outputs": [],
   "source": [
    "#df_India.isnull().values.any()"
   ]
  },
  {
   "cell_type": "code",
   "execution_count": null,
   "metadata": {
    "colab": {
     "base_uri": "https://localhost:8080/",
     "height": 309
    },
    "executionInfo": {
     "elapsed": 1122,
     "status": "ok",
     "timestamp": 1603158050589,
     "user": {
      "displayName": "Nilava Kar",
      "photoUrl": "https://lh3.googleusercontent.com/-LtetLvd71MA/AAAAAAAAAAI/AAAAAAAAIJ8/ZzFR0tU6osg/s64/photo.jpg",
      "userId": "00608076695026843354"
     },
     "user_tz": -330
    },
    "id": "jynHNdpbEeLm",
    "outputId": "8ca74abb-402f-4ced-fb19-24e5ab3a36e5"
   },
   "outputs": [],
   "source": [
    "df_India.head()"
   ]
  },
  {
   "cell_type": "code",
   "execution_count": null,
   "metadata": {
    "executionInfo": {
     "elapsed": 963,
     "status": "ok",
     "timestamp": 1603158064459,
     "user": {
      "displayName": "Nilava Kar",
      "photoUrl": "https://lh3.googleusercontent.com/-LtetLvd71MA/AAAAAAAAAAI/AAAAAAAAIJ8/ZzFR0tU6osg/s64/photo.jpg",
      "userId": "00608076695026843354"
     },
     "user_tz": -330
    },
    "id": "gURdeWUREpW6"
   },
   "outputs": [],
   "source": [
    "df_India['date'] = pd.to_datetime(df_India['date'])"
   ]
  },
  {
   "cell_type": "code",
   "execution_count": null,
   "metadata": {
    "colab": {
     "base_uri": "https://localhost:8080/",
     "height": 309
    },
    "executionInfo": {
     "elapsed": 1058,
     "status": "ok",
     "timestamp": 1603158066772,
     "user": {
      "displayName": "Nilava Kar",
      "photoUrl": "https://lh3.googleusercontent.com/-LtetLvd71MA/AAAAAAAAAAI/AAAAAAAAIJ8/ZzFR0tU6osg/s64/photo.jpg",
      "userId": "00608076695026843354"
     },
     "user_tz": -330
    },
    "id": "ePXS70QjFOmE",
    "outputId": "10915c14-271c-4954-8a39-e4728b319a91"
   },
   "outputs": [],
   "source": [
    "df_India.head()"
   ]
  },
  {
   "cell_type": "code",
   "execution_count": null,
   "metadata": {
    "executionInfo": {
     "elapsed": 1094,
     "status": "ok",
     "timestamp": 1603158082662,
     "user": {
      "displayName": "Nilava Kar",
      "photoUrl": "https://lh3.googleusercontent.com/-LtetLvd71MA/AAAAAAAAAAI/AAAAAAAAIJ8/ZzFR0tU6osg/s64/photo.jpg",
      "userId": "00608076695026843354"
     },
     "user_tz": -330
    },
    "id": "DO1r1u20OCKD"
   },
   "outputs": [],
   "source": [
    "df_India = df_India.drop(['population'], axis=1)"
   ]
  },
  {
   "cell_type": "code",
   "execution_count": null,
   "metadata": {
    "executionInfo": {
     "elapsed": 988,
     "status": "ok",
     "timestamp": 1603158084360,
     "user": {
      "displayName": "Nilava Kar",
      "photoUrl": "https://lh3.googleusercontent.com/-LtetLvd71MA/AAAAAAAAAAI/AAAAAAAAIJ8/ZzFR0tU6osg/s64/photo.jpg",
      "userId": "00608076695026843354"
     },
     "user_tz": -330
    },
    "id": "D_RBWYkBXe9I"
   },
   "outputs": [],
   "source": [
    "df_India = df_India.drop(['population_density'],axis=1)\n",
    "df_India = df_India.drop(['median_age'],axis=1)\n",
    "df_India = df_India.drop(['aged_65_older'],axis=1)\n",
    "df_India = df_India.drop(['aged_70_older'],axis=1)\n",
    "df_India = df_India.drop(['gdp_per_capita'],axis=1)\n",
    "df_India = df_India.drop(['extreme_poverty'],axis=1)\n",
    "df_India = df_India.drop(['cardiovasc_death_rate'],axis=1)\n",
    "df_India = df_India.drop(['tests_units'],axis=1)\n",
    "df_India = df_India.drop(['diabetes_prevalence'],axis=1)\n",
    "df_India = df_India.drop(['female_smokers'],axis=1)\n",
    "df_India = df_India.drop(['male_smokers'],axis=1)\n",
    "df_India = df_India.drop(['handwashing_facilities'],axis=1)\n",
    "df_India = df_India.drop(['hospital_beds_per_thousand'],axis=1)\n",
    "df_India = df_India.drop(['life_expectancy'],axis=1)\n",
    "df_India = df_India.drop(['human_development_index'],axis=1)\n"
   ]
  },
  {
   "cell_type": "code",
   "execution_count": null,
   "metadata": {
    "colab": {
     "base_uri": "https://localhost:8080/",
     "height": 713
    },
    "executionInfo": {
     "elapsed": 939,
     "status": "ok",
     "timestamp": 1603158087320,
     "user": {
      "displayName": "Nilava Kar",
      "photoUrl": "https://lh3.googleusercontent.com/-LtetLvd71MA/AAAAAAAAAAI/AAAAAAAAIJ8/ZzFR0tU6osg/s64/photo.jpg",
      "userId": "00608076695026843354"
     },
     "user_tz": -330
    },
    "id": "twsMAp34O7IM",
    "outputId": "712fc6a2-1834-44ce-ca5c-f94719b24c41"
   },
   "outputs": [],
   "source": [
    "df_India.corr()"
   ]
  },
  {
   "cell_type": "markdown",
   "metadata": {
    "colab": {
     "base_uri": "https://localhost:8080/",
     "height": 713
    },
    "executionInfo": {
     "elapsed": 939,
     "status": "ok",
     "timestamp": 1603158087320,
     "user": {
      "displayName": "Nilava Kar",
      "photoUrl": "https://lh3.googleusercontent.com/-LtetLvd71MA/AAAAAAAAAAI/AAAAAAAAIJ8/ZzFR0tU6osg/s64/photo.jpg",
      "userId": "00608076695026843354"
     },
     "user_tz": -330
    },
    "id": "twsMAp34O7IM",
    "outputId": "712fc6a2-1834-44ce-ca5c-f94719b24c41"
   },
   "source": [
    "## relplot"
   ]
  },
  {
   "cell_type": "code",
   "execution_count": null,
   "metadata": {
    "colab": {
     "base_uri": "https://localhost:8080/",
     "height": 401
    },
    "executionInfo": {
     "elapsed": 1023,
     "status": "ok",
     "timestamp": 1603158113100,
     "user": {
      "displayName": "Nilava Kar",
      "photoUrl": "https://lh3.googleusercontent.com/-LtetLvd71MA/AAAAAAAAAAI/AAAAAAAAIJ8/ZzFR0tU6osg/s64/photo.jpg",
      "userId": "00608076695026843354"
     },
     "user_tz": -330
    },
    "id": "rvRz3mbH3_yt",
    "outputId": "07b34eff-5a0e-45ab-8232-95e129089bf1"
   },
   "outputs": [],
   "source": [
    "sns.relplot(x=\"new_cases_smoothed\", y=\"new_deaths_smoothed\", data=df_India)"
   ]
  },
  {
   "cell_type": "code",
   "execution_count": null,
   "metadata": {
    "colab": {
     "base_uri": "https://localhost:8080/",
     "height": 401
    },
    "executionInfo": {
     "elapsed": 1098,
     "status": "ok",
     "timestamp": 1603158116657,
     "user": {
      "displayName": "Nilava Kar",
      "photoUrl": "https://lh3.googleusercontent.com/-LtetLvd71MA/AAAAAAAAAAI/AAAAAAAAIJ8/ZzFR0tU6osg/s64/photo.jpg",
      "userId": "00608076695026843354"
     },
     "user_tz": -330
    },
    "id": "KtgEh5eD6E59",
    "outputId": "ac3bc2e7-e18e-4fe9-8f9c-9d110c008fb4"
   },
   "outputs": [],
   "source": [
    "sns.relplot(x=\"total_deaths\",y=\"new_deaths\",data=df_India)"
   ]
  },
  {
   "cell_type": "code",
   "execution_count": null,
   "metadata": {
    "colab": {
     "base_uri": "https://localhost:8080/",
     "height": 401
    },
    "executionInfo": {
     "elapsed": 1069,
     "status": "ok",
     "timestamp": 1603158127005,
     "user": {
      "displayName": "Nilava Kar",
      "photoUrl": "https://lh3.googleusercontent.com/-LtetLvd71MA/AAAAAAAAAAI/AAAAAAAAIJ8/ZzFR0tU6osg/s64/photo.jpg",
      "userId": "00608076695026843354"
     },
     "user_tz": -330
    },
    "id": "eaXfYVMA6Uxy",
    "outputId": "6243cee3-f9cf-4993-d339-ce62a43c5ec2"
   },
   "outputs": [],
   "source": [
    "sns.relplot(x=\"positive_rate\",y=\"new_tests_smoothed_per_thousand\",data=df_India)"
   ]
  },
  {
   "cell_type": "code",
   "execution_count": null,
   "metadata": {
    "colab": {
     "base_uri": "https://localhost:8080/",
     "height": 401
    },
    "executionInfo": {
     "elapsed": 1498,
     "status": "ok",
     "timestamp": 1603115370776,
     "user": {
      "displayName": "Nilava Kar",
      "photoUrl": "https://lh3.googleusercontent.com/-LtetLvd71MA/AAAAAAAAAAI/AAAAAAAAIJ8/ZzFR0tU6osg/s64/photo.jpg",
      "userId": "00608076695026843354"
     },
     "user_tz": -330
    },
    "id": "Bg7e3oz96dHx",
    "outputId": "6e23f062-3905-4f2c-da0f-bac6aa2dfc32"
   },
   "outputs": [],
   "source": [
    "sns.relplot(x=\"positive_rate\",y=\"new_deaths\",data=df_India)"
   ]
  },
  {
   "cell_type": "code",
   "execution_count": null,
   "metadata": {
    "colab": {
     "base_uri": "https://localhost:8080/",
     "height": 389
    },
    "executionInfo": {
     "elapsed": 1441,
     "status": "ok",
     "timestamp": 1603115779690,
     "user": {
      "displayName": "Nilava Kar",
      "photoUrl": "https://lh3.googleusercontent.com/-LtetLvd71MA/AAAAAAAAAAI/AAAAAAAAIJ8/ZzFR0tU6osg/s64/photo.jpg",
      "userId": "00608076695026843354"
     },
     "user_tz": -330
    },
    "id": "5tjchHUEI3qm",
    "outputId": "40f96819-dbba-42b6-89cb-899a0174d03e"
   },
   "outputs": [],
   "source": [
    "sns.relplot(x=\"total_cases\",y=\"total_deaths\",data=df_India)"
   ]
  },
  {
   "cell_type": "code",
   "execution_count": null,
   "metadata": {
    "id": "97F78PEX6k0y"
   },
   "outputs": [],
   "source": [
    "df_India=df_India.set_index('date')"
   ]
  },
  {
   "cell_type": "markdown",
   "metadata": {
    "id": "97F78PEX6k0y"
   },
   "source": [
    "## Single Value plots"
   ]
  },
  {
   "cell_type": "markdown",
   "metadata": {
    "id": "97F78PEX6k0y"
   },
   "source": [
    "### For Positive rate"
   ]
  },
  {
   "cell_type": "code",
   "execution_count": null,
   "metadata": {
    "colab": {
     "base_uri": "https://localhost:8080/",
     "height": 393
    },
    "executionInfo": {
     "elapsed": 1428,
     "status": "ok",
     "timestamp": 1603115344351,
     "user": {
      "displayName": "Nilava Kar",
      "photoUrl": "https://lh3.googleusercontent.com/-LtetLvd71MA/AAAAAAAAAAI/AAAAAAAAIJ8/ZzFR0tU6osg/s64/photo.jpg",
      "userId": "00608076695026843354"
     },
     "user_tz": -330
    },
    "id": "i8kHcK8H6r6a",
    "outputId": "17e8a69b-4445-4262-9bc8-7a3848d97d7f"
   },
   "outputs": [],
   "source": [
    "df_India['positive_rate'].plot(figsize=(14,6))"
   ]
  },
  {
   "cell_type": "markdown",
   "metadata": {
    "colab": {
     "base_uri": "https://localhost:8080/",
     "height": 393
    },
    "executionInfo": {
     "elapsed": 1428,
     "status": "ok",
     "timestamp": 1603115344351,
     "user": {
      "displayName": "Nilava Kar",
      "photoUrl": "https://lh3.googleusercontent.com/-LtetLvd71MA/AAAAAAAAAAI/AAAAAAAAIJ8/ZzFR0tU6osg/s64/photo.jpg",
      "userId": "00608076695026843354"
     },
     "user_tz": -330
    },
    "id": "i8kHcK8H6r6a",
    "outputId": "17e8a69b-4445-4262-9bc8-7a3848d97d7f"
   },
   "source": [
    "### For new_deaths_smoothed"
   ]
  },
  {
   "cell_type": "code",
   "execution_count": null,
   "metadata": {
    "colab": {
     "base_uri": "https://localhost:8080/",
     "height": 393
    },
    "executionInfo": {
     "elapsed": 1434,
     "status": "ok",
     "timestamp": 1603115567363,
     "user": {
      "displayName": "Nilava Kar",
      "photoUrl": "https://lh3.googleusercontent.com/-LtetLvd71MA/AAAAAAAAAAI/AAAAAAAAIJ8/ZzFR0tU6osg/s64/photo.jpg",
      "userId": "00608076695026843354"
     },
     "user_tz": -330
    },
    "id": "xFiLb3yGIMbU",
    "outputId": "3280da94-b8f7-4feb-b08f-cd020144b773"
   },
   "outputs": [],
   "source": [
    "df_India['new_deaths_smoothed'].plot(figsize=(14,6))"
   ]
  },
  {
   "cell_type": "markdown",
   "metadata": {
    "colab": {
     "base_uri": "https://localhost:8080/",
     "height": 393
    },
    "executionInfo": {
     "elapsed": 1434,
     "status": "ok",
     "timestamp": 1603115567363,
     "user": {
      "displayName": "Nilava Kar",
      "photoUrl": "https://lh3.googleusercontent.com/-LtetLvd71MA/AAAAAAAAAAI/AAAAAAAAIJ8/ZzFR0tU6osg/s64/photo.jpg",
      "userId": "00608076695026843354"
     },
     "user_tz": -330
    },
    "id": "xFiLb3yGIMbU",
    "outputId": "3280da94-b8f7-4feb-b08f-cd020144b773"
   },
   "source": [
    "### For new_tests_smoothed_per_thousand"
   ]
  },
  {
   "cell_type": "code",
   "execution_count": null,
   "metadata": {
    "colab": {
     "base_uri": "https://localhost:8080/",
     "height": 393
    },
    "executionInfo": {
     "elapsed": 1404,
     "status": "ok",
     "timestamp": 1603116036422,
     "user": {
      "displayName": "Nilava Kar",
      "photoUrl": "https://lh3.googleusercontent.com/-LtetLvd71MA/AAAAAAAAAAI/AAAAAAAAIJ8/ZzFR0tU6osg/s64/photo.jpg",
      "userId": "00608076695026843354"
     },
     "user_tz": -330
    },
    "id": "UfhytrK1KE6Q",
    "outputId": "43f9399b-82d5-4c4f-bbe6-ab6e4fcf516b"
   },
   "outputs": [],
   "source": [
    "df_India['new_tests_smoothed_per_thousand'].plot(figsize=(14,6))"
   ]
  },
  {
   "cell_type": "markdown",
   "metadata": {
    "colab": {
     "base_uri": "https://localhost:8080/",
     "height": 393
    },
    "executionInfo": {
     "elapsed": 1404,
     "status": "ok",
     "timestamp": 1603116036422,
     "user": {
      "displayName": "Nilava Kar",
      "photoUrl": "https://lh3.googleusercontent.com/-LtetLvd71MA/AAAAAAAAAAI/AAAAAAAAIJ8/ZzFR0tU6osg/s64/photo.jpg",
      "userId": "00608076695026843354"
     },
     "user_tz": -330
    },
    "id": "UfhytrK1KE6Q",
    "outputId": "43f9399b-82d5-4c4f-bbe6-ab6e4fcf516b"
   },
   "source": [
    "### For total_tests"
   ]
  },
  {
   "cell_type": "code",
   "execution_count": null,
   "metadata": {
    "colab": {
     "base_uri": "https://localhost:8080/",
     "height": 403
    },
    "executionInfo": {
     "elapsed": 1657,
     "status": "ok",
     "timestamp": 1603116090117,
     "user": {
      "displayName": "Nilava Kar",
      "photoUrl": "https://lh3.googleusercontent.com/-LtetLvd71MA/AAAAAAAAAAI/AAAAAAAAIJ8/ZzFR0tU6osg/s64/photo.jpg",
      "userId": "00608076695026843354"
     },
     "user_tz": -330
    },
    "id": "Qrf99pJTKZEx",
    "outputId": "1d2b57b4-0796-4029-ef1e-265b071abab3"
   },
   "outputs": [],
   "source": [
    "df_India['total_tests'].plot(figsize=(14,6))"
   ]
  },
  {
   "cell_type": "markdown",
   "metadata": {
    "colab": {
     "base_uri": "https://localhost:8080/",
     "height": 403
    },
    "executionInfo": {
     "elapsed": 1657,
     "status": "ok",
     "timestamp": 1603116090117,
     "user": {
      "displayName": "Nilava Kar",
      "photoUrl": "https://lh3.googleusercontent.com/-LtetLvd71MA/AAAAAAAAAAI/AAAAAAAAIJ8/ZzFR0tU6osg/s64/photo.jpg",
      "userId": "00608076695026843354"
     },
     "user_tz": -330
    },
    "id": "Qrf99pJTKZEx",
    "outputId": "1d2b57b4-0796-4029-ef1e-265b071abab3"
   },
   "source": [
    "### For stringency_index"
   ]
  },
  {
   "cell_type": "code",
   "execution_count": null,
   "metadata": {
    "colab": {
     "base_uri": "https://localhost:8080/",
     "height": 393
    },
    "executionInfo": {
     "elapsed": 1359,
     "status": "ok",
     "timestamp": 1603117269094,
     "user": {
      "displayName": "Nilava Kar",
      "photoUrl": "https://lh3.googleusercontent.com/-LtetLvd71MA/AAAAAAAAAAI/AAAAAAAAIJ8/ZzFR0tU6osg/s64/photo.jpg",
      "userId": "00608076695026843354"
     },
     "user_tz": -330
    },
    "id": "nzVlA2W-OzxQ",
    "outputId": "8c632390-f150-4c41-e9cc-cd1ad2c1e367"
   },
   "outputs": [],
   "source": [
    "df_India['stringency_index'].plot(figsize=(14,6))"
   ]
  },
  {
   "cell_type": "markdown",
   "metadata": {
    "colab": {
     "base_uri": "https://localhost:8080/",
     "height": 393
    },
    "executionInfo": {
     "elapsed": 1359,
     "status": "ok",
     "timestamp": 1603117269094,
     "user": {
      "displayName": "Nilava Kar",
      "photoUrl": "https://lh3.googleusercontent.com/-LtetLvd71MA/AAAAAAAAAAI/AAAAAAAAIJ8/ZzFR0tU6osg/s64/photo.jpg",
      "userId": "00608076695026843354"
     },
     "user_tz": -330
    },
    "id": "nzVlA2W-OzxQ",
    "outputId": "8c632390-f150-4c41-e9cc-cd1ad2c1e367"
   },
   "source": [
    "### Relplot"
   ]
  },
  {
   "cell_type": "code",
   "execution_count": null,
   "metadata": {
    "colab": {
     "base_uri": "https://localhost:8080/",
     "height": 389
    },
    "executionInfo": {
     "elapsed": 1337,
     "status": "ok",
     "timestamp": 1603116136969,
     "user": {
      "displayName": "Nilava Kar",
      "photoUrl": "https://lh3.googleusercontent.com/-LtetLvd71MA/AAAAAAAAAAI/AAAAAAAAIJ8/ZzFR0tU6osg/s64/photo.jpg",
      "userId": "00608076695026843354"
     },
     "user_tz": -330
    },
    "id": "K2aWXTz269tR",
    "outputId": "c3e9fcb2-95d9-4150-d394-1043b68094e7"
   },
   "outputs": [],
   "source": [
    "sns.relplot(x=\"total_tests\",y=\"positive_rate\",data=df_India)"
   ]
  },
  {
   "cell_type": "code",
   "execution_count": null,
   "metadata": {
    "colab": {
     "base_uri": "https://localhost:8080/",
     "height": 389
    },
    "executionInfo": {
     "elapsed": 1652,
     "status": "ok",
     "timestamp": 1603116331780,
     "user": {
      "displayName": "Nilava Kar",
      "photoUrl": "https://lh3.googleusercontent.com/-LtetLvd71MA/AAAAAAAAAAI/AAAAAAAAIJ8/ZzFR0tU6osg/s64/photo.jpg",
      "userId": "00608076695026843354"
     },
     "user_tz": -330
    },
    "id": "1PnqXt1fGh0V",
    "outputId": "2a096cbc-7dad-4c72-f8df-c6cbe4e9ba5a"
   },
   "outputs": [],
   "source": [
    "sns.relplot(x=\"total_tests\",y=\"total_deaths_per_million\",data=df_India)"
   ]
  },
  {
   "cell_type": "code",
   "execution_count": null,
   "metadata": {
    "colab": {
     "base_uri": "https://localhost:8080/",
     "height": 1000,
     "output_embedded_package_id": "1V-CDy7X0CN_bAK0P3x7gZiCAVB5ieDG7"
    },
    "executionInfo": {
     "elapsed": 213638,
     "status": "ok",
     "timestamp": 1603117668131,
     "user": {
      "displayName": "Nilava Kar",
      "photoUrl": "https://lh3.googleusercontent.com/-LtetLvd71MA/AAAAAAAAAAI/AAAAAAAAIJ8/ZzFR0tU6osg/s64/photo.jpg",
      "userId": "00608076695026843354"
     },
     "user_tz": -330
    },
    "id": "uAUb95s9L4Of",
    "outputId": "bb3730b3-3387-449c-e934-ffa51b3f485b"
   },
   "outputs": [],
   "source": [
    "#sns.pairplot(df_India)"
   ]
  },
  {
   "cell_type": "code",
   "execution_count": null,
   "metadata": {
    "colab": {
     "base_uri": "https://localhost:8080/",
     "height": 389
    },
    "executionInfo": {
     "elapsed": 1349,
     "status": "ok",
     "timestamp": 1603118243413,
     "user": {
      "displayName": "Nilava Kar",
      "photoUrl": "https://lh3.googleusercontent.com/-LtetLvd71MA/AAAAAAAAAAI/AAAAAAAAIJ8/ZzFR0tU6osg/s64/photo.jpg",
      "userId": "00608076695026843354"
     },
     "user_tz": -330
    },
    "id": "cux596oyRorF",
    "outputId": "18f98a03-55c5-4365-b0d8-5012ff003dd4"
   },
   "outputs": [],
   "source": [
    "sns.relplot(x=\"total_tests\",y=\"tests_per_case\",data=df_India)"
   ]
  },
  {
   "cell_type": "code",
   "execution_count": null,
   "metadata": {
    "colab": {
     "base_uri": "https://localhost:8080/",
     "height": 277
    },
    "executionInfo": {
     "elapsed": 1318,
     "status": "ok",
     "timestamp": 1603118721973,
     "user": {
      "displayName": "Nilava Kar",
      "photoUrl": "https://lh3.googleusercontent.com/-LtetLvd71MA/AAAAAAAAAAI/AAAAAAAAIJ8/ZzFR0tU6osg/s64/photo.jpg",
      "userId": "00608076695026843354"
     },
     "user_tz": -330
    },
    "id": "A8Ykfm1ETDHF",
    "outputId": "4f281ac9-8a46-41dc-e591-e2fd27251459"
   },
   "outputs": [],
   "source": [
    "df.columns"
   ]
  },
  {
   "cell_type": "code",
   "execution_count": null,
   "metadata": {
    "colab": {
     "base_uri": "https://localhost:8080/",
     "height": 141
    },
    "executionInfo": {
     "elapsed": 961,
     "status": "ok",
     "timestamp": 1603158431228,
     "user": {
      "displayName": "Nilava Kar",
      "photoUrl": "https://lh3.googleusercontent.com/-LtetLvd71MA/AAAAAAAAAAI/AAAAAAAAIJ8/ZzFR0tU6osg/s64/photo.jpg",
      "userId": "00608076695026843354"
     },
     "user_tz": -330
    },
    "id": "17ke9HYdUnUs",
    "outputId": "94ce97c8-eaf3-4a4e-9b70-8263be85ce3f"
   },
   "outputs": [],
   "source": [
    "keep_columns=['iso_code', 'continent', 'location', 'date', 'total_cases','total_deaths','new_deaths_smoothed','population', 'population_density', 'median_age', 'aged_65_older',\n",
    "       'aged_70_older', 'gdp_per_capita', 'extreme_poverty',\n",
    "       'cardiovasc_death_rate', 'diabetes_prevalence', 'female_smokers',\n",
    "       'male_smokers', 'handwashing_facilities', 'hospital_beds_per_thousand',\n",
    "       'life_expectancy', 'human_development_index']\n",
    "df_use = df[keep_columns]\n",
    "df_use['date'] = pd.to_datetime(df_use['date'])\n"
   ]
  },
  {
   "cell_type": "code",
   "execution_count": null,
   "metadata": {
    "colab": {
     "base_uri": "https://localhost:8080/",
     "height": 520
    },
    "executionInfo": {
     "elapsed": 967,
     "status": "ok",
     "timestamp": 1603158441312,
     "user": {
      "displayName": "Nilava Kar",
      "photoUrl": "https://lh3.googleusercontent.com/-LtetLvd71MA/AAAAAAAAAAI/AAAAAAAAIJ8/ZzFR0tU6osg/s64/photo.jpg",
      "userId": "00608076695026843354"
     },
     "user_tz": -330
    },
    "id": "iG4wzHvJVYyC",
    "outputId": "509e6951-991e-4b3b-a7ae-4f5c90b7d6ed"
   },
   "outputs": [],
   "source": []
  },
  {
   "cell_type": "code",
   "execution_count": null,
   "metadata": {
    "executionInfo": {
     "elapsed": 959,
     "status": "ok",
     "timestamp": 1603158449724,
     "user": {
      "displayName": "Nilava Kar",
      "photoUrl": "https://lh3.googleusercontent.com/-LtetLvd71MA/AAAAAAAAAAI/AAAAAAAAIJ8/ZzFR0tU6osg/s64/photo.jpg",
      "userId": "00608076695026843354"
     },
     "user_tz": -330
    },
    "id": "6Ggd-4kZhIVj"
   },
   "outputs": [],
   "source": [
    "#df_use = df_use.set_index('date')"
   ]
  },
  {
   "cell_type": "code",
   "execution_count": null,
   "metadata": {
    "executionInfo": {
     "elapsed": 998,
     "status": "ok",
     "timestamp": 1603158453061,
     "user": {
      "displayName": "Nilava Kar",
      "photoUrl": "https://lh3.googleusercontent.com/-LtetLvd71MA/AAAAAAAAAAI/AAAAAAAAIJ8/ZzFR0tU6osg/s64/photo.jpg",
      "userId": "00608076695026843354"
     },
     "user_tz": -330
    },
    "id": "B1z4s6T-hOYM"
   },
   "outputs": [],
   "source": [
    "df_use = df_use.dropna()"
   ]
  },
  {
   "cell_type": "code",
   "execution_count": null,
   "metadata": {
    "colab": {
     "base_uri": "https://localhost:8080/",
     "height": 520
    },
    "executionInfo": {
     "elapsed": 965,
     "status": "ok",
     "timestamp": 1603158459897,
     "user": {
      "displayName": "Nilava Kar",
      "photoUrl": "https://lh3.googleusercontent.com/-LtetLvd71MA/AAAAAAAAAAI/AAAAAAAAIJ8/ZzFR0tU6osg/s64/photo.jpg",
      "userId": "00608076695026843354"
     },
     "user_tz": -330
    },
    "id": "WybaLnwwhahb",
    "outputId": "a7f0c029-0852-4fde-d44a-76062e3564d5"
   },
   "outputs": [],
   "source": [
    "df_use.info()"
   ]
  },
  {
   "cell_type": "code",
   "execution_count": null,
   "metadata": {
    "colab": {
     "base_uri": "https://localhost:8080/",
     "height": 52
    },
    "executionInfo": {
     "elapsed": 1457,
     "status": "ok",
     "timestamp": 1603123485019,
     "user": {
      "displayName": "Nilava Kar",
      "photoUrl": "https://lh3.googleusercontent.com/-LtetLvd71MA/AAAAAAAAAAI/AAAAAAAAIJ8/ZzFR0tU6osg/s64/photo.jpg",
      "userId": "00608076695026843354"
     },
     "user_tz": -330
    },
    "id": "Qa8zkYF-Ydpm",
    "outputId": "cabb03c6-27f2-4743-8c42-710d8f851023"
   },
   "outputs": [],
   "source": [
    "\n",
    "df_use.continent.unique()"
   ]
  },
  {
   "cell_type": "code",
   "execution_count": null,
   "metadata": {
    "colab": {
     "base_uri": "https://localhost:8080/",
     "height": 69
    },
    "executionInfo": {
     "elapsed": 969,
     "status": "ok",
     "timestamp": 1603158472830,
     "user": {
      "displayName": "Nilava Kar",
      "photoUrl": "https://lh3.googleusercontent.com/-LtetLvd71MA/AAAAAAAAAAI/AAAAAAAAIJ8/ZzFR0tU6osg/s64/photo.jpg",
      "userId": "00608076695026843354"
     },
     "user_tz": -330
    },
    "id": "3RaXePTgceEj",
    "outputId": "6a4cc0fc-abd6-445b-b0e8-e7b2badf86a1"
   },
   "outputs": [],
   "source": [
    "\n",
    "Asia = df_use[df_use['continent']=='Asia']\n",
    "Asia.location.unique()"
   ]
  },
  {
   "cell_type": "code",
   "execution_count": null,
   "metadata": {
    "colab": {
     "base_uri": "https://localhost:8080/",
     "height": 309
    },
    "executionInfo": {
     "elapsed": 1230,
     "status": "ok",
     "timestamp": 1603159904081,
     "user": {
      "displayName": "Nilava Kar",
      "photoUrl": "https://lh3.googleusercontent.com/-LtetLvd71MA/AAAAAAAAAAI/AAAAAAAAIJ8/ZzFR0tU6osg/s64/photo.jpg",
      "userId": "00608076695026843354"
     },
     "user_tz": -330
    },
    "id": "AoHAV4FNkgK3",
    "outputId": "eb906b37-e723-41ec-fc19-e0ea2843f279"
   },
   "outputs": [],
   "source": [
    "Asia.head()"
   ]
  },
  {
   "cell_type": "code",
   "execution_count": null,
   "metadata": {
    "colab": {
     "base_uri": "https://localhost:8080/",
     "height": 52
    },
    "executionInfo": {
     "elapsed": 968,
     "status": "ok",
     "timestamp": 1603129489442,
     "user": {
      "displayName": "Nilava Kar",
      "photoUrl": "https://lh3.googleusercontent.com/-LtetLvd71MA/AAAAAAAAAAI/AAAAAAAAIJ8/ZzFR0tU6osg/s64/photo.jpg",
      "userId": "00608076695026843354"
     },
     "user_tz": -330
    },
    "id": "jKrByhBQ9hjQ",
    "outputId": "fd3fe484-77b6-48d2-b886-d57fc13a88d2"
   },
   "outputs": [],
   "source": [
    "# Asia.median_age.unique()"
   ]
  },
  {
   "cell_type": "code",
   "execution_count": null,
   "metadata": {
    "executionInfo": {
     "elapsed": 940,
     "status": "ok",
     "timestamp": 1603158519320,
     "user": {
      "displayName": "Nilava Kar",
      "photoUrl": "https://lh3.googleusercontent.com/-LtetLvd71MA/AAAAAAAAAAI/AAAAAAAAIJ8/ZzFR0tU6osg/s64/photo.jpg",
      "userId": "00608076695026843354"
     },
     "user_tz": -330
    },
    "id": "G6yQuj1DzmdB"
   },
   "outputs": [],
   "source": [
    "dates=[]\n",
    "dates = list(Asia.date)"
   ]
  },
  {
   "cell_type": "code",
   "execution_count": null,
   "metadata": {
    "colab": {
     "base_uri": "https://localhost:8080/",
     "height": 1000
    },
    "executionInfo": {
     "elapsed": 1254,
     "status": "ok",
     "timestamp": 1603127130105,
     "user": {
      "displayName": "Nilava Kar",
      "photoUrl": "https://lh3.googleusercontent.com/-LtetLvd71MA/AAAAAAAAAAI/AAAAAAAAIJ8/ZzFR0tU6osg/s64/photo.jpg",
      "userId": "00608076695026843354"
     },
     "user_tz": -330
    },
    "id": "Zz0rcF8i0gcp",
    "outputId": "2f7af577-b68c-4dc6-8388-8ae7d0e6c1d1"
   },
   "outputs": [],
   "source": [
    "#dates"
   ]
  },
  {
   "cell_type": "code",
   "execution_count": null,
   "metadata": {
    "executionInfo": {
     "elapsed": 946,
     "status": "ok",
     "timestamp": 1603158530774,
     "user": {
      "displayName": "Nilava Kar",
      "photoUrl": "https://lh3.googleusercontent.com/-LtetLvd71MA/AAAAAAAAAAI/AAAAAAAAIJ8/ZzFR0tU6osg/s64/photo.jpg",
      "userId": "00608076695026843354"
     },
     "user_tz": -330
    },
    "id": "m7WRaeD1YCwC"
   },
   "outputs": [],
   "source": [
    "total_deaths1 = []\n",
    "Armenia = Asia[Asia['location']=='Armenia']\n",
    "Armenia = Armenia.dropna()\n",
    "pop = Armenia.population.unique()\n",
    "for total_deaths in Armenia.total_cases:\n",
    "  total = total_deaths/pop[0]\n",
    "  total_deaths1.append(total)\n",
    "total_deaths2 = []\n",
    "Nepal = Asia[Asia['location']=='Nepal']\n",
    "Nepal = Nepal.dropna()\n",
    "pop = Nepal.population.unique()\n",
    "for total_deaths in Nepal.total_cases:\n",
    "  total = total_deaths/pop[0]\n",
    "  total_deaths2.append(total)\n",
    "total_deaths3 = []\n",
    "India = Asia[Asia['location']=='India']\n",
    "India = India.dropna()\n",
    "pop = India.population.unique()\n",
    "for total_deaths in India.total_cases:\n",
    "  total = total_deaths/pop[0]\n",
    "  total_deaths3.append(total)\n",
    "total_deaths4 = []\n",
    "Pakistan = Asia[Asia['location']=='Pakistan']\n",
    "Pakistan = Pakistan.dropna()\n",
    "pop = Pakistan.population.unique()\n",
    "for total_deaths in Pakistan.total_cases:\n",
    "  total = total_deaths/pop[0]\n",
    "  total_deaths4.append(total)\n",
    "total_deaths5 = []\n",
    "Thailand = Asia[Asia['location']=='Thailand']\n",
    "Thaland = Thailand.dropna()\n",
    "pop = Thailand.population.unique()\n",
    "for total_deaths in Armenia.total_cases:\n",
    "  total = total_deaths/pop[0]\n",
    "  total_deaths5.append(total)\n",
    "total_deaths6 = []\n",
    "Vietnam = Asia[Asia['location']=='Vietnam']\n",
    "Vietnam = Vietnam.dropna()\n",
    "pop = Vietnam.population.unique()\n",
    "for total_deaths in Armenia.total_cases:\n",
    "  total = total_deaths/pop[0]\n",
    "  total_deaths6.append(total)\n"
   ]
  },
  {
   "cell_type": "code",
   "execution_count": null,
   "metadata": {
    "executionInfo": {
     "elapsed": 964,
     "status": "ok",
     "timestamp": 1603158537393,
     "user": {
      "displayName": "Nilava Kar",
      "photoUrl": "https://lh3.googleusercontent.com/-LtetLvd71MA/AAAAAAAAAAI/AAAAAAAAIJ8/ZzFR0tU6osg/s64/photo.jpg",
      "userId": "00608076695026843354"
     },
     "user_tz": -330
    },
    "id": "Hq8T0kQ5ajXr"
   },
   "outputs": [],
   "source": [
    "dataframe = list(zip(dates,total_deaths1,total_deaths2,total_deaths3,total_deaths4,total_deaths5,total_deaths6))"
   ]
  },
  {
   "cell_type": "markdown",
   "metadata": {
    "executionInfo": {
     "elapsed": 964,
     "status": "ok",
     "timestamp": 1603158537393,
     "user": {
      "displayName": "Nilava Kar",
      "photoUrl": "https://lh3.googleusercontent.com/-LtetLvd71MA/AAAAAAAAAAI/AAAAAAAAIJ8/ZzFR0tU6osg/s64/photo.jpg",
      "userId": "00608076695026843354"
     },
     "user_tz": -330
    },
    "id": "Hq8T0kQ5ajXr"
   },
   "source": [
    "#### Total_cases/population for Countries Armenia, Nepal, India, Pakistan, Thailand, Vietnam"
   ]
  },
  {
   "cell_type": "code",
   "execution_count": null,
   "metadata": {
    "executionInfo": {
     "elapsed": 927,
     "status": "ok",
     "timestamp": 1603158543521,
     "user": {
      "displayName": "Nilava Kar",
      "photoUrl": "https://lh3.googleusercontent.com/-LtetLvd71MA/AAAAAAAAAAI/AAAAAAAAIJ8/ZzFR0tU6osg/s64/photo.jpg",
      "userId": "00608076695026843354"
     },
     "user_tz": -330
    },
    "id": "N6NHOK6wwriT"
   },
   "outputs": [],
   "source": [
    "df_Asia = pd.DataFrame(dataframe, columns = ['Date','Armenia', 'Nepal','India','Pakistan','Thailand','Vietnam']) "
   ]
  },
  {
   "cell_type": "code",
   "execution_count": null,
   "metadata": {
    "colab": {
     "base_uri": "https://localhost:8080/",
     "height": 202
    },
    "executionInfo": {
     "elapsed": 991,
     "status": "ok",
     "timestamp": 1603158546187,
     "user": {
      "displayName": "Nilava Kar",
      "photoUrl": "https://lh3.googleusercontent.com/-LtetLvd71MA/AAAAAAAAAAI/AAAAAAAAIJ8/ZzFR0tU6osg/s64/photo.jpg",
      "userId": "00608076695026843354"
     },
     "user_tz": -330
    },
    "id": "VZwmVzZHxnP7",
    "outputId": "aea24848-57e2-4c8f-b86c-be2ee37da6f1"
   },
   "outputs": [],
   "source": [
    "#sns.lineplot(data=flights_wide)\n",
    "df_Asia.head()"
   ]
  },
  {
   "cell_type": "markdown",
   "metadata": {
    "colab": {
     "base_uri": "https://localhost:8080/",
     "height": 202
    },
    "executionInfo": {
     "elapsed": 991,
     "status": "ok",
     "timestamp": 1603158546187,
     "user": {
      "displayName": "Nilava Kar",
      "photoUrl": "https://lh3.googleusercontent.com/-LtetLvd71MA/AAAAAAAAAAI/AAAAAAAAIJ8/ZzFR0tU6osg/s64/photo.jpg",
      "userId": "00608076695026843354"
     },
     "user_tz": -330
    },
    "id": "VZwmVzZHxnP7",
    "outputId": "aea24848-57e2-4c8f-b86c-be2ee37da6f1"
   },
   "source": [
    "#### Setting index as date"
   ]
  },
  {
   "cell_type": "code",
   "execution_count": null,
   "metadata": {
    "executionInfo": {
     "elapsed": 976,
     "status": "ok",
     "timestamp": 1603158553939,
     "user": {
      "displayName": "Nilava Kar",
      "photoUrl": "https://lh3.googleusercontent.com/-LtetLvd71MA/AAAAAAAAAAI/AAAAAAAAIJ8/ZzFR0tU6osg/s64/photo.jpg",
      "userId": "00608076695026843354"
     },
     "user_tz": -330
    },
    "id": "GWYynndW1FgG"
   },
   "outputs": [],
   "source": [
    "df_Asia = df_Asia.set_index('Date')"
   ]
  },
  {
   "cell_type": "code",
   "execution_count": null,
   "metadata": {
    "colab": {
     "base_uri": "https://localhost:8080/",
     "height": 598
    },
    "executionInfo": {
     "elapsed": 2050,
     "status": "ok",
     "timestamp": 1603158655410,
     "user": {
      "displayName": "Nilava Kar",
      "photoUrl": "https://lh3.googleusercontent.com/-LtetLvd71MA/AAAAAAAAAAI/AAAAAAAAIJ8/ZzFR0tU6osg/s64/photo.jpg",
      "userId": "00608076695026843354"
     },
     "user_tz": -330
    },
    "id": "8h5GTS6a1MSG",
    "outputId": "f2827d38-3ec0-4d41-ad00-5bdf9018cffc"
   },
   "outputs": [],
   "source": [
    "dims = (18,12)\n",
    "fig, ax = plt.subplots(figsize=dims)\n",
    "ax = sns.lineplot(ax=ax, data=df_Asia)\n",
    "plt.setp(ax.get_legend().get_texts(), fontsize='20')\n",
    "plt.setp(ax.get_legend().get_title(), fontsize='16')"
   ]
  },
  {
   "cell_type": "code",
   "execution_count": null,
   "metadata": {
    "colab": {
     "base_uri": "https://localhost:8080/",
     "height": 573
    },
    "executionInfo": {
     "elapsed": 1334,
     "status": "ok",
     "timestamp": 1603158808952,
     "user": {
      "displayName": "Nilava Kar",
      "photoUrl": "https://lh3.googleusercontent.com/-LtetLvd71MA/AAAAAAAAAAI/AAAAAAAAIJ8/ZzFR0tU6osg/s64/photo.jpg",
      "userId": "00608076695026843354"
     },
     "user_tz": -330
    },
    "id": "ppcSzJt0tR9m",
    "outputId": "0abc26ad-b401-423a-b42d-4a9b0747827f"
   },
   "outputs": [],
   "source": [
    "dims = (18,12)\n",
    "fig, ax = plt.subplots(figsize=dims)\n",
    "ax = sns.barplot(ax=ax, data=df_Asia)"
   ]
  },
  {
   "cell_type": "code",
   "execution_count": null,
   "metadata": {
    "executionInfo": {
     "elapsed": 990,
     "status": "ok",
     "timestamp": 1603160404215,
     "user": {
      "displayName": "Nilava Kar",
      "photoUrl": "https://lh3.googleusercontent.com/-LtetLvd71MA/AAAAAAAAAAI/AAAAAAAAIJ8/ZzFR0tU6osg/s64/photo.jpg",
      "userId": "00608076695026843354"
     },
     "user_tz": -330
    },
    "id": "ctecir7Wt1Zw"
   },
   "outputs": [],
   "source": [
    "dates_new=[]\n",
    "dates_new = list(Asia.date)\n",
    "new_deaths1 = []\n",
    "Armenia_new = Asia[Asia['location']=='Armenia']\n",
    "Armenia = Armenia_new.dropna()\n",
    "for new_deaths in Armenia.new_deaths_smoothed:\n",
    "  new_deaths1.append(new_deaths)\n",
    "new_deaths2 = []\n",
    "Nepal_new = Asia[Asia['location']=='Nepal']\n",
    "Nepal = Nepal_new.dropna()\n",
    "for new_deaths in Nepal.new_deaths_smoothed:\n",
    "  new_deaths2.append(new_deaths)\n",
    "new_deaths3 = []\n",
    "India = Asia[Asia['location']=='India']\n",
    "India = India.dropna()\n",
    "for new_deaths in India.new_deaths_smoothed:\n",
    "  new_deaths3.append(new_deaths)\n",
    "new_deaths4 = []\n",
    "Pakistan = Asia[Asia['location']=='Pakistan']\n",
    "Pakistan = Pakistan.dropna()\n",
    "for new_deaths in Pakistan.new_deaths_smoothed:\n",
    "  new_deaths4.append(new_deaths)\n",
    "new_deaths5 = []\n",
    "Thailand = Asia[Asia['location']=='Thailand']\n",
    "Thaland = Thailand.dropna()\n",
    "for new_deaths in Armenia.new_deaths_smoothed:\n",
    "  new_deaths5.append(new_deaths)\n",
    "new_deaths6 = []\n",
    "Vietnam = Asia[Asia['location']=='Vietnam']\n",
    "Vietnam = Vietnam.dropna()\n",
    "for new_deaths in Vietnam.new_deaths_smoothed:\n",
    "  new_deaths6.append(new_deaths)\n"
   ]
  },
  {
   "cell_type": "code",
   "execution_count": null,
   "metadata": {
    "executionInfo": {
     "elapsed": 949,
     "status": "ok",
     "timestamp": 1603160406752,
     "user": {
      "displayName": "Nilava Kar",
      "photoUrl": "https://lh3.googleusercontent.com/-LtetLvd71MA/AAAAAAAAAAI/AAAAAAAAIJ8/ZzFR0tU6osg/s64/photo.jpg",
      "userId": "00608076695026843354"
     },
     "user_tz": -330
    },
    "id": "Kz6P7G9PvqaU"
   },
   "outputs": [],
   "source": [
    "dataframe_new = list(zip(dates_new,new_deaths1,new_deaths2,new_deaths3,new_deaths4,new_deaths5,new_deaths6))"
   ]
  },
  {
   "cell_type": "code",
   "execution_count": null,
   "metadata": {
    "executionInfo": {
     "elapsed": 931,
     "status": "ok",
     "timestamp": 1603160437106,
     "user": {
      "displayName": "Nilava Kar",
      "photoUrl": "https://lh3.googleusercontent.com/-LtetLvd71MA/AAAAAAAAAAI/AAAAAAAAIJ8/ZzFR0tU6osg/s64/photo.jpg",
      "userId": "00608076695026843354"
     },
     "user_tz": -330
    },
    "id": "m7joJXW9vuF7"
   },
   "outputs": [],
   "source": [
    "df_Asia_new = pd.DataFrame(dataframe_new, columns = ['Date','Armenia', 'Nepal','India','Pakistan','Thailand','Vietnam']) "
   ]
  },
  {
   "cell_type": "code",
   "execution_count": null,
   "metadata": {
    "executionInfo": {
     "elapsed": 1035,
     "status": "ok",
     "timestamp": 1603160439013,
     "user": {
      "displayName": "Nilava Kar",
      "photoUrl": "https://lh3.googleusercontent.com/-LtetLvd71MA/AAAAAAAAAAI/AAAAAAAAIJ8/ZzFR0tU6osg/s64/photo.jpg",
      "userId": "00608076695026843354"
     },
     "user_tz": -330
    },
    "id": "kbwsE-9oweXO"
   },
   "outputs": [],
   "source": [
    "df_Asia_new = df_Asia_new.set_index('Date')"
   ]
  },
  {
   "cell_type": "markdown",
   "metadata": {
    "executionInfo": {
     "elapsed": 1035,
     "status": "ok",
     "timestamp": 1603160439013,
     "user": {
      "displayName": "Nilava Kar",
      "photoUrl": "https://lh3.googleusercontent.com/-LtetLvd71MA/AAAAAAAAAAI/AAAAAAAAIJ8/ZzFR0tU6osg/s64/photo.jpg",
      "userId": "00608076695026843354"
     },
     "user_tz": -330
    },
    "id": "kbwsE-9oweXO"
   },
   "source": [
    "#### new_deaths_smoothed for Armenia, Nepal, India, Pakistan, Thailand, Vietnam"
   ]
  },
  {
   "cell_type": "code",
   "execution_count": null,
   "metadata": {
    "colab": {
     "base_uri": "https://localhost:8080/",
     "height": 577
    },
    "executionInfo": {
     "elapsed": 1053,
     "status": "ok",
     "timestamp": 1603160440928,
     "user": {
      "displayName": "Nilava Kar",
      "photoUrl": "https://lh3.googleusercontent.com/-LtetLvd71MA/AAAAAAAAAAI/AAAAAAAAIJ8/ZzFR0tU6osg/s64/photo.jpg",
      "userId": "00608076695026843354"
     },
     "user_tz": -330
    },
    "id": "qWRrVQebwtpp",
    "outputId": "bc07d6c5-94f1-451d-fb16-7d6f41cd19d9"
   },
   "outputs": [],
   "source": [
    "dims = (18,12)\n",
    "fig, ax = plt.subplots(figsize=dims)\n",
    "ax = sns.barplot(ax=ax, data=df_Asia_new)"
   ]
  },
  {
   "cell_type": "code",
   "execution_count": null,
   "metadata": {
    "executionInfo": {
     "elapsed": 958,
     "status": "ok",
     "timestamp": 1603160467916,
     "user": {
      "displayName": "Nilava Kar",
      "photoUrl": "https://lh3.googleusercontent.com/-LtetLvd71MA/AAAAAAAAAAI/AAAAAAAAIJ8/ZzFR0tU6osg/s64/photo.jpg",
      "userId": "00608076695026843354"
     },
     "user_tz": -330
    },
    "id": "DRxcntmH-G4C"
   },
   "outputs": [],
   "source": [
    "Asia_sam = Asia[Asia['location'].isin(['Armenia','Nepal','India','Pakistan','Thailand','Vietnam'])]"
   ]
  },
  {
   "cell_type": "code",
   "execution_count": null,
   "metadata": {
    "colab": {
     "base_uri": "https://localhost:8080/",
     "height": 52
    },
    "executionInfo": {
     "elapsed": 1061,
     "status": "ok",
     "timestamp": 1603160727969,
     "user": {
      "displayName": "Nilava Kar",
      "photoUrl": "https://lh3.googleusercontent.com/-LtetLvd71MA/AAAAAAAAAAI/AAAAAAAAIJ8/ZzFR0tU6osg/s64/photo.jpg",
      "userId": "00608076695026843354"
     },
     "user_tz": -330
    },
    "id": "qNt-2IMx-O9X",
    "outputId": "d81e8ef8-3e0d-472c-cbc1-b5315d48f423"
   },
   "outputs": [],
   "source": [
    "Asia_sam.location.unique()"
   ]
  },
  {
   "cell_type": "markdown",
   "metadata": {
    "colab": {
     "base_uri": "https://localhost:8080/",
     "height": 52
    },
    "executionInfo": {
     "elapsed": 1061,
     "status": "ok",
     "timestamp": 1603160727969,
     "user": {
      "displayName": "Nilava Kar",
      "photoUrl": "https://lh3.googleusercontent.com/-LtetLvd71MA/AAAAAAAAAAI/AAAAAAAAIJ8/ZzFR0tU6osg/s64/photo.jpg",
      "userId": "00608076695026843354"
     },
     "user_tz": -330
    },
    "id": "qNt-2IMx-O9X",
    "outputId": "d81e8ef8-3e0d-472c-cbc1-b5315d48f423"
   },
   "source": [
    "#### percentage of people who are over 65 years for the above given countries in the above given order  "
   ]
  },
  {
   "cell_type": "code",
   "execution_count": null,
   "metadata": {
    "colab": {
     "base_uri": "https://localhost:8080/",
     "height": 35
    },
    "executionInfo": {
     "elapsed": 1392,
     "status": "ok",
     "timestamp": 1603160761800,
     "user": {
      "displayName": "Nilava Kar",
      "photoUrl": "https://lh3.googleusercontent.com/-LtetLvd71MA/AAAAAAAAAAI/AAAAAAAAIJ8/ZzFR0tU6osg/s64/photo.jpg",
      "userId": "00608076695026843354"
     },
     "user_tz": -330
    },
    "id": "xWG_yvjX-0Q7",
    "outputId": "4218ba3a-232a-4902-8241-4fb9a65f6b35"
   },
   "outputs": [],
   "source": [
    "Asia_sam.aged_65_older.unique()"
   ]
  },
  {
   "cell_type": "markdown",
   "metadata": {
    "colab": {
     "base_uri": "https://localhost:8080/",
     "height": 35
    },
    "executionInfo": {
     "elapsed": 1392,
     "status": "ok",
     "timestamp": 1603160761800,
     "user": {
      "displayName": "Nilava Kar",
      "photoUrl": "https://lh3.googleusercontent.com/-LtetLvd71MA/AAAAAAAAAAI/AAAAAAAAIJ8/ZzFR0tU6osg/s64/photo.jpg",
      "userId": "00608076695026843354"
     },
     "user_tz": -330
    },
    "id": "xWG_yvjX-0Q7",
    "outputId": "4218ba3a-232a-4902-8241-4fb9a65f6b35"
   },
   "source": [
    "#### percentage of male smokers for the above given countries in the above given order  "
   ]
  },
  {
   "cell_type": "code",
   "execution_count": null,
   "metadata": {
    "colab": {
     "base_uri": "https://localhost:8080/",
     "height": 35
    },
    "executionInfo": {
     "elapsed": 960,
     "status": "ok",
     "timestamp": 1603160832872,
     "user": {
      "displayName": "Nilava Kar",
      "photoUrl": "https://lh3.googleusercontent.com/-LtetLvd71MA/AAAAAAAAAAI/AAAAAAAAIJ8/ZzFR0tU6osg/s64/photo.jpg",
      "userId": "00608076695026843354"
     },
     "user_tz": -330
    },
    "id": "YDgi9--71CS6",
    "outputId": "47d05774-f3d0-46d9-8fc2-4f9d7aee8a65"
   },
   "outputs": [],
   "source": [
    "Asia_sam.male_smokers.unique()"
   ]
  },
  {
   "cell_type": "code",
   "execution_count": null,
   "metadata": {
    "colab": {
     "base_uri": "https://localhost:8080/",
     "height": 35
    },
    "executionInfo": {
     "elapsed": 2883,
     "status": "ok",
     "timestamp": 1603161106846,
     "user": {
      "displayName": "Nilava Kar",
      "photoUrl": "https://lh3.googleusercontent.com/-LtetLvd71MA/AAAAAAAAAAI/AAAAAAAAIJ8/ZzFR0tU6osg/s64/photo.jpg",
      "userId": "00608076695026843354"
     },
     "user_tz": -330
    },
    "id": "yUCVfmkt2PW0",
    "outputId": "99576f36-cc67-482a-f980-eb4612363b68"
   },
   "outputs": [],
   "source": [
    "##Asia_sam.female_smokers.unique()"
   ]
  },
  {
   "cell_type": "markdown",
   "metadata": {
    "colab": {
     "base_uri": "https://localhost:8080/",
     "height": 35
    },
    "executionInfo": {
     "elapsed": 2883,
     "status": "ok",
     "timestamp": 1603161106846,
     "user": {
      "displayName": "Nilava Kar",
      "photoUrl": "https://lh3.googleusercontent.com/-LtetLvd71MA/AAAAAAAAAAI/AAAAAAAAIJ8/ZzFR0tU6osg/s64/photo.jpg",
      "userId": "00608076695026843354"
     },
     "user_tz": -330
    },
    "id": "yUCVfmkt2PW0",
    "outputId": "99576f36-cc67-482a-f980-eb4612363b68"
   },
   "source": [
    "#### cardiovascular death rate for the above given countries in the above given order  "
   ]
  },
  {
   "cell_type": "code",
   "execution_count": null,
   "metadata": {
    "colab": {
     "base_uri": "https://localhost:8080/",
     "height": 35
    },
    "executionInfo": {
     "elapsed": 986,
     "status": "ok",
     "timestamp": 1603161212145,
     "user": {
      "displayName": "Nilava Kar",
      "photoUrl": "https://lh3.googleusercontent.com/-LtetLvd71MA/AAAAAAAAAAI/AAAAAAAAIJ8/ZzFR0tU6osg/s64/photo.jpg",
      "userId": "00608076695026843354"
     },
     "user_tz": -330
    },
    "id": "HGAMNVwX2l-R",
    "outputId": "c7f2e7f6-ca81-4609-fdbb-ad1db1e85d52"
   },
   "outputs": [],
   "source": [
    "Asia_sam.cardiovasc_death_rate.unique()"
   ]
  },
  {
   "cell_type": "markdown",
   "metadata": {
    "colab": {
     "base_uri": "https://localhost:8080/",
     "height": 35
    },
    "executionInfo": {
     "elapsed": 986,
     "status": "ok",
     "timestamp": 1603161212145,
     "user": {
      "displayName": "Nilava Kar",
      "photoUrl": "https://lh3.googleusercontent.com/-LtetLvd71MA/AAAAAAAAAAI/AAAAAAAAIJ8/ZzFR0tU6osg/s64/photo.jpg",
      "userId": "00608076695026843354"
     },
     "user_tz": -330
    },
    "id": "HGAMNVwX2l-R",
    "outputId": "c7f2e7f6-ca81-4609-fdbb-ad1db1e85d52"
   },
   "source": [
    "#### percentage of people living in extreme poverty for the above given countries in the above given order  "
   ]
  },
  {
   "cell_type": "code",
   "execution_count": null,
   "metadata": {
    "colab": {
     "base_uri": "https://localhost:8080/",
     "height": 35
    },
    "executionInfo": {
     "elapsed": 1431,
     "status": "ok",
     "timestamp": 1603161350840,
     "user": {
      "displayName": "Nilava Kar",
      "photoUrl": "https://lh3.googleusercontent.com/-LtetLvd71MA/AAAAAAAAAAI/AAAAAAAAIJ8/ZzFR0tU6osg/s64/photo.jpg",
      "userId": "00608076695026843354"
     },
     "user_tz": -330
    },
    "id": "RWcKaYPE28nT",
    "outputId": "01d3bfe4-5d85-44c9-f969-c7f21a71b1f3"
   },
   "outputs": [],
   "source": [
    "Asia_sam.extreme_poverty.unique()"
   ]
  },
  {
   "cell_type": "code",
   "execution_count": null,
   "metadata": {
    "colab": {
     "base_uri": "https://localhost:8080/",
     "height": 35
    },
    "executionInfo": {
     "elapsed": 930,
     "status": "ok",
     "timestamp": 1603161400810,
     "user": {
      "displayName": "Nilava Kar",
      "photoUrl": "https://lh3.googleusercontent.com/-LtetLvd71MA/AAAAAAAAAAI/AAAAAAAAIJ8/ZzFR0tU6osg/s64/photo.jpg",
      "userId": "00608076695026843354"
     },
     "user_tz": -330
    },
    "id": "TrJUfMsA1XK0",
    "outputId": "ae368fed-2806-4f1e-a503-cdf2d7e58b03"
   },
   "outputs": [],
   "source": [
    "# Asia_sam[Asia_sam['location']=='Pakistan'].extreme_poverty.unique()"
   ]
  },
  {
   "cell_type": "markdown",
   "metadata": {
    "colab": {
     "base_uri": "https://localhost:8080/",
     "height": 35
    },
    "executionInfo": {
     "elapsed": 930,
     "status": "ok",
     "timestamp": 1603161400810,
     "user": {
      "displayName": "Nilava Kar",
      "photoUrl": "https://lh3.googleusercontent.com/-LtetLvd71MA/AAAAAAAAAAI/AAAAAAAAIJ8/ZzFR0tU6osg/s64/photo.jpg",
      "userId": "00608076695026843354"
     },
     "user_tz": -330
    },
    "id": "TrJUfMsA1XK0",
    "outputId": "ae368fed-2806-4f1e-a503-cdf2d7e58b03"
   },
   "source": [
    "#### GDP per capita for the above given countries in the above given order  "
   ]
  },
  {
   "cell_type": "code",
   "execution_count": null,
   "metadata": {
    "colab": {
     "base_uri": "https://localhost:8080/",
     "height": 35
    },
    "executionInfo": {
     "elapsed": 933,
     "status": "ok",
     "timestamp": 1603161460125,
     "user": {
      "displayName": "Nilava Kar",
      "photoUrl": "https://lh3.googleusercontent.com/-LtetLvd71MA/AAAAAAAAAAI/AAAAAAAAIJ8/ZzFR0tU6osg/s64/photo.jpg",
      "userId": "00608076695026843354"
     },
     "user_tz": -330
    },
    "id": "e7i4zZP53kBY",
    "outputId": "220e82e5-6c1f-421f-f2bd-d2884123026b"
   },
   "outputs": [],
   "source": [
    "Asia_sam.gdp_per_capita.unique()"
   ]
  },
  {
   "cell_type": "markdown",
   "metadata": {
    "colab": {
     "base_uri": "https://localhost:8080/",
     "height": 35
    },
    "executionInfo": {
     "elapsed": 933,
     "status": "ok",
     "timestamp": 1603161460125,
     "user": {
      "displayName": "Nilava Kar",
      "photoUrl": "https://lh3.googleusercontent.com/-LtetLvd71MA/AAAAAAAAAAI/AAAAAAAAIJ8/ZzFR0tU6osg/s64/photo.jpg",
      "userId": "00608076695026843354"
     },
     "user_tz": -330
    },
    "id": "e7i4zZP53kBY",
    "outputId": "220e82e5-6c1f-421f-f2bd-d2884123026b"
   },
   "source": [
    "#### Number of hospital beds available per thousand people for the above given countries in the above given order  "
   ]
  },
  {
   "cell_type": "code",
   "execution_count": 56,
   "metadata": {
    "colab": {
     "base_uri": "https://localhost:8080/",
     "height": 35
    },
    "executionInfo": {
     "elapsed": 926,
     "status": "ok",
     "timestamp": 1603161548380,
     "user": {
      "displayName": "Nilava Kar",
      "photoUrl": "https://lh3.googleusercontent.com/-LtetLvd71MA/AAAAAAAAAAI/AAAAAAAAIJ8/ZzFR0tU6osg/s64/photo.jpg",
      "userId": "00608076695026843354"
     },
     "user_tz": -330
    },
    "id": "nMNIQJuz3udQ",
    "outputId": "1cfb4cd2-dfa4-4a60-d89a-442581a8463d"
   },
   "outputs": [
    {
     "data": {
      "text/plain": [
       "array([4.2 , 0.53, 0.3 , 0.6 , 2.1 , 2.6 ])"
      ]
     },
     "execution_count": 56,
     "metadata": {},
     "output_type": "execute_result"
    }
   ],
   "source": [
    "Asia_sam.hospital_beds_per_thousand.unique()"
   ]
  },
  {
   "cell_type": "markdown",
   "metadata": {
    "colab": {
     "base_uri": "https://localhost:8080/",
     "height": 35
    },
    "executionInfo": {
     "elapsed": 926,
     "status": "ok",
     "timestamp": 1603161548380,
     "user": {
      "displayName": "Nilava Kar",
      "photoUrl": "https://lh3.googleusercontent.com/-LtetLvd71MA/AAAAAAAAAAI/AAAAAAAAIJ8/ZzFR0tU6osg/s64/photo.jpg",
      "userId": "00608076695026843354"
     },
     "user_tz": -330
    },
    "id": "nMNIQJuz3udQ",
    "outputId": "1cfb4cd2-dfa4-4a60-d89a-442581a8463d"
   },
   "source": [
    "#### Average life expectancy of a person living in these countries "
   ]
  },
  {
   "cell_type": "code",
   "execution_count": 58,
   "metadata": {
    "colab": {
     "base_uri": "https://localhost:8080/",
     "height": 35
    },
    "executionInfo": {
     "elapsed": 1021,
     "status": "ok",
     "timestamp": 1603161617989,
     "user": {
      "displayName": "Nilava Kar",
      "photoUrl": "https://lh3.googleusercontent.com/-LtetLvd71MA/AAAAAAAAAAI/AAAAAAAAIJ8/ZzFR0tU6osg/s64/photo.jpg",
      "userId": "00608076695026843354"
     },
     "user_tz": -330
    },
    "id": "D3iGSxww4Fcx",
    "outputId": "82ddef1a-c033-4608-8ba5-fee3ea032b01"
   },
   "outputs": [
    {
     "data": {
      "text/plain": [
       "array([75.09, 69.66, 70.78, 67.27, 77.15, 75.4 ])"
      ]
     },
     "execution_count": 58,
     "metadata": {},
     "output_type": "execute_result"
    }
   ],
   "source": [
    "Asia_sam.life_expectancy.unique()"
   ]
  },
  {
   "cell_type": "markdown",
   "metadata": {
    "colab": {
     "base_uri": "https://localhost:8080/",
     "height": 35
    },
    "executionInfo": {
     "elapsed": 1021,
     "status": "ok",
     "timestamp": 1603161617989,
     "user": {
      "displayName": "Nilava Kar",
      "photoUrl": "https://lh3.googleusercontent.com/-LtetLvd71MA/AAAAAAAAAAI/AAAAAAAAIJ8/ZzFR0tU6osg/s64/photo.jpg",
      "userId": "00608076695026843354"
     },
     "user_tz": -330
    },
    "id": "D3iGSxww4Fcx",
    "outputId": "82ddef1a-c033-4608-8ba5-fee3ea032b01"
   },
   "source": [
    "#### Human development Index of each country, Armenia and Thailand have the same HDI value"
   ]
  },
  {
   "cell_type": "code",
   "execution_count": 59,
   "metadata": {
    "colab": {
     "base_uri": "https://localhost:8080/",
     "height": 35
    },
    "executionInfo": {
     "elapsed": 955,
     "status": "ok",
     "timestamp": 1603161673969,
     "user": {
      "displayName": "Nilava Kar",
      "photoUrl": "https://lh3.googleusercontent.com/-LtetLvd71MA/AAAAAAAAAAI/AAAAAAAAIJ8/ZzFR0tU6osg/s64/photo.jpg",
      "userId": "00608076695026843354"
     },
     "user_tz": -330
    },
    "id": "lG8wUPJ44Rr5",
    "outputId": "be68fbf7-19c4-4354-baee-1d5dc3a0f351"
   },
   "outputs": [
    {
     "data": {
      "text/plain": [
       "array([0.755, 0.64 , 0.574, 0.562, 0.694])"
      ]
     },
     "execution_count": 59,
     "metadata": {},
     "output_type": "execute_result"
    }
   ],
   "source": [
    "Asia_sam.human_development_index.unique()"
   ]
  },
  {
   "cell_type": "code",
   "execution_count": 66,
   "metadata": {
    "colab": {
     "base_uri": "https://localhost:8080/",
     "height": 35
    },
    "executionInfo": {
     "elapsed": 1265,
     "status": "ok",
     "timestamp": 1603161761728,
     "user": {
      "displayName": "Nilava Kar",
      "photoUrl": "https://lh3.googleusercontent.com/-LtetLvd71MA/AAAAAAAAAAI/AAAAAAAAIJ8/ZzFR0tU6osg/s64/photo.jpg",
      "userId": "00608076695026843354"
     },
     "user_tz": -330
    },
    "id": "3SCnaCxN4raI",
    "outputId": "26c33334-e12d-43d3-dd60-8658bb6dae45"
   },
   "outputs": [],
   "source": [
    "#Asia_sam[Asia_sam['location']=='Pakistan'].human_development_index.unique()"
   ]
  },
  {
   "cell_type": "code",
   "execution_count": 67,
   "metadata": {
    "colab": {
     "base_uri": "https://localhost:8080/",
     "height": 35
    },
    "executionInfo": {
     "elapsed": 966,
     "status": "ok",
     "timestamp": 1603161783723,
     "user": {
      "displayName": "Nilava Kar",
      "photoUrl": "https://lh3.googleusercontent.com/-LtetLvd71MA/AAAAAAAAAAI/AAAAAAAAIJ8/ZzFR0tU6osg/s64/photo.jpg",
      "userId": "00608076695026843354"
     },
     "user_tz": -330
    },
    "id": "RLoHFDlU4zKu",
    "outputId": "a5048ea5-398e-4d73-9d31-2a1dbf995116"
   },
   "outputs": [],
   "source": [
    "#Asia_sam[Asia_sam['location']=='Nepal'].human_development_index.unique()"
   ]
  },
  {
   "cell_type": "code",
   "execution_count": 68,
   "metadata": {
    "colab": {
     "base_uri": "https://localhost:8080/",
     "height": 35
    },
    "executionInfo": {
     "elapsed": 1071,
     "status": "ok",
     "timestamp": 1603161810116,
     "user": {
      "displayName": "Nilava Kar",
      "photoUrl": "https://lh3.googleusercontent.com/-LtetLvd71MA/AAAAAAAAAAI/AAAAAAAAIJ8/ZzFR0tU6osg/s64/photo.jpg",
      "userId": "00608076695026843354"
     },
     "user_tz": -330
    },
    "id": "80ncxaMU45-0",
    "outputId": "e8106739-2bf5-4d5c-83cd-bffcec3eda9d"
   },
   "outputs": [],
   "source": [
    "#Asia_sam[Asia_sam['location']=='India'].human_development_index.unique()"
   ]
  },
  {
   "cell_type": "code",
   "execution_count": 69,
   "metadata": {
    "colab": {
     "base_uri": "https://localhost:8080/",
     "height": 35
    },
    "executionInfo": {
     "elapsed": 1156,
     "status": "ok",
     "timestamp": 1603161857228,
     "user": {
      "displayName": "Nilava Kar",
      "photoUrl": "https://lh3.googleusercontent.com/-LtetLvd71MA/AAAAAAAAAAI/AAAAAAAAIJ8/ZzFR0tU6osg/s64/photo.jpg",
      "userId": "00608076695026843354"
     },
     "user_tz": -330
    },
    "id": "9NPfWZyt4_yE",
    "outputId": "53a4a2c9-9b43-4904-e433-52eec6f559bf"
   },
   "outputs": [],
   "source": [
    "#Asia_sam[Asia_sam['location']=='Vietnam'].human_development_index.unique()"
   ]
  },
  {
   "cell_type": "code",
   "execution_count": 70,
   "metadata": {
    "colab": {
     "base_uri": "https://localhost:8080/",
     "height": 35
    },
    "executionInfo": {
     "elapsed": 961,
     "status": "ok",
     "timestamp": 1603161888751,
     "user": {
      "displayName": "Nilava Kar",
      "photoUrl": "https://lh3.googleusercontent.com/-LtetLvd71MA/AAAAAAAAAAI/AAAAAAAAIJ8/ZzFR0tU6osg/s64/photo.jpg",
      "userId": "00608076695026843354"
     },
     "user_tz": -330
    },
    "id": "rX82UZEz5MMO",
    "outputId": "452572d7-691b-4d98-b54c-a4c3c8405110"
   },
   "outputs": [],
   "source": [
    "#Asia_sam[Asia_sam['location']=='Armenia'].human_development_index.unique()"
   ]
  },
  {
   "cell_type": "code",
   "execution_count": null,
   "metadata": {},
   "outputs": [],
   "source": []
  }
 ],
 "metadata": {
  "colab": {
   "authorship_tag": "ABX9TyNBeebddQtny/RfoXGMOaBk",
   "collapsed_sections": [],
   "mount_file_id": "1gCPqpZEBr0pLNYGV74h4YJ2iY3ToJOTn",
   "name": "Covid19.ipynb",
   "provenance": [],
   "toc_visible": true
  },
  "kernelspec": {
   "display_name": "Python 3",
   "language": "python",
   "name": "python3"
  },
  "language_info": {
   "codemirror_mode": {
    "name": "ipython",
    "version": 3
   },
   "file_extension": ".py",
   "mimetype": "text/x-python",
   "name": "python",
   "nbconvert_exporter": "python",
   "pygments_lexer": "ipython3",
   "version": "3.8.3"
  }
 },
 "nbformat": 4,
 "nbformat_minor": 4
}
